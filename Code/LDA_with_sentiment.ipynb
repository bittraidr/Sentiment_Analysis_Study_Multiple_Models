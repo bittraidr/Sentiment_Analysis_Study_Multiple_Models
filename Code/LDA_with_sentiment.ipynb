{
 "cells": [
  {
   "cell_type": "markdown",
   "id": "76979d5f-cf1e-4b0e-bef2-826ece0da8e0",
   "metadata": {
    "tags": []
   },
   "source": [
    "# <span style=\"color:Green\">*** GIZMO ***</span>"
   ]
  },
  {
   "cell_type": "markdown",
   "id": "3d68ae15-2ed6-4e42-ae71-7a6148e730c4",
   "metadata": {},
   "source": [
    "_______"
   ]
  },
  {
   "cell_type": "markdown",
   "id": "be6f216b-b17a-4fa5-9617-43b253332173",
   "metadata": {
    "tags": []
   },
   "source": [
    "## Project Overview"
   ]
  },
  {
   "cell_type": "markdown",
   "id": "276a622e-0d70-454f-9e77-98de35760fde",
   "metadata": {
    "jp-MarkdownHeadingCollapsed": true,
    "tags": []
   },
   "source": [
    "### Objective: \n",
    "Find out if sentiment analysis impacts our model. Utilizing machine learning techniques to analyze financial news headlines for predicting sentiment and its impact on price fluctuations in the US economy and stock market."
   ]
  },
  {
   "cell_type": "markdown",
   "id": "7235eafb-3a72-4194-a9e9-d25d26ed3217",
   "metadata": {
    "tags": []
   },
   "source": [
    "### Business Purpose: \n",
    "Investment strategies may be significantly improved by factoring public sentiment of financial performance. To test our hypothesis, we develop a trading tool that accounts for public sentiment from Tesla (TSLA) and market trends in the investment strategy, to determine whether it improves trading returns."
   ]
  },
  {
   "cell_type": "markdown",
   "id": "433e60b8-5e95-4e39-8bd9-ac8a447edcf9",
   "metadata": {},
   "source": [
    "______"
   ]
  },
  {
   "cell_type": "markdown",
   "id": "bbff4d86-fa6d-4fba-9725-3b3bc27b4b89",
   "metadata": {
    "tags": []
   },
   "source": [
    "# <span style=\"color:Blue\">Data Preparation</span>"
   ]
  },
  {
   "cell_type": "markdown",
   "id": "fd8b6ea3-4d81-4f08-bd81-adc2d668846c",
   "metadata": {
    "tags": []
   },
   "source": [
    "## Import Dependendies"
   ]
  },
  {
   "cell_type": "code",
   "execution_count": 1,
   "id": "4a1af236-86cb-4b24-92ed-a3fe564f59db",
   "metadata": {},
   "outputs": [],
   "source": [
    "import datetime as dt\n",
    "import numpy as np\n",
    "import pandas as pd\n",
    "import re\n",
    "import yfinance as y\n",
    "import matplotlib.pyplot as plt\n",
    "\n",
    "from pathlib import Path\n",
    "from textblob import TextBlob\n",
    "from pandas.tseries.offsets import DateOffset\n",
    "from vaderSentiment.vaderSentiment import SentimentIntensityAnalyzer\n",
    "from sklearn import tree, svm\n",
    "from sklearn.preprocessing import StandardScaler\n",
    "from sklearn.model_selection import train_test_split\n",
    "from sklearn.metrics import confusion_matrix, accuracy_score, classification_report\n",
    "from sklearn.discriminant_analysis import LinearDiscriminantAnalysis\n",
    "from sklearn.decomposition import PCA\n",
    "\n",
    "# Ignore all warnings within this code block\n",
    "import warnings\n",
    "warnings.filterwarnings(\"ignore\")"
   ]
  },
  {
   "cell_type": "markdown",
   "id": "8e7c41a3-cf3e-4f51-ba28-58f323d0c80e",
   "metadata": {
    "tags": []
   },
   "source": [
    "## Import Aggregated Data"
   ]
  },
  {
   "cell_type": "code",
   "execution_count": 2,
   "id": "45dd257a-baa7-41d0-b572-ee64cd41c1c1",
   "metadata": {},
   "outputs": [
    {
     "data": {
      "text/html": [
       "<div>\n",
       "<style scoped>\n",
       "    .dataframe tbody tr th:only-of-type {\n",
       "        vertical-align: middle;\n",
       "    }\n",
       "\n",
       "    .dataframe tbody tr th {\n",
       "        vertical-align: top;\n",
       "    }\n",
       "\n",
       "    .dataframe thead th {\n",
       "        text-align: right;\n",
       "    }\n",
       "</style>\n",
       "<table border=\"1\" class=\"dataframe\">\n",
       "  <thead>\n",
       "    <tr style=\"text-align: right;\">\n",
       "      <th></th>\n",
       "      <th>Time</th>\n",
       "      <th>Headline</th>\n",
       "      <th>SP500 Close</th>\n",
       "      <th>Volume</th>\n",
       "      <th>TSLA Close</th>\n",
       "      <th>Volume.1</th>\n",
       "    </tr>\n",
       "  </thead>\n",
       "  <tbody>\n",
       "    <tr>\n",
       "      <th>0</th>\n",
       "      <td>2017-12-18</td>\n",
       "      <td>Brace yourself for the next Brexit faultline: ...</td>\n",
       "      <td>268.200012</td>\n",
       "      <td>83653600.0</td>\n",
       "      <td>22.591333</td>\n",
       "      <td>82143000.0</td>\n",
       "    </tr>\n",
       "    <tr>\n",
       "      <th>1</th>\n",
       "      <td>2017-12-19</td>\n",
       "      <td>First pilots, now cabin crew – Ryanair to reco...</td>\n",
       "      <td>267.170013</td>\n",
       "      <td>82382900.0</td>\n",
       "      <td>22.073334</td>\n",
       "      <td>102375000.0</td>\n",
       "    </tr>\n",
       "    <tr>\n",
       "      <th>2</th>\n",
       "      <td>2017-12-20</td>\n",
       "      <td>Nearly 45,000 UK retailers in financial distre...</td>\n",
       "      <td>267.029999</td>\n",
       "      <td>76751500.0</td>\n",
       "      <td>21.931999</td>\n",
       "      <td>89307000.0</td>\n",
       "    </tr>\n",
       "    <tr>\n",
       "      <th>3</th>\n",
       "      <td>2017-12-21</td>\n",
       "      <td>Last-minute Christmas shopping guide: there is...</td>\n",
       "      <td>267.579987</td>\n",
       "      <td>67032300.0</td>\n",
       "      <td>22.110666</td>\n",
       "      <td>65778000.0</td>\n",
       "    </tr>\n",
       "    <tr>\n",
       "      <th>4</th>\n",
       "      <td>2017-12-22</td>\n",
       "      <td>Cramer: Never buy a stock all at once — you'll...</td>\n",
       "      <td>267.510010</td>\n",
       "      <td>78720900.0</td>\n",
       "      <td>21.680000</td>\n",
       "      <td>63237000.0</td>\n",
       "    </tr>\n",
       "  </tbody>\n",
       "</table>\n",
       "</div>"
      ],
      "text/plain": [
       "         Time                                           Headline  SP500 Close  \\\n",
       "0  2017-12-18  Brace yourself for the next Brexit faultline: ...   268.200012   \n",
       "1  2017-12-19  First pilots, now cabin crew – Ryanair to reco...   267.170013   \n",
       "2  2017-12-20  Nearly 45,000 UK retailers in financial distre...   267.029999   \n",
       "3  2017-12-21  Last-minute Christmas shopping guide: there is...   267.579987   \n",
       "4  2017-12-22  Cramer: Never buy a stock all at once — you'll...   267.510010   \n",
       "\n",
       "       Volume  TSLA Close     Volume.1  \n",
       "0  83653600.0   22.591333   82143000.0  \n",
       "1  82382900.0   22.073334  102375000.0  \n",
       "2  76751500.0   21.931999   89307000.0  \n",
       "3  67032300.0   22.110666   65778000.0  \n",
       "4  78720900.0   21.680000   63237000.0  "
      ]
     },
     "execution_count": 2,
     "metadata": {},
     "output_type": "execute_result"
    }
   ],
   "source": [
    "# All data was acquired, combined and cleaned. This is the import of the \"combined_csv\" the final extract of that preprocessing.\n",
    "sentiment_df=pd.read_csv(Path(\"../Resources/combined_csv.csv\"))\n",
    "sentiment_df.head()"
   ]
  },
  {
   "cell_type": "markdown",
   "id": "3e1a667e-7777-4883-8d0c-4d31ac78ab5e",
   "metadata": {
    "tags": []
   },
   "source": [
    "## Obtain Sentiment Analysis Features"
   ]
  },
  {
   "cell_type": "code",
   "execution_count": 3,
   "id": "669c96db-a171-4c62-801e-49f95b4c752c",
   "metadata": {},
   "outputs": [],
   "source": [
    "# obtain polarity and subjectivity scores (potentially factor volume of information in the sentiment analysis)\n",
    "# create a function to calculate the subjectivity\n",
    "def calculate_subjectivity(headlines):\n",
    "    return TextBlob(headlines).sentiment.subjectivity\n",
    "\n",
    "# create a function to calculate the subjectivity\n",
    "def calculate_polarity(headlines):\n",
    "    return TextBlob(headlines).sentiment.polarity"
   ]
  },
  {
   "cell_type": "code",
   "execution_count": 4,
   "id": "9d94268e-78e5-4ed9-91cb-6dddaa14ff51",
   "metadata": {},
   "outputs": [],
   "source": [
    "# create two new columns \"Subjectivity\" and \"Polarity\"\n",
    "sentiment_df[\"Subjectivity\"] = sentiment_df[\"Headline\"].apply(calculate_subjectivity)\n",
    "sentiment_df[\"Polarity\"] = sentiment_df[\"Headline\"].apply(calculate_polarity)"
   ]
  },
  {
   "cell_type": "code",
   "execution_count": 5,
   "id": "99a535cc-3e80-47a8-8ae8-32b9a83aceae",
   "metadata": {},
   "outputs": [],
   "source": [
    "# create function to get the sentiment scores \n",
    "def get_scores(headlines):\n",
    "    get_score= SentimentIntensityAnalyzer()\n",
    "    sentiment=get_score.polarity_scores(headlines)\n",
    "    return sentiment"
   ]
  },
  {
   "cell_type": "code",
   "execution_count": 6,
   "id": "46ea57d4-ae13-4387-93c4-2c1439d1f787",
   "metadata": {},
   "outputs": [],
   "source": [
    "# get daily sentiment scores\n",
    "compound = []\n",
    "neg = []\n",
    "pos = []\n",
    "neu = []\n",
    "score = 0\n",
    "\n",
    "for x in range(0, len(sentiment_df[\"Headline\"])):\n",
    "    score = get_scores(sentiment_df[\"Headline\"][x])\n",
    "    compound.append(score[\"compound\"])\n",
    "    neg.append(score[\"neg\"])\n",
    "    neu.append(score[\"neu\"])\n",
    "    pos.append(score[\"pos\"])"
   ]
  },
  {
   "cell_type": "code",
   "execution_count": 7,
   "id": "f4c8a4d8-afc6-45a3-bd54-a0b2f6870e94",
   "metadata": {},
   "outputs": [
    {
     "data": {
      "text/html": [
       "<div>\n",
       "<style scoped>\n",
       "    .dataframe tbody tr th:only-of-type {\n",
       "        vertical-align: middle;\n",
       "    }\n",
       "\n",
       "    .dataframe tbody tr th {\n",
       "        vertical-align: top;\n",
       "    }\n",
       "\n",
       "    .dataframe thead th {\n",
       "        text-align: right;\n",
       "    }\n",
       "</style>\n",
       "<table border=\"1\" class=\"dataframe\">\n",
       "  <thead>\n",
       "    <tr style=\"text-align: right;\">\n",
       "      <th></th>\n",
       "      <th>Time</th>\n",
       "      <th>Headline</th>\n",
       "      <th>SP500 Close</th>\n",
       "      <th>Volume</th>\n",
       "      <th>TSLA Close</th>\n",
       "      <th>Tvolume</th>\n",
       "      <th>Subjectivity</th>\n",
       "      <th>Polarity</th>\n",
       "      <th>compound</th>\n",
       "      <th>neg</th>\n",
       "      <th>pos</th>\n",
       "      <th>neu</th>\n",
       "    </tr>\n",
       "  </thead>\n",
       "  <tbody>\n",
       "    <tr>\n",
       "      <th>0</th>\n",
       "      <td>2017-12-18</td>\n",
       "      <td>Brace yourself for the next Brexit faultline: ...</td>\n",
       "      <td>268.200012</td>\n",
       "      <td>83653600.0</td>\n",
       "      <td>22.591333</td>\n",
       "      <td>82143000.0</td>\n",
       "      <td>0.349438</td>\n",
       "      <td>-0.000624</td>\n",
       "      <td>-0.9425</td>\n",
       "      <td>0.122</td>\n",
       "      <td>0.075</td>\n",
       "      <td>0.804</td>\n",
       "    </tr>\n",
       "    <tr>\n",
       "      <th>1</th>\n",
       "      <td>2017-12-19</td>\n",
       "      <td>First pilots, now cabin crew – Ryanair to reco...</td>\n",
       "      <td>267.170013</td>\n",
       "      <td>82382900.0</td>\n",
       "      <td>22.073334</td>\n",
       "      <td>102375000.0</td>\n",
       "      <td>0.303711</td>\n",
       "      <td>-0.043869</td>\n",
       "      <td>-0.9760</td>\n",
       "      <td>0.127</td>\n",
       "      <td>0.027</td>\n",
       "      <td>0.846</td>\n",
       "    </tr>\n",
       "    <tr>\n",
       "      <th>2</th>\n",
       "      <td>2017-12-20</td>\n",
       "      <td>Nearly 45,000 UK retailers in financial distre...</td>\n",
       "      <td>267.029999</td>\n",
       "      <td>76751500.0</td>\n",
       "      <td>21.931999</td>\n",
       "      <td>89307000.0</td>\n",
       "      <td>0.405042</td>\n",
       "      <td>-0.020270</td>\n",
       "      <td>-0.8761</td>\n",
       "      <td>0.104</td>\n",
       "      <td>0.077</td>\n",
       "      <td>0.818</td>\n",
       "    </tr>\n",
       "    <tr>\n",
       "      <th>3</th>\n",
       "      <td>2017-12-21</td>\n",
       "      <td>Last-minute Christmas shopping guide: there is...</td>\n",
       "      <td>267.579987</td>\n",
       "      <td>67032300.0</td>\n",
       "      <td>22.110666</td>\n",
       "      <td>65778000.0</td>\n",
       "      <td>0.522302</td>\n",
       "      <td>-0.036371</td>\n",
       "      <td>0.4404</td>\n",
       "      <td>0.094</td>\n",
       "      <td>0.113</td>\n",
       "      <td>0.793</td>\n",
       "    </tr>\n",
       "    <tr>\n",
       "      <th>4</th>\n",
       "      <td>2017-12-22</td>\n",
       "      <td>Cramer: Never buy a stock all at once — you'll...</td>\n",
       "      <td>267.510010</td>\n",
       "      <td>78720900.0</td>\n",
       "      <td>21.680000</td>\n",
       "      <td>63237000.0</td>\n",
       "      <td>0.429320</td>\n",
       "      <td>0.038917</td>\n",
       "      <td>-0.2362</td>\n",
       "      <td>0.096</td>\n",
       "      <td>0.108</td>\n",
       "      <td>0.797</td>\n",
       "    </tr>\n",
       "    <tr>\n",
       "      <th>...</th>\n",
       "      <td>...</td>\n",
       "      <td>...</td>\n",
       "      <td>...</td>\n",
       "      <td>...</td>\n",
       "      <td>...</td>\n",
       "      <td>...</td>\n",
       "      <td>...</td>\n",
       "      <td>...</td>\n",
       "      <td>...</td>\n",
       "      <td>...</td>\n",
       "      <td>...</td>\n",
       "      <td>...</td>\n",
       "    </tr>\n",
       "    <tr>\n",
       "      <th>642</th>\n",
       "      <td>2020-07-13</td>\n",
       "      <td>Luckin Coffee ousts chairman Lu, names Guo as ...</td>\n",
       "      <td>314.839996</td>\n",
       "      <td>102997500.0</td>\n",
       "      <td>99.804001</td>\n",
       "      <td>584781000.0</td>\n",
       "      <td>0.414809</td>\n",
       "      <td>0.140556</td>\n",
       "      <td>0.9773</td>\n",
       "      <td>0.100</td>\n",
       "      <td>0.123</td>\n",
       "      <td>0.777</td>\n",
       "    </tr>\n",
       "    <tr>\n",
       "      <th>643</th>\n",
       "      <td>2020-07-14</td>\n",
       "      <td>Google hit with 600,000 euro Belgian privacy f...</td>\n",
       "      <td>318.920013</td>\n",
       "      <td>93657000.0</td>\n",
       "      <td>101.120003</td>\n",
       "      <td>351271500.0</td>\n",
       "      <td>0.345320</td>\n",
       "      <td>0.057631</td>\n",
       "      <td>-0.9830</td>\n",
       "      <td>0.104</td>\n",
       "      <td>0.082</td>\n",
       "      <td>0.814</td>\n",
       "    </tr>\n",
       "    <tr>\n",
       "      <th>644</th>\n",
       "      <td>2020-07-15</td>\n",
       "      <td>Oil climbs 2% on U.S. stock draw but gains cap...</td>\n",
       "      <td>321.850006</td>\n",
       "      <td>87196500.0</td>\n",
       "      <td>103.067329</td>\n",
       "      <td>245517000.0</td>\n",
       "      <td>0.387709</td>\n",
       "      <td>0.012013</td>\n",
       "      <td>0.5514</td>\n",
       "      <td>0.127</td>\n",
       "      <td>0.128</td>\n",
       "      <td>0.745</td>\n",
       "    </tr>\n",
       "    <tr>\n",
       "      <th>645</th>\n",
       "      <td>2020-07-16</td>\n",
       "      <td>Morgan Stanley posts record profit on trading ...</td>\n",
       "      <td>320.790009</td>\n",
       "      <td>54622500.0</td>\n",
       "      <td>100.042664</td>\n",
       "      <td>214512000.0</td>\n",
       "      <td>0.393206</td>\n",
       "      <td>0.088800</td>\n",
       "      <td>-0.9979</td>\n",
       "      <td>0.141</td>\n",
       "      <td>0.088</td>\n",
       "      <td>0.771</td>\n",
       "    </tr>\n",
       "    <tr>\n",
       "      <th>646</th>\n",
       "      <td>2020-07-17</td>\n",
       "      <td>U.S. economy faces significant risks, long roa...</td>\n",
       "      <td>321.720001</td>\n",
       "      <td>62774900.0</td>\n",
       "      <td>100.056000</td>\n",
       "      <td>139950000.0</td>\n",
       "      <td>0.368399</td>\n",
       "      <td>0.026276</td>\n",
       "      <td>-0.9882</td>\n",
       "      <td>0.148</td>\n",
       "      <td>0.115</td>\n",
       "      <td>0.737</td>\n",
       "    </tr>\n",
       "  </tbody>\n",
       "</table>\n",
       "<p>647 rows × 12 columns</p>\n",
       "</div>"
      ],
      "text/plain": [
       "           Time                                           Headline  \\\n",
       "0    2017-12-18  Brace yourself for the next Brexit faultline: ...   \n",
       "1    2017-12-19  First pilots, now cabin crew – Ryanair to reco...   \n",
       "2    2017-12-20  Nearly 45,000 UK retailers in financial distre...   \n",
       "3    2017-12-21  Last-minute Christmas shopping guide: there is...   \n",
       "4    2017-12-22  Cramer: Never buy a stock all at once — you'll...   \n",
       "..          ...                                                ...   \n",
       "642  2020-07-13  Luckin Coffee ousts chairman Lu, names Guo as ...   \n",
       "643  2020-07-14  Google hit with 600,000 euro Belgian privacy f...   \n",
       "644  2020-07-15  Oil climbs 2% on U.S. stock draw but gains cap...   \n",
       "645  2020-07-16  Morgan Stanley posts record profit on trading ...   \n",
       "646  2020-07-17  U.S. economy faces significant risks, long roa...   \n",
       "\n",
       "     SP500 Close       Volume  TSLA Close      Tvolume  Subjectivity  \\\n",
       "0     268.200012   83653600.0   22.591333   82143000.0      0.349438   \n",
       "1     267.170013   82382900.0   22.073334  102375000.0      0.303711   \n",
       "2     267.029999   76751500.0   21.931999   89307000.0      0.405042   \n",
       "3     267.579987   67032300.0   22.110666   65778000.0      0.522302   \n",
       "4     267.510010   78720900.0   21.680000   63237000.0      0.429320   \n",
       "..           ...          ...         ...          ...           ...   \n",
       "642   314.839996  102997500.0   99.804001  584781000.0      0.414809   \n",
       "643   318.920013   93657000.0  101.120003  351271500.0      0.345320   \n",
       "644   321.850006   87196500.0  103.067329  245517000.0      0.387709   \n",
       "645   320.790009   54622500.0  100.042664  214512000.0      0.393206   \n",
       "646   321.720001   62774900.0  100.056000  139950000.0      0.368399   \n",
       "\n",
       "     Polarity  compound    neg    pos    neu  \n",
       "0   -0.000624   -0.9425  0.122  0.075  0.804  \n",
       "1   -0.043869   -0.9760  0.127  0.027  0.846  \n",
       "2   -0.020270   -0.8761  0.104  0.077  0.818  \n",
       "3   -0.036371    0.4404  0.094  0.113  0.793  \n",
       "4    0.038917   -0.2362  0.096  0.108  0.797  \n",
       "..        ...       ...    ...    ...    ...  \n",
       "642  0.140556    0.9773  0.100  0.123  0.777  \n",
       "643  0.057631   -0.9830  0.104  0.082  0.814  \n",
       "644  0.012013    0.5514  0.127  0.128  0.745  \n",
       "645  0.088800   -0.9979  0.141  0.088  0.771  \n",
       "646  0.026276   -0.9882  0.148  0.115  0.737  \n",
       "\n",
       "[647 rows x 12 columns]"
      ]
     },
     "execution_count": 7,
     "metadata": {},
     "output_type": "execute_result"
    }
   ],
   "source": [
    "# Add Column with sentiment scores\n",
    "sentiment_df[\"compound\"]= compound\n",
    "sentiment_df[\"neg\"]= neg\n",
    "sentiment_df[\"pos\"]= pos\n",
    "sentiment_df[\"neu\"]= neu\n",
    "\n",
    "# Assuming you have a DataFrame named 'sentiment_df'\n",
    "sentiment_df.rename(columns={'Volume.1': 'Tvolume'}, inplace=True)\n",
    "\n",
    "#Display Dataframe\n",
    "sentiment_df"
   ]
  },
  {
   "cell_type": "markdown",
   "id": "47f4d4a5-8809-43be-9ff9-823663be0e40",
   "metadata": {
    "tags": []
   },
   "source": [
    "## Calculate and Assign Features"
   ]
  },
  {
   "cell_type": "markdown",
   "id": "acb7c2c6-ad59-45b7-bc58-0f5b5a8d00d7",
   "metadata": {
    "tags": []
   },
   "source": [
    "### Baseline"
   ]
  },
  {
   "cell_type": "markdown",
   "id": "39183f6a-9f33-43e4-b81f-3861e4d0c325",
   "metadata": {},
   "source": [
    "Dropped the following features from the dataframe: \"SP500 Close\" and \"Volume\". Set the simple moving average (SMA) windows as the following: \"sma_short\" = 7 , \"sma_long\" = 60."
   ]
  },
  {
   "cell_type": "code",
   "execution_count": 8,
   "id": "cf5fbff7-04dc-4288-bd55-5362092a3232",
   "metadata": {},
   "outputs": [
    {
     "data": {
      "text/plain": [
       "dtype('int64')"
      ]
     },
     "metadata": {},
     "output_type": "display_data"
    },
    {
     "data": {
      "text/plain": [
       "dtype('int64')"
      ]
     },
     "metadata": {},
     "output_type": "display_data"
    }
   ],
   "source": [
    "# Calculate daily returns \n",
    "sentiment_df[\"daily returns\"]= sentiment_df[\"TSLA Close\"].pct_change()\n",
    "sentiment_df.drop(columns=[\"SP500 Close\", \"Volume\"], inplace = True)\n",
    "sentiment_df= sentiment_df.set_index(\"Time\")\n",
    "sentiment_df.index= pd.to_datetime(sentiment_df.index)\n",
    "\n",
    "# create label column add 1 when daily returns is positive and 0 when it is negative\n",
    "sentiment_df[\"label\"]= 0\n",
    "sentiment_df.loc[(sentiment_df[\"daily returns\"]> 0), 'label'] = 1\n",
    "\n",
    "# make a copy of the sentiment_df for adjusted models\n",
    "sentiment_2_df = sentiment_df.copy()\n",
    "\n",
    "# verify that label is int\n",
    "display(sentiment_df[\"label\"].dtype)\n",
    "display(sentiment_2_df[\"label\"].dtype)"
   ]
  },
  {
   "cell_type": "code",
   "execution_count": 9,
   "id": "7facfcdf-e612-46f8-b08f-2737397f29e3",
   "metadata": {},
   "outputs": [
    {
     "data": {
      "text/html": [
       "<div>\n",
       "<style scoped>\n",
       "    .dataframe tbody tr th:only-of-type {\n",
       "        vertical-align: middle;\n",
       "    }\n",
       "\n",
       "    .dataframe tbody tr th {\n",
       "        vertical-align: top;\n",
       "    }\n",
       "\n",
       "    .dataframe thead th {\n",
       "        text-align: right;\n",
       "    }\n",
       "</style>\n",
       "<table border=\"1\" class=\"dataframe\">\n",
       "  <thead>\n",
       "    <tr style=\"text-align: right;\">\n",
       "      <th></th>\n",
       "      <th>Headline</th>\n",
       "      <th>TSLA Close</th>\n",
       "      <th>Tvolume</th>\n",
       "      <th>Subjectivity</th>\n",
       "      <th>Polarity</th>\n",
       "      <th>compound</th>\n",
       "      <th>neg</th>\n",
       "      <th>pos</th>\n",
       "      <th>neu</th>\n",
       "      <th>daily returns</th>\n",
       "      <th>label</th>\n",
       "      <th>sma_short</th>\n",
       "      <th>sma_long</th>\n",
       "    </tr>\n",
       "    <tr>\n",
       "      <th>Time</th>\n",
       "      <th></th>\n",
       "      <th></th>\n",
       "      <th></th>\n",
       "      <th></th>\n",
       "      <th></th>\n",
       "      <th></th>\n",
       "      <th></th>\n",
       "      <th></th>\n",
       "      <th></th>\n",
       "      <th></th>\n",
       "      <th></th>\n",
       "      <th></th>\n",
       "      <th></th>\n",
       "    </tr>\n",
       "  </thead>\n",
       "  <tbody>\n",
       "    <tr>\n",
       "      <th>2018-03-19</th>\n",
       "      <td>January's record highs may have been the marke...</td>\n",
       "      <td>20.903999</td>\n",
       "      <td>112264500.0</td>\n",
       "      <td>0.396209</td>\n",
       "      <td>0.040144</td>\n",
       "      <td>-0.3551</td>\n",
       "      <td>0.118</td>\n",
       "      <td>0.111</td>\n",
       "      <td>0.771</td>\n",
       "      <td>-0.024241</td>\n",
       "      <td>0</td>\n",
       "      <td>21.920571</td>\n",
       "      <td>22.285689</td>\n",
       "    </tr>\n",
       "    <tr>\n",
       "      <th>2018-03-20</th>\n",
       "      <td>UK will always consider ways to improve data l...</td>\n",
       "      <td>20.703333</td>\n",
       "      <td>71464500.0</td>\n",
       "      <td>0.374032</td>\n",
       "      <td>0.028472</td>\n",
       "      <td>-0.9856</td>\n",
       "      <td>0.117</td>\n",
       "      <td>0.082</td>\n",
       "      <td>0.801</td>\n",
       "      <td>-0.009599</td>\n",
       "      <td>0</td>\n",
       "      <td>21.762286</td>\n",
       "      <td>22.254222</td>\n",
       "    </tr>\n",
       "    <tr>\n",
       "      <th>2018-03-21</th>\n",
       "      <td>Fed raises rates, signals confidence in streng...</td>\n",
       "      <td>21.101999</td>\n",
       "      <td>89376000.0</td>\n",
       "      <td>0.377280</td>\n",
       "      <td>0.073502</td>\n",
       "      <td>-0.9679</td>\n",
       "      <td>0.109</td>\n",
       "      <td>0.091</td>\n",
       "      <td>0.800</td>\n",
       "      <td>0.019256</td>\n",
       "      <td>1</td>\n",
       "      <td>21.486285</td>\n",
       "      <td>22.238033</td>\n",
       "    </tr>\n",
       "    <tr>\n",
       "      <th>2018-03-22</th>\n",
       "      <td>Self-driving car industry confronts trust issu...</td>\n",
       "      <td>20.606667</td>\n",
       "      <td>74097000.0</td>\n",
       "      <td>0.364351</td>\n",
       "      <td>0.060998</td>\n",
       "      <td>0.4632</td>\n",
       "      <td>0.129</td>\n",
       "      <td>0.124</td>\n",
       "      <td>0.747</td>\n",
       "      <td>-0.023473</td>\n",
       "      <td>0</td>\n",
       "      <td>21.174476</td>\n",
       "      <td>22.215944</td>\n",
       "    </tr>\n",
       "    <tr>\n",
       "      <th>2018-03-23</th>\n",
       "      <td>China urges U.S. away from 'brink' as Trump pi...</td>\n",
       "      <td>20.102667</td>\n",
       "      <td>99823500.0</td>\n",
       "      <td>0.410239</td>\n",
       "      <td>0.051506</td>\n",
       "      <td>-0.9812</td>\n",
       "      <td>0.107</td>\n",
       "      <td>0.080</td>\n",
       "      <td>0.813</td>\n",
       "      <td>-0.024458</td>\n",
       "      <td>0</td>\n",
       "      <td>20.935523</td>\n",
       "      <td>22.182478</td>\n",
       "    </tr>\n",
       "    <tr>\n",
       "      <th>...</th>\n",
       "      <td>...</td>\n",
       "      <td>...</td>\n",
       "      <td>...</td>\n",
       "      <td>...</td>\n",
       "      <td>...</td>\n",
       "      <td>...</td>\n",
       "      <td>...</td>\n",
       "      <td>...</td>\n",
       "      <td>...</td>\n",
       "      <td>...</td>\n",
       "      <td>...</td>\n",
       "      <td>...</td>\n",
       "      <td>...</td>\n",
       "    </tr>\n",
       "    <tr>\n",
       "      <th>2020-07-13</th>\n",
       "      <td>Luckin Coffee ousts chairman Lu, names Guo as ...</td>\n",
       "      <td>99.804001</td>\n",
       "      <td>584781000.0</td>\n",
       "      <td>0.414809</td>\n",
       "      <td>0.140556</td>\n",
       "      <td>0.9773</td>\n",
       "      <td>0.100</td>\n",
       "      <td>0.123</td>\n",
       "      <td>0.777</td>\n",
       "      <td>-0.030810</td>\n",
       "      <td>0</td>\n",
       "      <td>93.066382</td>\n",
       "      <td>61.753511</td>\n",
       "    </tr>\n",
       "    <tr>\n",
       "      <th>2020-07-14</th>\n",
       "      <td>Google hit with 600,000 euro Belgian privacy f...</td>\n",
       "      <td>101.120003</td>\n",
       "      <td>351271500.0</td>\n",
       "      <td>0.345320</td>\n",
       "      <td>0.057631</td>\n",
       "      <td>-0.9830</td>\n",
       "      <td>0.104</td>\n",
       "      <td>0.082</td>\n",
       "      <td>0.814</td>\n",
       "      <td>0.013186</td>\n",
       "      <td>1</td>\n",
       "      <td>96.001050</td>\n",
       "      <td>62.601189</td>\n",
       "    </tr>\n",
       "    <tr>\n",
       "      <th>2020-07-15</th>\n",
       "      <td>Oil climbs 2% on U.S. stock draw but gains cap...</td>\n",
       "      <td>103.067329</td>\n",
       "      <td>245517000.0</td>\n",
       "      <td>0.387709</td>\n",
       "      <td>0.012013</td>\n",
       "      <td>0.5514</td>\n",
       "      <td>0.127</td>\n",
       "      <td>0.128</td>\n",
       "      <td>0.745</td>\n",
       "      <td>0.019258</td>\n",
       "      <td>1</td>\n",
       "      <td>97.662287</td>\n",
       "      <td>63.489689</td>\n",
       "    </tr>\n",
       "    <tr>\n",
       "      <th>2020-07-16</th>\n",
       "      <td>Morgan Stanley posts record profit on trading ...</td>\n",
       "      <td>100.042664</td>\n",
       "      <td>214512000.0</td>\n",
       "      <td>0.393206</td>\n",
       "      <td>0.088800</td>\n",
       "      <td>-0.9979</td>\n",
       "      <td>0.141</td>\n",
       "      <td>0.088</td>\n",
       "      <td>0.771</td>\n",
       "      <td>-0.029347</td>\n",
       "      <td>0</td>\n",
       "      <td>98.717334</td>\n",
       "      <td>64.394044</td>\n",
       "    </tr>\n",
       "    <tr>\n",
       "      <th>2020-07-17</th>\n",
       "      <td>U.S. economy faces significant risks, long roa...</td>\n",
       "      <td>100.056000</td>\n",
       "      <td>139950000.0</td>\n",
       "      <td>0.368399</td>\n",
       "      <td>0.026276</td>\n",
       "      <td>-0.9882</td>\n",
       "      <td>0.148</td>\n",
       "      <td>0.115</td>\n",
       "      <td>0.737</td>\n",
       "      <td>0.000133</td>\n",
       "      <td>1</td>\n",
       "      <td>100.002667</td>\n",
       "      <td>65.248189</td>\n",
       "    </tr>\n",
       "  </tbody>\n",
       "</table>\n",
       "<p>588 rows × 13 columns</p>\n",
       "</div>"
      ],
      "text/plain": [
       "                                                     Headline  TSLA Close  \\\n",
       "Time                                                                        \n",
       "2018-03-19  January's record highs may have been the marke...   20.903999   \n",
       "2018-03-20  UK will always consider ways to improve data l...   20.703333   \n",
       "2018-03-21  Fed raises rates, signals confidence in streng...   21.101999   \n",
       "2018-03-22  Self-driving car industry confronts trust issu...   20.606667   \n",
       "2018-03-23  China urges U.S. away from 'brink' as Trump pi...   20.102667   \n",
       "...                                                       ...         ...   \n",
       "2020-07-13  Luckin Coffee ousts chairman Lu, names Guo as ...   99.804001   \n",
       "2020-07-14  Google hit with 600,000 euro Belgian privacy f...  101.120003   \n",
       "2020-07-15  Oil climbs 2% on U.S. stock draw but gains cap...  103.067329   \n",
       "2020-07-16  Morgan Stanley posts record profit on trading ...  100.042664   \n",
       "2020-07-17  U.S. economy faces significant risks, long roa...  100.056000   \n",
       "\n",
       "                Tvolume  Subjectivity  Polarity  compound    neg    pos  \\\n",
       "Time                                                                      \n",
       "2018-03-19  112264500.0      0.396209  0.040144   -0.3551  0.118  0.111   \n",
       "2018-03-20   71464500.0      0.374032  0.028472   -0.9856  0.117  0.082   \n",
       "2018-03-21   89376000.0      0.377280  0.073502   -0.9679  0.109  0.091   \n",
       "2018-03-22   74097000.0      0.364351  0.060998    0.4632  0.129  0.124   \n",
       "2018-03-23   99823500.0      0.410239  0.051506   -0.9812  0.107  0.080   \n",
       "...                 ...           ...       ...       ...    ...    ...   \n",
       "2020-07-13  584781000.0      0.414809  0.140556    0.9773  0.100  0.123   \n",
       "2020-07-14  351271500.0      0.345320  0.057631   -0.9830  0.104  0.082   \n",
       "2020-07-15  245517000.0      0.387709  0.012013    0.5514  0.127  0.128   \n",
       "2020-07-16  214512000.0      0.393206  0.088800   -0.9979  0.141  0.088   \n",
       "2020-07-17  139950000.0      0.368399  0.026276   -0.9882  0.148  0.115   \n",
       "\n",
       "              neu  daily returns  label   sma_short   sma_long  \n",
       "Time                                                            \n",
       "2018-03-19  0.771      -0.024241      0   21.920571  22.285689  \n",
       "2018-03-20  0.801      -0.009599      0   21.762286  22.254222  \n",
       "2018-03-21  0.800       0.019256      1   21.486285  22.238033  \n",
       "2018-03-22  0.747      -0.023473      0   21.174476  22.215944  \n",
       "2018-03-23  0.813      -0.024458      0   20.935523  22.182478  \n",
       "...           ...            ...    ...         ...        ...  \n",
       "2020-07-13  0.777      -0.030810      0   93.066382  61.753511  \n",
       "2020-07-14  0.814       0.013186      1   96.001050  62.601189  \n",
       "2020-07-15  0.745       0.019258      1   97.662287  63.489689  \n",
       "2020-07-16  0.771      -0.029347      0   98.717334  64.394044  \n",
       "2020-07-17  0.737       0.000133      1  100.002667  65.248189  \n",
       "\n",
       "[588 rows x 13 columns]"
      ]
     },
     "execution_count": 9,
     "metadata": {},
     "output_type": "execute_result"
    }
   ],
   "source": [
    "# calculate SMA short and SMA slow\n",
    "sentiment_df[\"sma_short\"]= sentiment_df.rolling(7)[\"TSLA Close\"].mean()\n",
    "sentiment_df[\"sma_long\"]= sentiment_df.rolling(60)[\"TSLA Close\"].mean()\n",
    "sentiment_df.dropna(inplace=True)\n",
    "sentiment_df"
   ]
  },
  {
   "cell_type": "markdown",
   "id": "c93911da-af05-422e-9db8-12643c5892ec",
   "metadata": {
    "tags": []
   },
   "source": [
    "### Adjusted"
   ]
  },
  {
   "cell_type": "markdown",
   "id": "81914d17-c615-4b20-8eac-da4c94cf2933",
   "metadata": {},
   "source": [
    "Set the simple moving average (SMA) windows as the following: \"sma_short\" = 7 , \"sma_long\" = 60."
   ]
  },
  {
   "cell_type": "code",
   "execution_count": 10,
   "id": "df67062b-c8d0-4008-a685-b15fefb4df39",
   "metadata": {},
   "outputs": [
    {
     "data": {
      "text/html": [
       "<div>\n",
       "<style scoped>\n",
       "    .dataframe tbody tr th:only-of-type {\n",
       "        vertical-align: middle;\n",
       "    }\n",
       "\n",
       "    .dataframe tbody tr th {\n",
       "        vertical-align: top;\n",
       "    }\n",
       "\n",
       "    .dataframe thead th {\n",
       "        text-align: right;\n",
       "    }\n",
       "</style>\n",
       "<table border=\"1\" class=\"dataframe\">\n",
       "  <thead>\n",
       "    <tr style=\"text-align: right;\">\n",
       "      <th></th>\n",
       "      <th>Headline</th>\n",
       "      <th>TSLA Close</th>\n",
       "      <th>Tvolume</th>\n",
       "      <th>Subjectivity</th>\n",
       "      <th>Polarity</th>\n",
       "      <th>compound</th>\n",
       "      <th>neg</th>\n",
       "      <th>pos</th>\n",
       "      <th>neu</th>\n",
       "      <th>daily returns</th>\n",
       "      <th>label</th>\n",
       "      <th>sma_short</th>\n",
       "      <th>sma_long</th>\n",
       "    </tr>\n",
       "    <tr>\n",
       "      <th>Time</th>\n",
       "      <th></th>\n",
       "      <th></th>\n",
       "      <th></th>\n",
       "      <th></th>\n",
       "      <th></th>\n",
       "      <th></th>\n",
       "      <th></th>\n",
       "      <th></th>\n",
       "      <th></th>\n",
       "      <th></th>\n",
       "      <th></th>\n",
       "      <th></th>\n",
       "      <th></th>\n",
       "    </tr>\n",
       "  </thead>\n",
       "  <tbody>\n",
       "    <tr>\n",
       "      <th>2018-03-19</th>\n",
       "      <td>January's record highs may have been the marke...</td>\n",
       "      <td>20.903999</td>\n",
       "      <td>112264500.0</td>\n",
       "      <td>0.396209</td>\n",
       "      <td>0.040144</td>\n",
       "      <td>-0.3551</td>\n",
       "      <td>0.118</td>\n",
       "      <td>0.111</td>\n",
       "      <td>0.771</td>\n",
       "      <td>-0.024241</td>\n",
       "      <td>0</td>\n",
       "      <td>21.920571</td>\n",
       "      <td>22.285689</td>\n",
       "    </tr>\n",
       "    <tr>\n",
       "      <th>2018-03-20</th>\n",
       "      <td>UK will always consider ways to improve data l...</td>\n",
       "      <td>20.703333</td>\n",
       "      <td>71464500.0</td>\n",
       "      <td>0.374032</td>\n",
       "      <td>0.028472</td>\n",
       "      <td>-0.9856</td>\n",
       "      <td>0.117</td>\n",
       "      <td>0.082</td>\n",
       "      <td>0.801</td>\n",
       "      <td>-0.009599</td>\n",
       "      <td>0</td>\n",
       "      <td>21.762286</td>\n",
       "      <td>22.254222</td>\n",
       "    </tr>\n",
       "    <tr>\n",
       "      <th>2018-03-21</th>\n",
       "      <td>Fed raises rates, signals confidence in streng...</td>\n",
       "      <td>21.101999</td>\n",
       "      <td>89376000.0</td>\n",
       "      <td>0.377280</td>\n",
       "      <td>0.073502</td>\n",
       "      <td>-0.9679</td>\n",
       "      <td>0.109</td>\n",
       "      <td>0.091</td>\n",
       "      <td>0.800</td>\n",
       "      <td>0.019256</td>\n",
       "      <td>1</td>\n",
       "      <td>21.486285</td>\n",
       "      <td>22.238033</td>\n",
       "    </tr>\n",
       "    <tr>\n",
       "      <th>2018-03-22</th>\n",
       "      <td>Self-driving car industry confronts trust issu...</td>\n",
       "      <td>20.606667</td>\n",
       "      <td>74097000.0</td>\n",
       "      <td>0.364351</td>\n",
       "      <td>0.060998</td>\n",
       "      <td>0.4632</td>\n",
       "      <td>0.129</td>\n",
       "      <td>0.124</td>\n",
       "      <td>0.747</td>\n",
       "      <td>-0.023473</td>\n",
       "      <td>0</td>\n",
       "      <td>21.174476</td>\n",
       "      <td>22.215944</td>\n",
       "    </tr>\n",
       "    <tr>\n",
       "      <th>2018-03-23</th>\n",
       "      <td>China urges U.S. away from 'brink' as Trump pi...</td>\n",
       "      <td>20.102667</td>\n",
       "      <td>99823500.0</td>\n",
       "      <td>0.410239</td>\n",
       "      <td>0.051506</td>\n",
       "      <td>-0.9812</td>\n",
       "      <td>0.107</td>\n",
       "      <td>0.080</td>\n",
       "      <td>0.813</td>\n",
       "      <td>-0.024458</td>\n",
       "      <td>0</td>\n",
       "      <td>20.935523</td>\n",
       "      <td>22.182478</td>\n",
       "    </tr>\n",
       "    <tr>\n",
       "      <th>...</th>\n",
       "      <td>...</td>\n",
       "      <td>...</td>\n",
       "      <td>...</td>\n",
       "      <td>...</td>\n",
       "      <td>...</td>\n",
       "      <td>...</td>\n",
       "      <td>...</td>\n",
       "      <td>...</td>\n",
       "      <td>...</td>\n",
       "      <td>...</td>\n",
       "      <td>...</td>\n",
       "      <td>...</td>\n",
       "      <td>...</td>\n",
       "    </tr>\n",
       "    <tr>\n",
       "      <th>2020-07-13</th>\n",
       "      <td>Luckin Coffee ousts chairman Lu, names Guo as ...</td>\n",
       "      <td>99.804001</td>\n",
       "      <td>584781000.0</td>\n",
       "      <td>0.414809</td>\n",
       "      <td>0.140556</td>\n",
       "      <td>0.9773</td>\n",
       "      <td>0.100</td>\n",
       "      <td>0.123</td>\n",
       "      <td>0.777</td>\n",
       "      <td>-0.030810</td>\n",
       "      <td>0</td>\n",
       "      <td>93.066382</td>\n",
       "      <td>61.753511</td>\n",
       "    </tr>\n",
       "    <tr>\n",
       "      <th>2020-07-14</th>\n",
       "      <td>Google hit with 600,000 euro Belgian privacy f...</td>\n",
       "      <td>101.120003</td>\n",
       "      <td>351271500.0</td>\n",
       "      <td>0.345320</td>\n",
       "      <td>0.057631</td>\n",
       "      <td>-0.9830</td>\n",
       "      <td>0.104</td>\n",
       "      <td>0.082</td>\n",
       "      <td>0.814</td>\n",
       "      <td>0.013186</td>\n",
       "      <td>1</td>\n",
       "      <td>96.001050</td>\n",
       "      <td>62.601189</td>\n",
       "    </tr>\n",
       "    <tr>\n",
       "      <th>2020-07-15</th>\n",
       "      <td>Oil climbs 2% on U.S. stock draw but gains cap...</td>\n",
       "      <td>103.067329</td>\n",
       "      <td>245517000.0</td>\n",
       "      <td>0.387709</td>\n",
       "      <td>0.012013</td>\n",
       "      <td>0.5514</td>\n",
       "      <td>0.127</td>\n",
       "      <td>0.128</td>\n",
       "      <td>0.745</td>\n",
       "      <td>0.019258</td>\n",
       "      <td>1</td>\n",
       "      <td>97.662287</td>\n",
       "      <td>63.489689</td>\n",
       "    </tr>\n",
       "    <tr>\n",
       "      <th>2020-07-16</th>\n",
       "      <td>Morgan Stanley posts record profit on trading ...</td>\n",
       "      <td>100.042664</td>\n",
       "      <td>214512000.0</td>\n",
       "      <td>0.393206</td>\n",
       "      <td>0.088800</td>\n",
       "      <td>-0.9979</td>\n",
       "      <td>0.141</td>\n",
       "      <td>0.088</td>\n",
       "      <td>0.771</td>\n",
       "      <td>-0.029347</td>\n",
       "      <td>0</td>\n",
       "      <td>98.717334</td>\n",
       "      <td>64.394044</td>\n",
       "    </tr>\n",
       "    <tr>\n",
       "      <th>2020-07-17</th>\n",
       "      <td>U.S. economy faces significant risks, long roa...</td>\n",
       "      <td>100.056000</td>\n",
       "      <td>139950000.0</td>\n",
       "      <td>0.368399</td>\n",
       "      <td>0.026276</td>\n",
       "      <td>-0.9882</td>\n",
       "      <td>0.148</td>\n",
       "      <td>0.115</td>\n",
       "      <td>0.737</td>\n",
       "      <td>0.000133</td>\n",
       "      <td>1</td>\n",
       "      <td>100.002667</td>\n",
       "      <td>65.248189</td>\n",
       "    </tr>\n",
       "  </tbody>\n",
       "</table>\n",
       "<p>588 rows × 13 columns</p>\n",
       "</div>"
      ],
      "text/plain": [
       "                                                     Headline  TSLA Close  \\\n",
       "Time                                                                        \n",
       "2018-03-19  January's record highs may have been the marke...   20.903999   \n",
       "2018-03-20  UK will always consider ways to improve data l...   20.703333   \n",
       "2018-03-21  Fed raises rates, signals confidence in streng...   21.101999   \n",
       "2018-03-22  Self-driving car industry confronts trust issu...   20.606667   \n",
       "2018-03-23  China urges U.S. away from 'brink' as Trump pi...   20.102667   \n",
       "...                                                       ...         ...   \n",
       "2020-07-13  Luckin Coffee ousts chairman Lu, names Guo as ...   99.804001   \n",
       "2020-07-14  Google hit with 600,000 euro Belgian privacy f...  101.120003   \n",
       "2020-07-15  Oil climbs 2% on U.S. stock draw but gains cap...  103.067329   \n",
       "2020-07-16  Morgan Stanley posts record profit on trading ...  100.042664   \n",
       "2020-07-17  U.S. economy faces significant risks, long roa...  100.056000   \n",
       "\n",
       "                Tvolume  Subjectivity  Polarity  compound    neg    pos  \\\n",
       "Time                                                                      \n",
       "2018-03-19  112264500.0      0.396209  0.040144   -0.3551  0.118  0.111   \n",
       "2018-03-20   71464500.0      0.374032  0.028472   -0.9856  0.117  0.082   \n",
       "2018-03-21   89376000.0      0.377280  0.073502   -0.9679  0.109  0.091   \n",
       "2018-03-22   74097000.0      0.364351  0.060998    0.4632  0.129  0.124   \n",
       "2018-03-23   99823500.0      0.410239  0.051506   -0.9812  0.107  0.080   \n",
       "...                 ...           ...       ...       ...    ...    ...   \n",
       "2020-07-13  584781000.0      0.414809  0.140556    0.9773  0.100  0.123   \n",
       "2020-07-14  351271500.0      0.345320  0.057631   -0.9830  0.104  0.082   \n",
       "2020-07-15  245517000.0      0.387709  0.012013    0.5514  0.127  0.128   \n",
       "2020-07-16  214512000.0      0.393206  0.088800   -0.9979  0.141  0.088   \n",
       "2020-07-17  139950000.0      0.368399  0.026276   -0.9882  0.148  0.115   \n",
       "\n",
       "              neu  daily returns  label   sma_short   sma_long  \n",
       "Time                                                            \n",
       "2018-03-19  0.771      -0.024241      0   21.920571  22.285689  \n",
       "2018-03-20  0.801      -0.009599      0   21.762286  22.254222  \n",
       "2018-03-21  0.800       0.019256      1   21.486285  22.238033  \n",
       "2018-03-22  0.747      -0.023473      0   21.174476  22.215944  \n",
       "2018-03-23  0.813      -0.024458      0   20.935523  22.182478  \n",
       "...           ...            ...    ...         ...        ...  \n",
       "2020-07-13  0.777      -0.030810      0   93.066382  61.753511  \n",
       "2020-07-14  0.814       0.013186      1   96.001050  62.601189  \n",
       "2020-07-15  0.745       0.019258      1   97.662287  63.489689  \n",
       "2020-07-16  0.771      -0.029347      0   98.717334  64.394044  \n",
       "2020-07-17  0.737       0.000133      1  100.002667  65.248189  \n",
       "\n",
       "[588 rows x 13 columns]"
      ]
     },
     "execution_count": 10,
     "metadata": {},
     "output_type": "execute_result"
    }
   ],
   "source": [
    "# calculate SMA short and SMA slow\n",
    "sentiment_2_df[\"sma_short\"]= sentiment_2_df.rolling(7)[\"TSLA Close\"].mean()\n",
    "sentiment_2_df[\"sma_long\"]= sentiment_2_df.rolling(60)[\"TSLA Close\"].mean()\n",
    "sentiment_2_df.dropna(inplace=True)\n",
    "sentiment_2_df"
   ]
  },
  {
   "cell_type": "markdown",
   "id": "a559ec72-edcb-4c44-a568-7eba4c440fb9",
   "metadata": {
    "tags": []
   },
   "source": [
    "## Assign X Features and y Variable"
   ]
  },
  {
   "cell_type": "markdown",
   "id": "3cc6752a-fa1c-4cf2-a79e-bf09962ac303",
   "metadata": {
    "tags": []
   },
   "source": [
    "### Baseline"
   ]
  },
  {
   "cell_type": "code",
   "execution_count": 11,
   "id": "a6913a50-e204-49c0-abbd-d9f06fc7d3ae",
   "metadata": {},
   "outputs": [
    {
     "data": {
      "text/plain": [
       "Index(['Headline', 'TSLA Close', 'Tvolume', 'Subjectivity', 'Polarity',\n",
       "       'compound', 'neg', 'pos', 'neu', 'daily returns', 'label', 'sma_short',\n",
       "       'sma_long'],\n",
       "      dtype='object')"
      ]
     },
     "execution_count": 11,
     "metadata": {},
     "output_type": "execute_result"
    }
   ],
   "source": [
    "# display dataframe columns for features\n",
    "sentiment_df.columns"
   ]
  },
  {
   "cell_type": "code",
   "execution_count": 12,
   "id": "57f54ddb-1aad-4f6f-8493-1c229933974e",
   "metadata": {},
   "outputs": [
    {
     "data": {
      "text/html": [
       "<div>\n",
       "<style scoped>\n",
       "    .dataframe tbody tr th:only-of-type {\n",
       "        vertical-align: middle;\n",
       "    }\n",
       "\n",
       "    .dataframe tbody tr th {\n",
       "        vertical-align: top;\n",
       "    }\n",
       "\n",
       "    .dataframe thead th {\n",
       "        text-align: right;\n",
       "    }\n",
       "</style>\n",
       "<table border=\"1\" class=\"dataframe\">\n",
       "  <thead>\n",
       "    <tr style=\"text-align: right;\">\n",
       "      <th></th>\n",
       "      <th>Tvolume</th>\n",
       "      <th>Subjectivity</th>\n",
       "      <th>Polarity</th>\n",
       "      <th>compound</th>\n",
       "      <th>neg</th>\n",
       "      <th>pos</th>\n",
       "      <th>neu</th>\n",
       "      <th>sma_short</th>\n",
       "      <th>sma_long</th>\n",
       "    </tr>\n",
       "    <tr>\n",
       "      <th>Time</th>\n",
       "      <th></th>\n",
       "      <th></th>\n",
       "      <th></th>\n",
       "      <th></th>\n",
       "      <th></th>\n",
       "      <th></th>\n",
       "      <th></th>\n",
       "      <th></th>\n",
       "      <th></th>\n",
       "    </tr>\n",
       "  </thead>\n",
       "  <tbody>\n",
       "    <tr>\n",
       "      <th>2020-07-13</th>\n",
       "      <td>350064000.0</td>\n",
       "      <td>0.368474</td>\n",
       "      <td>0.074615</td>\n",
       "      <td>-0.4037</td>\n",
       "      <td>0.100</td>\n",
       "      <td>0.103</td>\n",
       "      <td>0.797</td>\n",
       "      <td>89.471810</td>\n",
       "      <td>60.918122</td>\n",
       "    </tr>\n",
       "    <tr>\n",
       "      <th>2020-07-14</th>\n",
       "      <td>584781000.0</td>\n",
       "      <td>0.414809</td>\n",
       "      <td>0.140556</td>\n",
       "      <td>0.9773</td>\n",
       "      <td>0.100</td>\n",
       "      <td>0.123</td>\n",
       "      <td>0.777</td>\n",
       "      <td>93.066382</td>\n",
       "      <td>61.753511</td>\n",
       "    </tr>\n",
       "    <tr>\n",
       "      <th>2020-07-15</th>\n",
       "      <td>351271500.0</td>\n",
       "      <td>0.345320</td>\n",
       "      <td>0.057631</td>\n",
       "      <td>-0.9830</td>\n",
       "      <td>0.104</td>\n",
       "      <td>0.082</td>\n",
       "      <td>0.814</td>\n",
       "      <td>96.001050</td>\n",
       "      <td>62.601189</td>\n",
       "    </tr>\n",
       "    <tr>\n",
       "      <th>2020-07-16</th>\n",
       "      <td>245517000.0</td>\n",
       "      <td>0.387709</td>\n",
       "      <td>0.012013</td>\n",
       "      <td>0.5514</td>\n",
       "      <td>0.127</td>\n",
       "      <td>0.128</td>\n",
       "      <td>0.745</td>\n",
       "      <td>97.662287</td>\n",
       "      <td>63.489689</td>\n",
       "    </tr>\n",
       "    <tr>\n",
       "      <th>2020-07-17</th>\n",
       "      <td>214512000.0</td>\n",
       "      <td>0.393206</td>\n",
       "      <td>0.088800</td>\n",
       "      <td>-0.9979</td>\n",
       "      <td>0.141</td>\n",
       "      <td>0.088</td>\n",
       "      <td>0.771</td>\n",
       "      <td>98.717334</td>\n",
       "      <td>64.394044</td>\n",
       "    </tr>\n",
       "  </tbody>\n",
       "</table>\n",
       "</div>"
      ],
      "text/plain": [
       "                Tvolume  Subjectivity  Polarity  compound    neg    pos  \\\n",
       "Time                                                                      \n",
       "2020-07-13  350064000.0      0.368474  0.074615   -0.4037  0.100  0.103   \n",
       "2020-07-14  584781000.0      0.414809  0.140556    0.9773  0.100  0.123   \n",
       "2020-07-15  351271500.0      0.345320  0.057631   -0.9830  0.104  0.082   \n",
       "2020-07-16  245517000.0      0.387709  0.012013    0.5514  0.127  0.128   \n",
       "2020-07-17  214512000.0      0.393206  0.088800   -0.9979  0.141  0.088   \n",
       "\n",
       "              neu  sma_short   sma_long  \n",
       "Time                                     \n",
       "2020-07-13  0.797  89.471810  60.918122  \n",
       "2020-07-14  0.777  93.066382  61.753511  \n",
       "2020-07-15  0.814  96.001050  62.601189  \n",
       "2020-07-16  0.745  97.662287  63.489689  \n",
       "2020-07-17  0.771  98.717334  64.394044  "
      ]
     },
     "metadata": {},
     "output_type": "display_data"
    },
    {
     "data": {
      "text/plain": [
       "Time\n",
       "2020-07-13    0\n",
       "2020-07-14    1\n",
       "2020-07-15    1\n",
       "2020-07-16    0\n",
       "2020-07-17    1\n",
       "Name: daily returns, dtype: int64"
      ]
     },
     "metadata": {},
     "output_type": "display_data"
    }
   ],
   "source": [
    "# create features variable with columns for X and assign the y variable\n",
    "#TSLA Version\n",
    "features=['Tvolume', 'Subjectivity', 'Polarity',\n",
    "       'compound', 'neg', 'pos', 'neu', 'sma_short',\n",
    "       'sma_long']\n",
    "\n",
    "X = sentiment_df[features].shift().dropna().copy()\n",
    "y=(sentiment_df['daily returns']>0).astype(int)[1:]\n",
    "\n",
    "display(X.tail())\n",
    "display(y.tail())"
   ]
  },
  {
   "cell_type": "code",
   "execution_count": 13,
   "id": "a2ee7bc3-923c-4978-91fc-f2d4fd8c4285",
   "metadata": {},
   "outputs": [
    {
     "data": {
      "text/plain": [
       "587"
      ]
     },
     "metadata": {},
     "output_type": "display_data"
    },
    {
     "data": {
      "text/plain": [
       "587"
      ]
     },
     "metadata": {},
     "output_type": "display_data"
    }
   ],
   "source": [
    "# verify x and y are same length\n",
    "display(len(X))\n",
    "display(len(y))"
   ]
  },
  {
   "cell_type": "markdown",
   "id": "51c07582-656f-40cd-8885-629a6931bfc4",
   "metadata": {
    "tags": []
   },
   "source": [
    "### Adjusted"
   ]
  },
  {
   "cell_type": "markdown",
   "id": "f028ce17-6d7e-416f-96c0-c1eaa2f953a6",
   "metadata": {},
   "source": [
    "Dropped the following features: \"XXXXXXX\" and \"XXXXX\"."
   ]
  },
  {
   "cell_type": "code",
   "execution_count": 14,
   "id": "c76bf512-1538-4527-9c4c-de08914a3957",
   "metadata": {},
   "outputs": [
    {
     "data": {
      "text/html": [
       "<div>\n",
       "<style scoped>\n",
       "    .dataframe tbody tr th:only-of-type {\n",
       "        vertical-align: middle;\n",
       "    }\n",
       "\n",
       "    .dataframe tbody tr th {\n",
       "        vertical-align: top;\n",
       "    }\n",
       "\n",
       "    .dataframe thead th {\n",
       "        text-align: right;\n",
       "    }\n",
       "</style>\n",
       "<table border=\"1\" class=\"dataframe\">\n",
       "  <thead>\n",
       "    <tr style=\"text-align: right;\">\n",
       "      <th></th>\n",
       "      <th>Tvolume</th>\n",
       "      <th>Subjectivity</th>\n",
       "      <th>Polarity</th>\n",
       "      <th>compound</th>\n",
       "      <th>neg</th>\n",
       "      <th>pos</th>\n",
       "      <th>neu</th>\n",
       "      <th>sma_short</th>\n",
       "      <th>sma_long</th>\n",
       "    </tr>\n",
       "    <tr>\n",
       "      <th>Time</th>\n",
       "      <th></th>\n",
       "      <th></th>\n",
       "      <th></th>\n",
       "      <th></th>\n",
       "      <th></th>\n",
       "      <th></th>\n",
       "      <th></th>\n",
       "      <th></th>\n",
       "      <th></th>\n",
       "    </tr>\n",
       "  </thead>\n",
       "  <tbody>\n",
       "    <tr>\n",
       "      <th>2020-07-13</th>\n",
       "      <td>350064000.0</td>\n",
       "      <td>0.368474</td>\n",
       "      <td>0.074615</td>\n",
       "      <td>-0.4037</td>\n",
       "      <td>0.100</td>\n",
       "      <td>0.103</td>\n",
       "      <td>0.797</td>\n",
       "      <td>89.471810</td>\n",
       "      <td>60.918122</td>\n",
       "    </tr>\n",
       "    <tr>\n",
       "      <th>2020-07-14</th>\n",
       "      <td>584781000.0</td>\n",
       "      <td>0.414809</td>\n",
       "      <td>0.140556</td>\n",
       "      <td>0.9773</td>\n",
       "      <td>0.100</td>\n",
       "      <td>0.123</td>\n",
       "      <td>0.777</td>\n",
       "      <td>93.066382</td>\n",
       "      <td>61.753511</td>\n",
       "    </tr>\n",
       "    <tr>\n",
       "      <th>2020-07-15</th>\n",
       "      <td>351271500.0</td>\n",
       "      <td>0.345320</td>\n",
       "      <td>0.057631</td>\n",
       "      <td>-0.9830</td>\n",
       "      <td>0.104</td>\n",
       "      <td>0.082</td>\n",
       "      <td>0.814</td>\n",
       "      <td>96.001050</td>\n",
       "      <td>62.601189</td>\n",
       "    </tr>\n",
       "    <tr>\n",
       "      <th>2020-07-16</th>\n",
       "      <td>245517000.0</td>\n",
       "      <td>0.387709</td>\n",
       "      <td>0.012013</td>\n",
       "      <td>0.5514</td>\n",
       "      <td>0.127</td>\n",
       "      <td>0.128</td>\n",
       "      <td>0.745</td>\n",
       "      <td>97.662287</td>\n",
       "      <td>63.489689</td>\n",
       "    </tr>\n",
       "    <tr>\n",
       "      <th>2020-07-17</th>\n",
       "      <td>214512000.0</td>\n",
       "      <td>0.393206</td>\n",
       "      <td>0.088800</td>\n",
       "      <td>-0.9979</td>\n",
       "      <td>0.141</td>\n",
       "      <td>0.088</td>\n",
       "      <td>0.771</td>\n",
       "      <td>98.717334</td>\n",
       "      <td>64.394044</td>\n",
       "    </tr>\n",
       "  </tbody>\n",
       "</table>\n",
       "</div>"
      ],
      "text/plain": [
       "                Tvolume  Subjectivity  Polarity  compound    neg    pos  \\\n",
       "Time                                                                      \n",
       "2020-07-13  350064000.0      0.368474  0.074615   -0.4037  0.100  0.103   \n",
       "2020-07-14  584781000.0      0.414809  0.140556    0.9773  0.100  0.123   \n",
       "2020-07-15  351271500.0      0.345320  0.057631   -0.9830  0.104  0.082   \n",
       "2020-07-16  245517000.0      0.387709  0.012013    0.5514  0.127  0.128   \n",
       "2020-07-17  214512000.0      0.393206  0.088800   -0.9979  0.141  0.088   \n",
       "\n",
       "              neu  sma_short   sma_long  \n",
       "Time                                     \n",
       "2020-07-13  0.797  89.471810  60.918122  \n",
       "2020-07-14  0.777  93.066382  61.753511  \n",
       "2020-07-15  0.814  96.001050  62.601189  \n",
       "2020-07-16  0.745  97.662287  63.489689  \n",
       "2020-07-17  0.771  98.717334  64.394044  "
      ]
     },
     "metadata": {},
     "output_type": "display_data"
    },
    {
     "data": {
      "text/plain": [
       "Time\n",
       "2020-07-13    0\n",
       "2020-07-14    1\n",
       "2020-07-15    1\n",
       "2020-07-16    0\n",
       "2020-07-17    1\n",
       "Name: daily returns, dtype: int64"
      ]
     },
     "metadata": {},
     "output_type": "display_data"
    }
   ],
   "source": [
    "# create features variable with columns for X and assign the y variable\n",
    "#TSLA Version\n",
    "features_2=['Tvolume', 'Subjectivity', 'Polarity',\n",
    "       'compound', 'neg', 'pos', 'neu', 'sma_short',\n",
    "       'sma_long']\n",
    "\n",
    "X2 = sentiment_2_df[features_2].shift().dropna().copy()\n",
    "y2=(sentiment_2_df['daily returns']>0).astype(int)[1:]\n",
    "\n",
    "display(X2.tail())\n",
    "display(y2.tail())"
   ]
  },
  {
   "cell_type": "code",
   "execution_count": 15,
   "id": "720db902-0990-47f9-9534-f87a9fb6efb2",
   "metadata": {},
   "outputs": [
    {
     "data": {
      "text/plain": [
       "587"
      ]
     },
     "metadata": {},
     "output_type": "display_data"
    },
    {
     "data": {
      "text/plain": [
       "587"
      ]
     },
     "metadata": {},
     "output_type": "display_data"
    }
   ],
   "source": [
    "# verify x and y are same length\n",
    "display(len(X2))\n",
    "display(len(y2))"
   ]
  },
  {
   "cell_type": "markdown",
   "id": "fc978c73-8534-461a-8a86-da4fb13399f9",
   "metadata": {
    "tags": []
   },
   "source": [
    "## Split and Scale Data"
   ]
  },
  {
   "cell_type": "markdown",
   "id": "d6693aa4-b586-40bb-8be2-981fd59854f0",
   "metadata": {
    "tags": []
   },
   "source": [
    "### Baseline"
   ]
  },
  {
   "cell_type": "markdown",
   "id": "445ca356-5149-47e1-8284-3340bf5e60bc",
   "metadata": {},
   "source": [
    "Set the training data offset to 3 months."
   ]
  },
  {
   "cell_type": "code",
   "execution_count": 16,
   "id": "6d304764-3e91-47e0-b556-b026e2684c7b",
   "metadata": {},
   "outputs": [
    {
     "name": "stdout",
     "output_type": "stream",
     "text": [
      "Training Begin Date:2018-03-20 00:00:00\n",
      "Training End Date:2018-06-20 00:00:00\n"
     ]
    },
    {
     "data": {
      "text/html": [
       "<div>\n",
       "<style scoped>\n",
       "    .dataframe tbody tr th:only-of-type {\n",
       "        vertical-align: middle;\n",
       "    }\n",
       "\n",
       "    .dataframe tbody tr th {\n",
       "        vertical-align: top;\n",
       "    }\n",
       "\n",
       "    .dataframe thead th {\n",
       "        text-align: right;\n",
       "    }\n",
       "</style>\n",
       "<table border=\"1\" class=\"dataframe\">\n",
       "  <thead>\n",
       "    <tr style=\"text-align: right;\">\n",
       "      <th></th>\n",
       "      <th>Tvolume</th>\n",
       "      <th>Subjectivity</th>\n",
       "      <th>Polarity</th>\n",
       "      <th>compound</th>\n",
       "      <th>neg</th>\n",
       "      <th>pos</th>\n",
       "      <th>neu</th>\n",
       "      <th>sma_short</th>\n",
       "      <th>sma_long</th>\n",
       "    </tr>\n",
       "    <tr>\n",
       "      <th>Time</th>\n",
       "      <th></th>\n",
       "      <th></th>\n",
       "      <th></th>\n",
       "      <th></th>\n",
       "      <th></th>\n",
       "      <th></th>\n",
       "      <th></th>\n",
       "      <th></th>\n",
       "      <th></th>\n",
       "    </tr>\n",
       "  </thead>\n",
       "  <tbody>\n",
       "    <tr>\n",
       "      <th>2018-03-20</th>\n",
       "      <td>112264500.0</td>\n",
       "      <td>0.396209</td>\n",
       "      <td>0.040144</td>\n",
       "      <td>-0.3551</td>\n",
       "      <td>0.118</td>\n",
       "      <td>0.111</td>\n",
       "      <td>0.771</td>\n",
       "      <td>21.920571</td>\n",
       "      <td>22.285689</td>\n",
       "    </tr>\n",
       "    <tr>\n",
       "      <th>2018-03-21</th>\n",
       "      <td>71464500.0</td>\n",
       "      <td>0.374032</td>\n",
       "      <td>0.028472</td>\n",
       "      <td>-0.9856</td>\n",
       "      <td>0.117</td>\n",
       "      <td>0.082</td>\n",
       "      <td>0.801</td>\n",
       "      <td>21.762286</td>\n",
       "      <td>22.254222</td>\n",
       "    </tr>\n",
       "    <tr>\n",
       "      <th>2018-03-22</th>\n",
       "      <td>89376000.0</td>\n",
       "      <td>0.377280</td>\n",
       "      <td>0.073502</td>\n",
       "      <td>-0.9679</td>\n",
       "      <td>0.109</td>\n",
       "      <td>0.091</td>\n",
       "      <td>0.800</td>\n",
       "      <td>21.486285</td>\n",
       "      <td>22.238033</td>\n",
       "    </tr>\n",
       "    <tr>\n",
       "      <th>2018-03-23</th>\n",
       "      <td>74097000.0</td>\n",
       "      <td>0.364351</td>\n",
       "      <td>0.060998</td>\n",
       "      <td>0.4632</td>\n",
       "      <td>0.129</td>\n",
       "      <td>0.124</td>\n",
       "      <td>0.747</td>\n",
       "      <td>21.174476</td>\n",
       "      <td>22.215944</td>\n",
       "    </tr>\n",
       "    <tr>\n",
       "      <th>2018-03-26</th>\n",
       "      <td>99823500.0</td>\n",
       "      <td>0.410239</td>\n",
       "      <td>0.051506</td>\n",
       "      <td>-0.9812</td>\n",
       "      <td>0.107</td>\n",
       "      <td>0.080</td>\n",
       "      <td>0.813</td>\n",
       "      <td>20.935523</td>\n",
       "      <td>22.182478</td>\n",
       "    </tr>\n",
       "  </tbody>\n",
       "</table>\n",
       "</div>"
      ],
      "text/plain": [
       "                Tvolume  Subjectivity  Polarity  compound    neg    pos  \\\n",
       "Time                                                                      \n",
       "2018-03-20  112264500.0      0.396209  0.040144   -0.3551  0.118  0.111   \n",
       "2018-03-21   71464500.0      0.374032  0.028472   -0.9856  0.117  0.082   \n",
       "2018-03-22   89376000.0      0.377280  0.073502   -0.9679  0.109  0.091   \n",
       "2018-03-23   74097000.0      0.364351  0.060998    0.4632  0.129  0.124   \n",
       "2018-03-26   99823500.0      0.410239  0.051506   -0.9812  0.107  0.080   \n",
       "\n",
       "              neu  sma_short   sma_long  \n",
       "Time                                     \n",
       "2018-03-20  0.771  21.920571  22.285689  \n",
       "2018-03-21  0.801  21.762286  22.254222  \n",
       "2018-03-22  0.800  21.486285  22.238033  \n",
       "2018-03-23  0.747  21.174476  22.215944  \n",
       "2018-03-26  0.813  20.935523  22.182478  "
      ]
     },
     "execution_count": 16,
     "metadata": {},
     "output_type": "execute_result"
    }
   ],
   "source": [
    "# Select the start of the training period\n",
    "training_begin = X.index.min()\n",
    "\n",
    "# Display the training begin date\n",
    "print(f'Training Begin Date:{training_begin}')\n",
    "\n",
    "# Select the ending period for the training data with an offset of 3 months\n",
    "training_end = X.index.min() + DateOffset(months=3)\n",
    "\n",
    "# Display the training end date\n",
    "print(f'Training End Date:{training_end}')\n",
    "\n",
    "# Generate the X_train and y_train DataFrames\n",
    "X_train = X.loc[training_begin:training_end]\n",
    "y_train = y.loc[training_begin:training_end]\n",
    "\n",
    "# Review the X_train DataFrame\n",
    "X_train.head()\n",
    "\n",
    "# Generate the X_test and y_test DataFrames\n",
    "X_test = X.loc[training_end+DateOffset(hours=1):]\n",
    "y_test = y.loc[training_end+DateOffset(hours=1):]\n",
    "\n",
    "# Review the X_test DataFrame\n",
    "X_train.head()"
   ]
  },
  {
   "cell_type": "code",
   "execution_count": 17,
   "id": "5690ecc6-9099-4927-b1c3-2090fd2fc750",
   "metadata": {},
   "outputs": [],
   "source": [
    "## Scale the features DataFrames\n",
    "\n",
    "# Create a StandardScaler instance\n",
    "scaler = StandardScaler()\n",
    "\n",
    "# Apply the scaler model to fit the X-train data\n",
    "X_scaler = scaler.fit(X_train)\n",
    "\n",
    "# Transform the X_train and X_test DataFrames using the X_scaler\n",
    "X_train_scaled = X_scaler.transform(X_train)\n",
    "X_test_scaled = X_scaler.transform(X_test)"
   ]
  },
  {
   "cell_type": "markdown",
   "id": "62be39e2-ff46-497b-839a-b1658bec45ac",
   "metadata": {
    "tags": []
   },
   "source": [
    "### Adjusted"
   ]
  },
  {
   "cell_type": "markdown",
   "id": "3bc0f042-43ab-4b80-a965-608a4b61af97",
   "metadata": {},
   "source": [
    "Set the training data offset to 3 months."
   ]
  },
  {
   "cell_type": "code",
   "execution_count": 18,
   "id": "0c101a55-dfc0-4f75-8fb5-e82e1e3b52e4",
   "metadata": {},
   "outputs": [
    {
     "name": "stdout",
     "output_type": "stream",
     "text": [
      "Training Begin Date:2018-03-20 00:00:00\n",
      "Training End Date:2018-06-20 00:00:00\n"
     ]
    },
    {
     "data": {
      "text/html": [
       "<div>\n",
       "<style scoped>\n",
       "    .dataframe tbody tr th:only-of-type {\n",
       "        vertical-align: middle;\n",
       "    }\n",
       "\n",
       "    .dataframe tbody tr th {\n",
       "        vertical-align: top;\n",
       "    }\n",
       "\n",
       "    .dataframe thead th {\n",
       "        text-align: right;\n",
       "    }\n",
       "</style>\n",
       "<table border=\"1\" class=\"dataframe\">\n",
       "  <thead>\n",
       "    <tr style=\"text-align: right;\">\n",
       "      <th></th>\n",
       "      <th>Tvolume</th>\n",
       "      <th>Subjectivity</th>\n",
       "      <th>Polarity</th>\n",
       "      <th>compound</th>\n",
       "      <th>neg</th>\n",
       "      <th>pos</th>\n",
       "      <th>neu</th>\n",
       "      <th>sma_short</th>\n",
       "      <th>sma_long</th>\n",
       "    </tr>\n",
       "    <tr>\n",
       "      <th>Time</th>\n",
       "      <th></th>\n",
       "      <th></th>\n",
       "      <th></th>\n",
       "      <th></th>\n",
       "      <th></th>\n",
       "      <th></th>\n",
       "      <th></th>\n",
       "      <th></th>\n",
       "      <th></th>\n",
       "    </tr>\n",
       "  </thead>\n",
       "  <tbody>\n",
       "    <tr>\n",
       "      <th>2018-03-20</th>\n",
       "      <td>112264500.0</td>\n",
       "      <td>0.396209</td>\n",
       "      <td>0.040144</td>\n",
       "      <td>-0.3551</td>\n",
       "      <td>0.118</td>\n",
       "      <td>0.111</td>\n",
       "      <td>0.771</td>\n",
       "      <td>21.920571</td>\n",
       "      <td>22.285689</td>\n",
       "    </tr>\n",
       "    <tr>\n",
       "      <th>2018-03-21</th>\n",
       "      <td>71464500.0</td>\n",
       "      <td>0.374032</td>\n",
       "      <td>0.028472</td>\n",
       "      <td>-0.9856</td>\n",
       "      <td>0.117</td>\n",
       "      <td>0.082</td>\n",
       "      <td>0.801</td>\n",
       "      <td>21.762286</td>\n",
       "      <td>22.254222</td>\n",
       "    </tr>\n",
       "    <tr>\n",
       "      <th>2018-03-22</th>\n",
       "      <td>89376000.0</td>\n",
       "      <td>0.377280</td>\n",
       "      <td>0.073502</td>\n",
       "      <td>-0.9679</td>\n",
       "      <td>0.109</td>\n",
       "      <td>0.091</td>\n",
       "      <td>0.800</td>\n",
       "      <td>21.486285</td>\n",
       "      <td>22.238033</td>\n",
       "    </tr>\n",
       "    <tr>\n",
       "      <th>2018-03-23</th>\n",
       "      <td>74097000.0</td>\n",
       "      <td>0.364351</td>\n",
       "      <td>0.060998</td>\n",
       "      <td>0.4632</td>\n",
       "      <td>0.129</td>\n",
       "      <td>0.124</td>\n",
       "      <td>0.747</td>\n",
       "      <td>21.174476</td>\n",
       "      <td>22.215944</td>\n",
       "    </tr>\n",
       "    <tr>\n",
       "      <th>2018-03-26</th>\n",
       "      <td>99823500.0</td>\n",
       "      <td>0.410239</td>\n",
       "      <td>0.051506</td>\n",
       "      <td>-0.9812</td>\n",
       "      <td>0.107</td>\n",
       "      <td>0.080</td>\n",
       "      <td>0.813</td>\n",
       "      <td>20.935523</td>\n",
       "      <td>22.182478</td>\n",
       "    </tr>\n",
       "  </tbody>\n",
       "</table>\n",
       "</div>"
      ],
      "text/plain": [
       "                Tvolume  Subjectivity  Polarity  compound    neg    pos  \\\n",
       "Time                                                                      \n",
       "2018-03-20  112264500.0      0.396209  0.040144   -0.3551  0.118  0.111   \n",
       "2018-03-21   71464500.0      0.374032  0.028472   -0.9856  0.117  0.082   \n",
       "2018-03-22   89376000.0      0.377280  0.073502   -0.9679  0.109  0.091   \n",
       "2018-03-23   74097000.0      0.364351  0.060998    0.4632  0.129  0.124   \n",
       "2018-03-26   99823500.0      0.410239  0.051506   -0.9812  0.107  0.080   \n",
       "\n",
       "              neu  sma_short   sma_long  \n",
       "Time                                     \n",
       "2018-03-20  0.771  21.920571  22.285689  \n",
       "2018-03-21  0.801  21.762286  22.254222  \n",
       "2018-03-22  0.800  21.486285  22.238033  \n",
       "2018-03-23  0.747  21.174476  22.215944  \n",
       "2018-03-26  0.813  20.935523  22.182478  "
      ]
     },
     "execution_count": 18,
     "metadata": {},
     "output_type": "execute_result"
    }
   ],
   "source": [
    "# Select the start of the training period\n",
    "training_2_begin = X2.index.min()\n",
    "\n",
    "# Display the training begin date\n",
    "print(f'Training Begin Date:{training_2_begin}')\n",
    "\n",
    "# Select the ending period for the training data with an offset of 3 months\n",
    "training_2_end = X2.index.min() + DateOffset(months=3)\n",
    "\n",
    "# Display the training end date\n",
    "print(f'Training End Date:{training_2_end}')\n",
    "\n",
    "# Generate the X_train and y_train DataFrames\n",
    "X2_train = X2.loc[training_2_begin:training_2_end]\n",
    "y2_train = y2.loc[training_2_begin:training_2_end]\n",
    "\n",
    "# Review the X_train DataFrame\n",
    "X2_train.head()\n",
    "\n",
    "# Generate the X_test and y_test DataFrames\n",
    "X2_test = X2.loc[training_2_end+DateOffset(hours=1):]\n",
    "y2_test = y2.loc[training_2_end+DateOffset(hours=1):]\n",
    "\n",
    "# Review the X_test DataFrame\n",
    "X2_train.head()"
   ]
  },
  {
   "cell_type": "code",
   "execution_count": 19,
   "id": "3c7b460d-6ae4-4b53-a078-8b6663cc91ae",
   "metadata": {},
   "outputs": [],
   "source": [
    "# Scale the features DataFrames\n",
    "\n",
    "# Apply the scaler model to fit the X2-train data\n",
    "X2_scaler = scaler.fit(X2_train)\n",
    "\n",
    "# Transform the X2_train and X2_test DataFrames using the X2_scaler\n",
    "X2_train_scaled = X2_scaler.transform(X2_train)\n",
    "X2_test_scaled = X2_scaler.transform(X2_test)"
   ]
  },
  {
   "cell_type": "markdown",
   "id": "91995380-f0f8-4bb2-a0c2-e60506fbedfe",
   "metadata": {
    "tags": []
   },
   "source": [
    "# <span style=\"color:blue\">Machine Learning</span>"
   ]
  },
  {
   "cell_type": "markdown",
   "id": "bd890f44-b3c3-4445-a4cb-bc1b643be2ff",
   "metadata": {
    "tags": []
   },
   "source": [
    "## Model #1 Support Vector Machines (SVM)"
   ]
  },
  {
   "cell_type": "markdown",
   "id": "c2a28b7f-98e5-4e24-874d-d1763b4d6039",
   "metadata": {
    "tags": []
   },
   "source": [
    "### Run Model Classifier: C-Support Vector Classification (SVC) "
   ]
  },
  {
   "cell_type": "markdown",
   "id": "00344395-3568-479b-83d0-99aac01ebfb7",
   "metadata": {
    "tags": []
   },
   "source": [
    "#### Baseline Model"
   ]
  },
  {
   "cell_type": "code",
   "execution_count": 20,
   "id": "78ceeac2-86d4-4315-a9a5-10ea7a4bb348",
   "metadata": {},
   "outputs": [
    {
     "data": {
      "text/html": [
       "<div>\n",
       "<style scoped>\n",
       "    .dataframe tbody tr th:only-of-type {\n",
       "        vertical-align: middle;\n",
       "    }\n",
       "\n",
       "    .dataframe tbody tr th {\n",
       "        vertical-align: top;\n",
       "    }\n",
       "\n",
       "    .dataframe thead th {\n",
       "        text-align: right;\n",
       "    }\n",
       "</style>\n",
       "<table border=\"1\" class=\"dataframe\">\n",
       "  <thead>\n",
       "    <tr style=\"text-align: right;\">\n",
       "      <th></th>\n",
       "      <th>Predicted</th>\n",
       "      <th>Actual Returns</th>\n",
       "      <th>Strategy Returns</th>\n",
       "    </tr>\n",
       "    <tr>\n",
       "      <th>Time</th>\n",
       "      <th></th>\n",
       "      <th></th>\n",
       "      <th></th>\n",
       "    </tr>\n",
       "  </thead>\n",
       "  <tbody>\n",
       "    <tr>\n",
       "      <th>2018-06-21</th>\n",
       "      <td>1</td>\n",
       "      <td>-2.480585</td>\n",
       "      <td>-2.480585</td>\n",
       "    </tr>\n",
       "    <tr>\n",
       "      <th>2018-06-22</th>\n",
       "      <td>1</td>\n",
       "      <td>-0.016484</td>\n",
       "      <td>-0.016484</td>\n",
       "    </tr>\n",
       "    <tr>\n",
       "      <th>2018-06-25</th>\n",
       "      <td>1</td>\n",
       "      <td>-0.953472</td>\n",
       "      <td>-0.953472</td>\n",
       "    </tr>\n",
       "    <tr>\n",
       "      <th>2018-06-26</th>\n",
       "      <td>1</td>\n",
       "      <td>-15.526696</td>\n",
       "      <td>-15.526696</td>\n",
       "    </tr>\n",
       "    <tr>\n",
       "      <th>2018-06-27</th>\n",
       "      <td>1</td>\n",
       "      <td>-0.729221</td>\n",
       "      <td>-0.729221</td>\n",
       "    </tr>\n",
       "  </tbody>\n",
       "</table>\n",
       "</div>"
      ],
      "text/plain": [
       "            Predicted  Actual Returns  Strategy Returns\n",
       "Time                                                   \n",
       "2018-06-21          1       -2.480585         -2.480585\n",
       "2018-06-22          1       -0.016484         -0.016484\n",
       "2018-06-25          1       -0.953472         -0.953472\n",
       "2018-06-26          1      -15.526696        -15.526696\n",
       "2018-06-27          1       -0.729221         -0.729221"
      ]
     },
     "metadata": {},
     "output_type": "display_data"
    },
    {
     "data": {
      "text/html": [
       "<div>\n",
       "<style scoped>\n",
       "    .dataframe tbody tr th:only-of-type {\n",
       "        vertical-align: middle;\n",
       "    }\n",
       "\n",
       "    .dataframe tbody tr th {\n",
       "        vertical-align: top;\n",
       "    }\n",
       "\n",
       "    .dataframe thead th {\n",
       "        text-align: right;\n",
       "    }\n",
       "</style>\n",
       "<table border=\"1\" class=\"dataframe\">\n",
       "  <thead>\n",
       "    <tr style=\"text-align: right;\">\n",
       "      <th></th>\n",
       "      <th>Predicted</th>\n",
       "      <th>Actual Returns</th>\n",
       "      <th>Strategy Returns</th>\n",
       "    </tr>\n",
       "    <tr>\n",
       "      <th>Time</th>\n",
       "      <th></th>\n",
       "      <th></th>\n",
       "      <th></th>\n",
       "    </tr>\n",
       "  </thead>\n",
       "  <tbody>\n",
       "    <tr>\n",
       "      <th>2020-07-13</th>\n",
       "      <td>1</td>\n",
       "      <td>-1.285677</td>\n",
       "      <td>-1.285677</td>\n",
       "    </tr>\n",
       "    <tr>\n",
       "      <th>2020-07-14</th>\n",
       "      <td>1</td>\n",
       "      <td>-1.427979</td>\n",
       "      <td>-1.427979</td>\n",
       "    </tr>\n",
       "    <tr>\n",
       "      <th>2020-07-15</th>\n",
       "      <td>1</td>\n",
       "      <td>0.460472</td>\n",
       "      <td>0.460472</td>\n",
       "    </tr>\n",
       "    <tr>\n",
       "      <th>2020-07-16</th>\n",
       "      <td>1</td>\n",
       "      <td>-2.523894</td>\n",
       "      <td>-2.523894</td>\n",
       "    </tr>\n",
       "    <tr>\n",
       "      <th>2020-07-17</th>\n",
       "      <td>1</td>\n",
       "      <td>-1.004542</td>\n",
       "      <td>-1.004542</td>\n",
       "    </tr>\n",
       "  </tbody>\n",
       "</table>\n",
       "</div>"
      ],
      "text/plain": [
       "            Predicted  Actual Returns  Strategy Returns\n",
       "Time                                                   \n",
       "2020-07-13          1       -1.285677         -1.285677\n",
       "2020-07-14          1       -1.427979         -1.427979\n",
       "2020-07-15          1        0.460472          0.460472\n",
       "2020-07-16          1       -2.523894         -2.523894\n",
       "2020-07-17          1       -1.004542         -1.004542"
      ]
     },
     "metadata": {},
     "output_type": "display_data"
    }
   ],
   "source": [
    "## Use a classifier to predict future results\n",
    "\n",
    "# From SVM, instantiate SVC classifier model instance\n",
    "svm_model = svm.SVC()\n",
    " \n",
    "# Fit the model to the data using the training data\n",
    "svm_model = svm_model.fit(X_train_scaled, y_train)\n",
    " \n",
    "# Use the testing data to make the model predictions\n",
    "svm_pred = svm_model.predict(X_test_scaled)\n",
    "\n",
    "# Review the model's predicted values\n",
    "svm_pred[:10]\n",
    "\n",
    "# Use a classification report to evaluate the model using the predictions and testing data\n",
    "svm_testing_report = classification_report(y_test, svm_pred)\n",
    "\n",
    "# Create a predictions DataFrame\n",
    "predictions_sentiment_df = pd.DataFrame(index=X_test.index)\n",
    "\n",
    "# Add the SVM model predictions to the DataFrame\n",
    "predictions_sentiment_df['Predicted'] = svm_pred\n",
    "\n",
    "# Add the actual returns to the DataFrame\n",
    "predictions_sentiment_df['Actual Returns'] = sentiment_df['daily returns']\n",
    "\n",
    "# Add the strategy returns to the DataFrame\n",
    "predictions_sentiment_df['Strategy Returns'] = predictions_sentiment_df['Actual Returns'] * predictions_sentiment_df['Predicted']\n",
    "\n",
    "# Review the DataFrame\n",
    "display(predictions_sentiment_df.head())\n",
    "display(predictions_sentiment_df.tail())"
   ]
  },
  {
   "cell_type": "code",
   "execution_count": 21,
   "id": "e1aa1d8d-b1a1-4f03-a290-f9dc29e65426",
   "metadata": {},
   "outputs": [
    {
     "data": {
      "text/plain": [
       "<Axes: title={'center': 'SVC Model- Baseline'}, xlabel='Time'>"
      ]
     },
     "execution_count": 21,
     "metadata": {},
     "output_type": "execute_result"
    },
    {
     "data": {
      "image/png": "[encoded data removed]",
      "text/plain": [
       "<Figure size 640x480 with 1 Axes>"
      ]
     },
     "metadata": {},
     "output_type": "display_data"
    }
   ],
   "source": [
    "# plot\n",
    "predictions_sentiment_df.plot(title='SVC Model- Baseline')\n",
    "\n",
    "# Save the plot as a JPG file\n",
    "# plt.savefig('TSLA SVC Model.jpg', format='jpg')"
   ]
  },
  {
   "cell_type": "code",
   "execution_count": 22,
   "id": "1333f984-8cb9-471b-8cbd-7e1c15f0fe4b",
   "metadata": {},
   "outputs": [
    {
     "name": "stdout",
     "output_type": "stream",
     "text": [
      "              precision    recall  f1-score   support\n",
      "\n",
      "           0       0.57      0.13      0.21       254\n",
      "           1       0.52      0.91      0.66       268\n",
      "\n",
      "    accuracy                           0.53       522\n",
      "   macro avg       0.55      0.52      0.44       522\n",
      "weighted avg       0.55      0.53      0.44       522\n",
      "\n"
     ]
    }
   ],
   "source": [
    "# Print the classification report\n",
    "print(svm_testing_report)"
   ]
  },
  {
   "cell_type": "markdown",
   "id": "de94f6e4-5fec-4bf3-80a7-af2739355d48",
   "metadata": {
    "tags": []
   },
   "source": [
    "#### Adjusted Model"
   ]
  },
  {
   "cell_type": "code",
   "execution_count": 23,
   "id": "57842a73-632d-4822-8da5-adf3f733a442",
   "metadata": {},
   "outputs": [
    {
     "data": {
      "text/html": [
       "<div>\n",
       "<style scoped>\n",
       "    .dataframe tbody tr th:only-of-type {\n",
       "        vertical-align: middle;\n",
       "    }\n",
       "\n",
       "    .dataframe tbody tr th {\n",
       "        vertical-align: top;\n",
       "    }\n",
       "\n",
       "    .dataframe thead th {\n",
       "        text-align: right;\n",
       "    }\n",
       "</style>\n",
       "<table border=\"1\" class=\"dataframe\">\n",
       "  <thead>\n",
       "    <tr style=\"text-align: right;\">\n",
       "      <th></th>\n",
       "      <th>Predicted</th>\n",
       "      <th>Actual Returns</th>\n",
       "      <th>Strategy Returns</th>\n",
       "    </tr>\n",
       "    <tr>\n",
       "      <th>Time</th>\n",
       "      <th></th>\n",
       "      <th></th>\n",
       "      <th></th>\n",
       "    </tr>\n",
       "  </thead>\n",
       "  <tbody>\n",
       "    <tr>\n",
       "      <th>2018-06-21</th>\n",
       "      <td>1</td>\n",
       "      <td>-2.480585</td>\n",
       "      <td>-2.480585</td>\n",
       "    </tr>\n",
       "    <tr>\n",
       "      <th>2018-06-22</th>\n",
       "      <td>1</td>\n",
       "      <td>-0.016484</td>\n",
       "      <td>-0.016484</td>\n",
       "    </tr>\n",
       "    <tr>\n",
       "      <th>2018-06-25</th>\n",
       "      <td>1</td>\n",
       "      <td>-0.953472</td>\n",
       "      <td>-0.953472</td>\n",
       "    </tr>\n",
       "    <tr>\n",
       "      <th>2018-06-26</th>\n",
       "      <td>1</td>\n",
       "      <td>-15.526696</td>\n",
       "      <td>-15.526696</td>\n",
       "    </tr>\n",
       "    <tr>\n",
       "      <th>2018-06-27</th>\n",
       "      <td>1</td>\n",
       "      <td>-0.729221</td>\n",
       "      <td>-0.729221</td>\n",
       "    </tr>\n",
       "  </tbody>\n",
       "</table>\n",
       "</div>"
      ],
      "text/plain": [
       "            Predicted  Actual Returns  Strategy Returns\n",
       "Time                                                   \n",
       "2018-06-21          1       -2.480585         -2.480585\n",
       "2018-06-22          1       -0.016484         -0.016484\n",
       "2018-06-25          1       -0.953472         -0.953472\n",
       "2018-06-26          1      -15.526696        -15.526696\n",
       "2018-06-27          1       -0.729221         -0.729221"
      ]
     },
     "metadata": {},
     "output_type": "display_data"
    },
    {
     "data": {
      "text/html": [
       "<div>\n",
       "<style scoped>\n",
       "    .dataframe tbody tr th:only-of-type {\n",
       "        vertical-align: middle;\n",
       "    }\n",
       "\n",
       "    .dataframe tbody tr th {\n",
       "        vertical-align: top;\n",
       "    }\n",
       "\n",
       "    .dataframe thead th {\n",
       "        text-align: right;\n",
       "    }\n",
       "</style>\n",
       "<table border=\"1\" class=\"dataframe\">\n",
       "  <thead>\n",
       "    <tr style=\"text-align: right;\">\n",
       "      <th></th>\n",
       "      <th>Predicted</th>\n",
       "      <th>Actual Returns</th>\n",
       "      <th>Strategy Returns</th>\n",
       "    </tr>\n",
       "    <tr>\n",
       "      <th>Time</th>\n",
       "      <th></th>\n",
       "      <th></th>\n",
       "      <th></th>\n",
       "    </tr>\n",
       "  </thead>\n",
       "  <tbody>\n",
       "    <tr>\n",
       "      <th>2020-07-13</th>\n",
       "      <td>1</td>\n",
       "      <td>-1.285677</td>\n",
       "      <td>-1.285677</td>\n",
       "    </tr>\n",
       "    <tr>\n",
       "      <th>2020-07-14</th>\n",
       "      <td>1</td>\n",
       "      <td>-1.427979</td>\n",
       "      <td>-1.427979</td>\n",
       "    </tr>\n",
       "    <tr>\n",
       "      <th>2020-07-15</th>\n",
       "      <td>1</td>\n",
       "      <td>0.460472</td>\n",
       "      <td>0.460472</td>\n",
       "    </tr>\n",
       "    <tr>\n",
       "      <th>2020-07-16</th>\n",
       "      <td>1</td>\n",
       "      <td>-2.523894</td>\n",
       "      <td>-2.523894</td>\n",
       "    </tr>\n",
       "    <tr>\n",
       "      <th>2020-07-17</th>\n",
       "      <td>1</td>\n",
       "      <td>-1.004542</td>\n",
       "      <td>-1.004542</td>\n",
       "    </tr>\n",
       "  </tbody>\n",
       "</table>\n",
       "</div>"
      ],
      "text/plain": [
       "            Predicted  Actual Returns  Strategy Returns\n",
       "Time                                                   \n",
       "2020-07-13          1       -1.285677         -1.285677\n",
       "2020-07-14          1       -1.427979         -1.427979\n",
       "2020-07-15          1        0.460472          0.460472\n",
       "2020-07-16          1       -2.523894         -2.523894\n",
       "2020-07-17          1       -1.004542         -1.004542"
      ]
     },
     "metadata": {},
     "output_type": "display_data"
    }
   ],
   "source": [
    "## Use a classifier to predict future results\n",
    "\n",
    "# From SVM, instantiate SVC classifier model instance\n",
    "svm_2_model = svm.SVC()\n",
    "\n",
    "# Fit the model to the data using the training data\n",
    "svm_2_model = svm_2_model.fit(X2_train_scaled, y2_train)\n",
    " \n",
    "# Use the testing data to make the model predictions\n",
    "svm_2_pred = svm_2_model.predict(X2_test_scaled)\n",
    "\n",
    "# Review the model's predicted values\n",
    "svm_2_pred[:10]\n",
    "\n",
    "# Use a classification report to evaluate the model using the predictions and testing data\n",
    "svm_2_testing_report = classification_report(y2_test, svm_2_pred)\n",
    "\n",
    "# Create a predictions DataFrame\n",
    "predictions_sentiment_2_df = pd.DataFrame(index=X2_test.index)\n",
    "\n",
    "# Add the SVM model predictions to the DataFrame\n",
    "predictions_sentiment_2_df['Predicted'] = svm_2_pred\n",
    "\n",
    "# Add the actual returns to the DataFrame\n",
    "predictions_sentiment_2_df['Actual Returns'] = sentiment_df['daily returns']\n",
    "\n",
    "# Add the strategy returns to the DataFrame\n",
    "predictions_sentiment_2_df['Strategy Returns'] = predictions_sentiment_2_df['Actual Returns'] * predictions_sentiment_2_df['Predicted']\n",
    "\n",
    "# Review the DataFrame\n",
    "display(predictions_sentiment_2_df.head())\n",
    "display(predictions_sentiment_2_df.tail())"
   ]
  },
  {
   "cell_type": "code",
   "execution_count": 24,
   "id": "736fa73f-00e6-45c9-ad64-a16e9fa38148",
   "metadata": {},
   "outputs": [
    {
     "data": {
      "text/plain": [
       "<Axes: title={'center': 'SVC Model - Adjusted'}, xlabel='Time'>"
      ]
     },
     "execution_count": 24,
     "metadata": {},
     "output_type": "execute_result"
    },
    {
     "data": {
      "image/png": "[encoded data removed]",
      "text/plain": [
       "<Figure size 640x480 with 1 Axes>"
      ]
     },
     "metadata": {},
     "output_type": "display_data"
    }
   ],
   "source": [
    "# plot\n",
    "predictions_sentiment_2_df.plot(title='SVC Model - Adjusted')\n",
    "\n",
    "# Save the plot as a JPG file\n",
    "# plt.savefig('TSLA SVC Model Adjusted.jpg', format='jpg')"
   ]
  },
  {
   "cell_type": "code",
   "execution_count": 25,
   "id": "c5c0278c-2624-479d-b48b-36d4479a24bb",
   "metadata": {},
   "outputs": [
    {
     "name": "stdout",
     "output_type": "stream",
     "text": [
      "              precision    recall  f1-score   support\n",
      "\n",
      "           0       0.57      0.13      0.21       254\n",
      "           1       0.52      0.91      0.66       268\n",
      "\n",
      "    accuracy                           0.53       522\n",
      "   macro avg       0.55      0.52      0.44       522\n",
      "weighted avg       0.55      0.53      0.44       522\n",
      "\n"
     ]
    }
   ],
   "source": [
    "# Print the classification report\n",
    "print(svm_2_testing_report)"
   ]
  },
  {
   "cell_type": "markdown",
   "id": "324d1fd1-d131-49da-be67-6062e07a70cc",
   "metadata": {
    "tags": []
   },
   "source": [
    "## Model #2 Linear Discriminant Analysis (LDA)"
   ]
  },
  {
   "cell_type": "markdown",
   "id": "2b6ad8cc-6906-4ca4-8e02-36097cab1f60",
   "metadata": {
    "tags": []
   },
   "source": [
    "### Run Model Classifier: Linear Discriminant Analysis (LDA) "
   ]
  },
  {
   "cell_type": "markdown",
   "id": "02c42745-217d-455e-b64e-027ee1e2aeee",
   "metadata": {
    "tags": []
   },
   "source": [
    "#### Baseline Model"
   ]
  },
  {
   "cell_type": "code",
   "execution_count": 26,
   "id": "4b0ddb13-b7c8-4e28-a14f-e58bca53c58a",
   "metadata": {},
   "outputs": [
    {
     "data": {
      "text/html": [
       "<div>\n",
       "<style scoped>\n",
       "    .dataframe tbody tr th:only-of-type {\n",
       "        vertical-align: middle;\n",
       "    }\n",
       "\n",
       "    .dataframe tbody tr th {\n",
       "        vertical-align: top;\n",
       "    }\n",
       "\n",
       "    .dataframe thead th {\n",
       "        text-align: right;\n",
       "    }\n",
       "</style>\n",
       "<table border=\"1\" class=\"dataframe\">\n",
       "  <thead>\n",
       "    <tr style=\"text-align: right;\">\n",
       "      <th></th>\n",
       "      <th>Predicted</th>\n",
       "      <th>Actual Returns</th>\n",
       "      <th>Strategy Returns</th>\n",
       "    </tr>\n",
       "    <tr>\n",
       "      <th>Time</th>\n",
       "      <th></th>\n",
       "      <th></th>\n",
       "      <th></th>\n",
       "    </tr>\n",
       "  </thead>\n",
       "  <tbody>\n",
       "    <tr>\n",
       "      <th>2018-06-21</th>\n",
       "      <td>1</td>\n",
       "      <td>-2.480585</td>\n",
       "      <td>-2.480585</td>\n",
       "    </tr>\n",
       "    <tr>\n",
       "      <th>2018-06-22</th>\n",
       "      <td>1</td>\n",
       "      <td>-0.016484</td>\n",
       "      <td>-0.016484</td>\n",
       "    </tr>\n",
       "    <tr>\n",
       "      <th>2018-06-25</th>\n",
       "      <td>1</td>\n",
       "      <td>-0.953472</td>\n",
       "      <td>-0.953472</td>\n",
       "    </tr>\n",
       "    <tr>\n",
       "      <th>2018-06-26</th>\n",
       "      <td>1</td>\n",
       "      <td>-15.526696</td>\n",
       "      <td>-15.526696</td>\n",
       "    </tr>\n",
       "    <tr>\n",
       "      <th>2018-06-27</th>\n",
       "      <td>0</td>\n",
       "      <td>-0.729221</td>\n",
       "      <td>-0.000000</td>\n",
       "    </tr>\n",
       "  </tbody>\n",
       "</table>\n",
       "</div>"
      ],
      "text/plain": [
       "            Predicted  Actual Returns  Strategy Returns\n",
       "Time                                                   \n",
       "2018-06-21          1       -2.480585         -2.480585\n",
       "2018-06-22          1       -0.016484         -0.016484\n",
       "2018-06-25          1       -0.953472         -0.953472\n",
       "2018-06-26          1      -15.526696        -15.526696\n",
       "2018-06-27          0       -0.729221         -0.000000"
      ]
     },
     "metadata": {},
     "output_type": "display_data"
    },
    {
     "data": {
      "text/html": [
       "<div>\n",
       "<style scoped>\n",
       "    .dataframe tbody tr th:only-of-type {\n",
       "        vertical-align: middle;\n",
       "    }\n",
       "\n",
       "    .dataframe tbody tr th {\n",
       "        vertical-align: top;\n",
       "    }\n",
       "\n",
       "    .dataframe thead th {\n",
       "        text-align: right;\n",
       "    }\n",
       "</style>\n",
       "<table border=\"1\" class=\"dataframe\">\n",
       "  <thead>\n",
       "    <tr style=\"text-align: right;\">\n",
       "      <th></th>\n",
       "      <th>Predicted</th>\n",
       "      <th>Actual Returns</th>\n",
       "      <th>Strategy Returns</th>\n",
       "    </tr>\n",
       "    <tr>\n",
       "      <th>Time</th>\n",
       "      <th></th>\n",
       "      <th></th>\n",
       "      <th></th>\n",
       "    </tr>\n",
       "  </thead>\n",
       "  <tbody>\n",
       "    <tr>\n",
       "      <th>2020-07-13</th>\n",
       "      <td>0</td>\n",
       "      <td>-1.285677</td>\n",
       "      <td>-0.0</td>\n",
       "    </tr>\n",
       "    <tr>\n",
       "      <th>2020-07-14</th>\n",
       "      <td>0</td>\n",
       "      <td>-1.427979</td>\n",
       "      <td>-0.0</td>\n",
       "    </tr>\n",
       "    <tr>\n",
       "      <th>2020-07-15</th>\n",
       "      <td>0</td>\n",
       "      <td>0.460472</td>\n",
       "      <td>0.0</td>\n",
       "    </tr>\n",
       "    <tr>\n",
       "      <th>2020-07-16</th>\n",
       "      <td>0</td>\n",
       "      <td>-2.523894</td>\n",
       "      <td>-0.0</td>\n",
       "    </tr>\n",
       "    <tr>\n",
       "      <th>2020-07-17</th>\n",
       "      <td>0</td>\n",
       "      <td>-1.004542</td>\n",
       "      <td>-0.0</td>\n",
       "    </tr>\n",
       "  </tbody>\n",
       "</table>\n",
       "</div>"
      ],
      "text/plain": [
       "            Predicted  Actual Returns  Strategy Returns\n",
       "Time                                                   \n",
       "2020-07-13          0       -1.285677              -0.0\n",
       "2020-07-14          0       -1.427979              -0.0\n",
       "2020-07-15          0        0.460472               0.0\n",
       "2020-07-16          0       -2.523894              -0.0\n",
       "2020-07-17          0       -1.004542              -0.0"
      ]
     },
     "metadata": {},
     "output_type": "display_data"
    }
   ],
   "source": [
    "# instantiate LinearDiscriminantAnalysis\n",
    "lda_model = LinearDiscriminantAnalysis()\n",
    "\n",
    "# Fit the model to the data using the training data\n",
    "linear_disc_model = lda_model.fit(X_train_scaled, y_train)\n",
    " \n",
    "# Use the testing data to make the model predictions\n",
    "linear_disc_model = lda_model.predict(X_test_scaled)\n",
    "\n",
    "# Review the model's predicted values\n",
    "linear_disc_model[:10]\n",
    "\n",
    "# Use a classification report to evaluate the model using the predictions and testing data\n",
    "linear_disc_testing_report = classification_report(y_test, linear_disc_model)\n",
    "\n",
    "predictions_sentiment_3_df = pd.DataFrame(index=X_test.index)\n",
    "\n",
    "# Add the SVM model predictions to the DataFrame\n",
    "predictions_sentiment_3_df['Predicted'] = linear_disc_model\n",
    "\n",
    "# Add the actual returns to the DataFrame\n",
    "predictions_sentiment_3_df['Actual Returns'] = sentiment_df['daily returns']\n",
    "\n",
    "# Add the strategy returns to the DataFrame\n",
    "predictions_sentiment_3_df['Strategy Returns'] = predictions_sentiment_3_df['Actual Returns'] * predictions_sentiment_3_df['Predicted']\n",
    "\n",
    "# Review the DataFrame\n",
    "display(predictions_sentiment_3_df.head())\n",
    "display(predictions_sentiment_3_df.tail())"
   ]
  },
  {
   "cell_type": "code",
   "execution_count": 27,
   "id": "ee2f984e-3fe8-4d6b-ac8b-faf3cea02287",
   "metadata": {},
   "outputs": [
    {
     "data": {
      "text/plain": [
       "<Axes: title={'center': 'LDA Model - Baseline'}, xlabel='Time'>"
      ]
     },
     "execution_count": 27,
     "metadata": {},
     "output_type": "execute_result"
    },
    {
     "data": {
      "image/png": "[encoded data removed]",
      "text/plain": [
       "<Figure size 640x480 with 1 Axes>"
      ]
     },
     "metadata": {},
     "output_type": "display_data"
    }
   ],
   "source": [
    "# Plot\n",
    "predictions_sentiment_3_df.plot(title='LDA Model - Baseline')\n",
    "\n",
    "# Save the plot as a JPG file\n",
    "# plt.savefig('TSLA LinearDiscriminantAnalysis.jpg', format='jpg')"
   ]
  },
  {
   "cell_type": "code",
   "execution_count": 28,
   "id": "b8f17723-40d8-4e4f-ace0-988f85524d58",
   "metadata": {},
   "outputs": [
    {
     "name": "stdout",
     "output_type": "stream",
     "text": [
      "              precision    recall  f1-score   support\n",
      "\n",
      "           0       0.47      0.43      0.45       254\n",
      "           1       0.50      0.53      0.51       268\n",
      "\n",
      "    accuracy                           0.48       522\n",
      "   macro avg       0.48      0.48      0.48       522\n",
      "weighted avg       0.48      0.48      0.48       522\n",
      "\n"
     ]
    }
   ],
   "source": [
    "# Print the classification report\n",
    "print(linear_disc_testing_report)"
   ]
  },
  {
   "cell_type": "markdown",
   "id": "0ec6d1d1-9696-44b8-80fc-15eef8c02e5c",
   "metadata": {
    "tags": []
   },
   "source": [
    "#### Adjusted Model"
   ]
  },
  {
   "cell_type": "code",
   "execution_count": 29,
   "id": "756eddc4-56fd-46bd-baf9-00d130424680",
   "metadata": {},
   "outputs": [
    {
     "data": {
      "text/html": [
       "<div>\n",
       "<style scoped>\n",
       "    .dataframe tbody tr th:only-of-type {\n",
       "        vertical-align: middle;\n",
       "    }\n",
       "\n",
       "    .dataframe tbody tr th {\n",
       "        vertical-align: top;\n",
       "    }\n",
       "\n",
       "    .dataframe thead th {\n",
       "        text-align: right;\n",
       "    }\n",
       "</style>\n",
       "<table border=\"1\" class=\"dataframe\">\n",
       "  <thead>\n",
       "    <tr style=\"text-align: right;\">\n",
       "      <th></th>\n",
       "      <th>Predicted</th>\n",
       "      <th>Actual Returns</th>\n",
       "      <th>Strategy Returns</th>\n",
       "    </tr>\n",
       "    <tr>\n",
       "      <th>Time</th>\n",
       "      <th></th>\n",
       "      <th></th>\n",
       "      <th></th>\n",
       "    </tr>\n",
       "  </thead>\n",
       "  <tbody>\n",
       "    <tr>\n",
       "      <th>2018-06-21</th>\n",
       "      <td>1</td>\n",
       "      <td>-2.480585</td>\n",
       "      <td>-2.480585</td>\n",
       "    </tr>\n",
       "    <tr>\n",
       "      <th>2018-06-22</th>\n",
       "      <td>1</td>\n",
       "      <td>-0.016484</td>\n",
       "      <td>-0.016484</td>\n",
       "    </tr>\n",
       "    <tr>\n",
       "      <th>2018-06-25</th>\n",
       "      <td>1</td>\n",
       "      <td>-0.953472</td>\n",
       "      <td>-0.953472</td>\n",
       "    </tr>\n",
       "    <tr>\n",
       "      <th>2018-06-26</th>\n",
       "      <td>1</td>\n",
       "      <td>-15.526696</td>\n",
       "      <td>-15.526696</td>\n",
       "    </tr>\n",
       "    <tr>\n",
       "      <th>2018-06-27</th>\n",
       "      <td>0</td>\n",
       "      <td>-0.729221</td>\n",
       "      <td>-0.000000</td>\n",
       "    </tr>\n",
       "  </tbody>\n",
       "</table>\n",
       "</div>"
      ],
      "text/plain": [
       "            Predicted  Actual Returns  Strategy Returns\n",
       "Time                                                   \n",
       "2018-06-21          1       -2.480585         -2.480585\n",
       "2018-06-22          1       -0.016484         -0.016484\n",
       "2018-06-25          1       -0.953472         -0.953472\n",
       "2018-06-26          1      -15.526696        -15.526696\n",
       "2018-06-27          0       -0.729221         -0.000000"
      ]
     },
     "metadata": {},
     "output_type": "display_data"
    },
    {
     "data": {
      "text/html": [
       "<div>\n",
       "<style scoped>\n",
       "    .dataframe tbody tr th:only-of-type {\n",
       "        vertical-align: middle;\n",
       "    }\n",
       "\n",
       "    .dataframe tbody tr th {\n",
       "        vertical-align: top;\n",
       "    }\n",
       "\n",
       "    .dataframe thead th {\n",
       "        text-align: right;\n",
       "    }\n",
       "</style>\n",
       "<table border=\"1\" class=\"dataframe\">\n",
       "  <thead>\n",
       "    <tr style=\"text-align: right;\">\n",
       "      <th></th>\n",
       "      <th>Predicted</th>\n",
       "      <th>Actual Returns</th>\n",
       "      <th>Strategy Returns</th>\n",
       "    </tr>\n",
       "    <tr>\n",
       "      <th>Time</th>\n",
       "      <th></th>\n",
       "      <th></th>\n",
       "      <th></th>\n",
       "    </tr>\n",
       "  </thead>\n",
       "  <tbody>\n",
       "    <tr>\n",
       "      <th>2020-07-13</th>\n",
       "      <td>0</td>\n",
       "      <td>-1.285677</td>\n",
       "      <td>-0.0</td>\n",
       "    </tr>\n",
       "    <tr>\n",
       "      <th>2020-07-14</th>\n",
       "      <td>0</td>\n",
       "      <td>-1.427979</td>\n",
       "      <td>-0.0</td>\n",
       "    </tr>\n",
       "    <tr>\n",
       "      <th>2020-07-15</th>\n",
       "      <td>0</td>\n",
       "      <td>0.460472</td>\n",
       "      <td>0.0</td>\n",
       "    </tr>\n",
       "    <tr>\n",
       "      <th>2020-07-16</th>\n",
       "      <td>0</td>\n",
       "      <td>-2.523894</td>\n",
       "      <td>-0.0</td>\n",
       "    </tr>\n",
       "    <tr>\n",
       "      <th>2020-07-17</th>\n",
       "      <td>0</td>\n",
       "      <td>-1.004542</td>\n",
       "      <td>-0.0</td>\n",
       "    </tr>\n",
       "  </tbody>\n",
       "</table>\n",
       "</div>"
      ],
      "text/plain": [
       "            Predicted  Actual Returns  Strategy Returns\n",
       "Time                                                   \n",
       "2020-07-13          0       -1.285677              -0.0\n",
       "2020-07-14          0       -1.427979              -0.0\n",
       "2020-07-15          0        0.460472               0.0\n",
       "2020-07-16          0       -2.523894              -0.0\n",
       "2020-07-17          0       -1.004542              -0.0"
      ]
     },
     "metadata": {},
     "output_type": "display_data"
    }
   ],
   "source": [
    "# instantiate LinearDiscriminantAnalysis\n",
    "lda_2_model = LinearDiscriminantAnalysis()\n",
    "\n",
    "# Fit the model to the data using the training data\n",
    "linear_disc_2_model = lda_2_model.fit(X2_train_scaled, y2_train)\n",
    " \n",
    "# Use the testing data to make the model predictions\n",
    "linear_disc_2_model = lda_2_model.predict(X2_test_scaled)\n",
    "\n",
    "# Review the model's predicted values\n",
    "linear_disc_2_model[:10]\n",
    "\n",
    "# Use a classification report to evaluate the model using the predictions and testing data\n",
    "linear_disc_2_testing_report = classification_report(y2_test, linear_disc_2_model)\n",
    "\n",
    "predictions_sentiment_4_df = pd.DataFrame(index=X2_test.index)\n",
    "\n",
    "# Add the SVM model predictions to the DataFrame\n",
    "predictions_sentiment_4_df['Predicted'] = linear_disc_2_model\n",
    "\n",
    "# Add the actual returns to the DataFrame\n",
    "predictions_sentiment_4_df['Actual Returns'] = sentiment_df['daily returns']\n",
    "\n",
    "# Add the strategy returns to the DataFrame\n",
    "predictions_sentiment_4_df['Strategy Returns'] = predictions_sentiment_4_df['Actual Returns'] * predictions_sentiment_4_df['Predicted']\n",
    "\n",
    "# Review the DataFrame\n",
    "display(predictions_sentiment_4_df.head())\n",
    "display(predictions_sentiment_4_df.tail())"
   ]
  },
  {
   "cell_type": "code",
   "execution_count": 30,
   "id": "6ac60513-192a-4273-8e65-acc4985cde29",
   "metadata": {},
   "outputs": [
    {
     "data": {
      "text/plain": [
       "<Axes: title={'center': 'LDA Model - Adjusted'}, xlabel='Time'>"
      ]
     },
     "execution_count": 30,
     "metadata": {},
     "output_type": "execute_result"
    },
    {
     "data": {
      "image/png": "[encoded data removed]",
      "text/plain": [
       "<Figure size 640x480 with 1 Axes>"
      ]
     },
     "metadata": {},
     "output_type": "display_data"
    }
   ],
   "source": [
    "# Plot\n",
    "predictions_sentiment_4_df.plot(title='LDA Model - Adjusted')\n",
    "\n",
    "# Save the plot as a JPG file\n",
    "# plt.savefig('TSLA LinearDiscriminantAnalysis.jpg', format='jpg')"
   ]
  },
  {
   "cell_type": "code",
   "execution_count": 31,
   "id": "9a86e660-99b3-4dc6-a4df-b695799cbe84",
   "metadata": {},
   "outputs": [
    {
     "name": "stdout",
     "output_type": "stream",
     "text": [
      "              precision    recall  f1-score   support\n",
      "\n",
      "           0       0.47      0.43      0.45       254\n",
      "           1       0.50      0.53      0.51       268\n",
      "\n",
      "    accuracy                           0.48       522\n",
      "   macro avg       0.48      0.48      0.48       522\n",
      "weighted avg       0.48      0.48      0.48       522\n",
      "\n"
     ]
    }
   ],
   "source": [
    "# Print the classification report\n",
    "print(linear_disc_2_testing_report)"
   ]
  },
  {
   "cell_type": "markdown",
   "id": "f6e5e602-4b91-4110-9dc4-ddf794179b35",
   "metadata": {
    "tags": []
   },
   "source": [
    "# <span style=\"color:blue\">Results</span>"
   ]
  },
  {
   "cell_type": "markdown",
   "id": "b268155a-25eb-40a6-a5df-be7ef10e5d92",
   "metadata": {
    "tags": []
   },
   "source": [
    "## Model #1 SVM"
   ]
  },
  {
   "cell_type": "markdown",
   "id": "d6ec4a6c-250d-4ca3-a737-2db8459e231d",
   "metadata": {
    "tags": []
   },
   "source": [
    "### Baseline"
   ]
  },
  {
   "cell_type": "code",
   "execution_count": 32,
   "id": "04001d0b-7b0a-4e77-b6d0-73f3802bea44",
   "metadata": {},
   "outputs": [
    {
     "data": {
      "image/png": "[encoded data removed]",
      "text/plain": [
       "<Figure size 640x480 with 1 Axes>"
      ]
     },
     "metadata": {},
     "output_type": "display_data"
    }
   ],
   "source": [
    "# plot\n",
    "svc_baseline_plot = predictions_sentiment_df.plot(title='SVC Model- Baseline')\n",
    "# plt.savefig('TSLA SVC Model Adjusted.jpg', format='jpg')"
   ]
  },
  {
   "cell_type": "code",
   "execution_count": 33,
   "id": "a0c5254f-9744-43ac-85f0-0940029940d0",
   "metadata": {},
   "outputs": [
    {
     "name": "stdout",
     "output_type": "stream",
     "text": [
      "              precision    recall  f1-score   support\n",
      "\n",
      "           0       0.57      0.13      0.21       254\n",
      "           1       0.52      0.91      0.66       268\n",
      "\n",
      "    accuracy                           0.53       522\n",
      "   macro avg       0.55      0.52      0.44       522\n",
      "weighted avg       0.55      0.53      0.44       522\n",
      "\n"
     ]
    }
   ],
   "source": [
    "# Print the classification report\n",
    "print(svm_testing_report)"
   ]
  },
  {
   "cell_type": "markdown",
   "id": "30aa93eb-01e4-4a71-9b71-3cb14298a71d",
   "metadata": {
    "jp-MarkdownHeadingCollapsed": true,
    "tags": []
   },
   "source": [
    "### <span style=\"color:Green\"> Final Results </span>"
   ]
  },
  {
   "cell_type": "code",
   "execution_count": 34,
   "id": "78591be9-af05-4c9b-acca-2c739d1194a7",
   "metadata": {},
   "outputs": [
    {
     "data": {
      "image/png": "[encoded data removed]",
      "text/plain": [
       "<Figure size 640x480 with 1 Axes>"
      ]
     },
     "metadata": {},
     "output_type": "display_data"
    }
   ],
   "source": [
    "# plot\n",
    "svc_adjusted_plot = predictions_sentiment_2_df.plot(title='SVC Model - Adjusted')"
   ]
  },
  {
   "cell_type": "code",
   "execution_count": 35,
   "id": "50502dad-a466-40ab-b6fc-47bbea45d89b",
   "metadata": {},
   "outputs": [
    {
     "name": "stdout",
     "output_type": "stream",
     "text": [
      "              precision    recall  f1-score   support\n",
      "\n",
      "           0       0.57      0.13      0.21       254\n",
      "           1       0.52      0.91      0.66       268\n",
      "\n",
      "    accuracy                           0.53       522\n",
      "   macro avg       0.55      0.52      0.44       522\n",
      "weighted avg       0.55      0.53      0.44       522\n",
      "\n"
     ]
    }
   ],
   "source": [
    "# Print the classification report\n",
    "print(svm_2_testing_report)"
   ]
  },
  {
   "cell_type": "markdown",
   "id": "5a78604a-5655-4cb0-8eeb-e92a17046bf8",
   "metadata": {
    "tags": []
   },
   "source": [
    "## Model #2 LDA"
   ]
  },
  {
   "cell_type": "markdown",
   "id": "cb57ee8f-49f0-4fb9-acee-2e0631d6df70",
   "metadata": {
    "tags": []
   },
   "source": [
    "### Baseline"
   ]
  },
  {
   "cell_type": "code",
   "execution_count": 37,
   "id": "dc6d3667-57d7-45fe-b049-7b916a691507",
   "metadata": {},
   "outputs": [
    {
     "data": {
      "image/png": "[encoded data removed]",
      "text/plain": [
       "<Figure size 640x480 with 1 Axes>"
      ]
     },
     "metadata": {},
     "output_type": "display_data"
    }
   ],
   "source": [
    "# Hvplot\n",
    "lda_baseline_plot = predictions_sentiment_3_df.plot(title='LDA Model - Baseline')\n",
    "plt.savefig(Path('../Resources/Alt_Model_LDA.png'), format='png', dpi=300)"
   ]
  },
  {
   "cell_type": "code",
   "execution_count": null,
   "id": "05aa8189-fc95-45c9-b10f-2e3cda0df119",
   "metadata": {},
   "outputs": [],
   "source": [
    "# Print the classification report\n",
    "print(linear_disc_testing_report)"
   ]
  },
  {
   "cell_type": "markdown",
   "id": "eb1555ce-43cd-4eb4-930e-13dbebe41a8a",
   "metadata": {
    "jp-MarkdownHeadingCollapsed": true,
    "tags": []
   },
   "source": [
    "### <span style=\"color:Green\"> Final Results </span>"
   ]
  },
  {
   "cell_type": "code",
   "execution_count": null,
   "id": "e70848c2-6e2b-4bb8-a872-ea5b312848b0",
   "metadata": {},
   "outputs": [],
   "source": [
    "# Plot\n",
    "lda_adjusted_plot = predictions_sentiment_4_df.plot(title='LDA Model - Adjusted')"
   ]
  },
  {
   "cell_type": "code",
   "execution_count": null,
   "id": "ecc05e69-1ea7-4b08-a4b3-cf842453fc86",
   "metadata": {},
   "outputs": [],
   "source": [
    "# Print the classification report\n",
    "print(linear_disc_2_testing_report)"
   ]
  },
  {
   "cell_type": "markdown",
   "id": "2aab17d8-7116-45ce-999c-b480ffe0a3cb",
   "metadata": {
    "tags": []
   },
   "source": [
    "## Dashboard"
   ]
  },
  {
   "cell_type": "code",
   "execution_count": null,
   "id": "af2e2645-b1c8-4924-888f-dfee79ec70f1",
   "metadata": {},
   "outputs": [],
   "source": []
  }
 ],
 "metadata": {
  "kernelspec": {
   "display_name": "Python 3 (ipykernel)",
   "language": "python",
   "name": "python3"
  },
  "language_info": {
   "codemirror_mode": {
    "name": "ipython",
    "version": 3
   },
   "file_extension": ".py",
   "mimetype": "text/x-python",
   "name": "python",
   "nbconvert_exporter": "python",
   "pygments_lexer": "ipython3",
   "version": "3.11.3"
  },
  "widgets": {
   "application/vnd.jupyter.widget-state+json": {
    "state": {},
    "version_major": 2,
    "version_minor": 0
   }
  }
 },
 "nbformat": 4,
 "nbformat_minor": 5
}
