{
 "cells": [
  {
   "cell_type": "code",
   "execution_count": 1,
   "id": "342ee7b7-7f06-4104-9792-c97984e139fe",
   "metadata": {},
   "outputs": [],
   "source": [
    "#[Joe] 1. Acquire and process stock data\n",
    "#[Alejandra]x 2. Acquire and process sentiment analysis data\n",
    "#[Session] 3. Run baseline\n",
    "#[Joe]x 4. Run sentiment analysis with LinearDiscreminateAnalysis\n",
    "#[Edward] 5. Run sentiment analysis with alternate classifier\n",
    "#[Edward] 6. Combine results\n",
    "#[Session] 7. Put together PPT preso"
   ]
  },
  {
   "cell_type": "code",
   "execution_count": 66,
   "id": "52cee76c-678e-4d84-b510-040c69ec2b47",
   "metadata": {
    "tags": []
   },
   "outputs": [],
   "source": [
    "import pandas as pd\n",
    "import numpy as np\n",
    "from pathlib import Path\n",
    "from textblob import TextBlob\n",
    "import re\n",
    "from vaderSentiment.vaderSentiment import SentimentIntensityAnalyzer\n",
    "from sklearn import tree\n",
    "from sklearn.preprocessing import StandardScaler\n",
    "from sklearn.model_selection import train_test_split\n",
    "from sklearn.metrics import confusion_matrix, accuracy_score, classification_report\n",
    "import yfinance as yf\n",
    "import warnings\n",
    "from pandas.tseries.offsets import DateOffset\n",
    "from sklearn import svm\n",
    "from sklearn.discriminant_analysis import LinearDiscriminantAnalysis\n",
    "# Ignore all warnings within this code block\n",
    "warnings.filterwarnings(\"ignore\")\n",
    "import matplotlib.pyplot as plt"
   ]
  },
  {
   "cell_type": "code",
   "execution_count": 30,
   "id": "80b36877-f199-4e5f-925d-c96261dea63a",
   "metadata": {
    "tags": []
   },
   "outputs": [
    {
     "data": {
      "text/html": [
       "<div>\n",
       "<style scoped>\n",
       "    .dataframe tbody tr th:only-of-type {\n",
       "        vertical-align: middle;\n",
       "    }\n",
       "\n",
       "    .dataframe tbody tr th {\n",
       "        vertical-align: top;\n",
       "    }\n",
       "\n",
       "    .dataframe thead th {\n",
       "        text-align: right;\n",
       "    }\n",
       "</style>\n",
       "<table border=\"1\" class=\"dataframe\">\n",
       "  <thead>\n",
       "    <tr style=\"text-align: right;\">\n",
       "      <th></th>\n",
       "      <th>Time</th>\n",
       "      <th>Headline</th>\n",
       "      <th>SP500 Close</th>\n",
       "      <th>Volume</th>\n",
       "      <th>TSLA Close</th>\n",
       "      <th>Volume.1</th>\n",
       "    </tr>\n",
       "  </thead>\n",
       "  <tbody>\n",
       "    <tr>\n",
       "      <th>0</th>\n",
       "      <td>2017-12-18</td>\n",
       "      <td>Brace yourself for the next Brexit faultline: ...</td>\n",
       "      <td>268.200012</td>\n",
       "      <td>83653600.0</td>\n",
       "      <td>22.591333</td>\n",
       "      <td>82143000.0</td>\n",
       "    </tr>\n",
       "    <tr>\n",
       "      <th>1</th>\n",
       "      <td>2017-12-19</td>\n",
       "      <td>First pilots, now cabin crew – Ryanair to reco...</td>\n",
       "      <td>267.170013</td>\n",
       "      <td>82382900.0</td>\n",
       "      <td>22.073334</td>\n",
       "      <td>102375000.0</td>\n",
       "    </tr>\n",
       "    <tr>\n",
       "      <th>2</th>\n",
       "      <td>2017-12-20</td>\n",
       "      <td>Nearly 45,000 UK retailers in financial distre...</td>\n",
       "      <td>267.029999</td>\n",
       "      <td>76751500.0</td>\n",
       "      <td>21.931999</td>\n",
       "      <td>89307000.0</td>\n",
       "    </tr>\n",
       "    <tr>\n",
       "      <th>3</th>\n",
       "      <td>2017-12-21</td>\n",
       "      <td>Last-minute Christmas shopping guide: there is...</td>\n",
       "      <td>267.579987</td>\n",
       "      <td>67032300.0</td>\n",
       "      <td>22.110666</td>\n",
       "      <td>65778000.0</td>\n",
       "    </tr>\n",
       "    <tr>\n",
       "      <th>4</th>\n",
       "      <td>2017-12-22</td>\n",
       "      <td>Cramer: Never buy a stock all at once — you'll...</td>\n",
       "      <td>267.510010</td>\n",
       "      <td>78720900.0</td>\n",
       "      <td>21.680000</td>\n",
       "      <td>63237000.0</td>\n",
       "    </tr>\n",
       "  </tbody>\n",
       "</table>\n",
       "</div>"
      ],
      "text/plain": [
       "         Time                                           Headline  SP500 Close  \\\n",
       "0  2017-12-18  Brace yourself for the next Brexit faultline: ...   268.200012   \n",
       "1  2017-12-19  First pilots, now cabin crew – Ryanair to reco...   267.170013   \n",
       "2  2017-12-20  Nearly 45,000 UK retailers in financial distre...   267.029999   \n",
       "3  2017-12-21  Last-minute Christmas shopping guide: there is...   267.579987   \n",
       "4  2017-12-22  Cramer: Never buy a stock all at once — you'll...   267.510010   \n",
       "\n",
       "       Volume  TSLA Close     Volume.1  \n",
       "0  83653600.0   22.591333   82143000.0  \n",
       "1  82382900.0   22.073334  102375000.0  \n",
       "2  76751500.0   21.931999   89307000.0  \n",
       "3  67032300.0   22.110666   65778000.0  \n",
       "4  78720900.0   21.680000   63237000.0  "
      ]
     },
     "execution_count": 30,
     "metadata": {},
     "output_type": "execute_result"
    }
   ],
   "source": [
    "## Acquire and process sentiment data from Kaggle\n",
    "sentiment_df=pd.read_csv(Path(\"../Resources/combined_csv.csv\"))\n",
    "sentiment_df.head()"
   ]
  },
  {
   "cell_type": "code",
   "execution_count": 31,
   "id": "e4c464e3-989f-4f90-954f-68e0ac824546",
   "metadata": {
    "tags": []
   },
   "outputs": [],
   "source": [
    "# obtain polarity and subjectivity scores (potentially factor volume of information in the sentiment analysis)\n",
    "\n",
    "# create a function to calculate the subjectivity\n",
    "def calculate_subjectivity(headlines):\n",
    "    return TextBlob(headlines).sentiment.subjectivity\n",
    "\n",
    "# create a function to calculate the subjectivity\n",
    "def calculate_polarity(headlines):\n",
    "    return TextBlob(headlines).sentiment.polarity\n"
   ]
  },
  {
   "cell_type": "code",
   "execution_count": 32,
   "id": "5c9ebfa4-642a-4179-9cf4-c58c0cc54d2f",
   "metadata": {
    "tags": []
   },
   "outputs": [],
   "source": [
    "# create two new columns \"Subjectivity\" and \"Polarity\"\n",
    "sentiment_df[\"Subjectivity\"] = sentiment_df[\"Headline\"].apply(calculate_subjectivity)\n",
    "sentiment_df[\"Polarity\"] = sentiment_df[\"Headline\"].apply(calculate_polarity)"
   ]
  },
  {
   "cell_type": "code",
   "execution_count": 33,
   "id": "da7b4a60-8946-4cf9-ada1-48fc29c96d2d",
   "metadata": {
    "tags": []
   },
   "outputs": [],
   "source": [
    "# create function to get the sentiment scores \n",
    "def get_scores(headlines):\n",
    "    get_score= SentimentIntensityAnalyzer()\n",
    "    sentiment=get_score.polarity_scores(headlines)\n",
    "    return sentiment"
   ]
  },
  {
   "cell_type": "code",
   "execution_count": 34,
   "id": "cfc3dcf9-5041-44e9-b079-3342c31e8d1a",
   "metadata": {
    "tags": []
   },
   "outputs": [],
   "source": [
    "# get daily sentiment scores\n",
    "compound = []\n",
    "neg = []\n",
    "pos = []\n",
    "neu = []\n",
    "score = 0\n",
    "\n",
    "for x in range(0, len(sentiment_df[\"Headline\"])):\n",
    "    score = get_scores(sentiment_df[\"Headline\"][x])\n",
    "    compound.append(score[\"compound\"])\n",
    "    neg.append(score[\"neg\"])\n",
    "    neu.append(score[\"neu\"])\n",
    "    pos.append(score[\"pos\"])\n",
    "    "
   ]
  },
  {
   "cell_type": "code",
   "execution_count": 35,
   "id": "6efb12a1-1086-4034-b5e7-65b38a352fce",
   "metadata": {
    "tags": []
   },
   "outputs": [
    {
     "data": {
      "text/html": [
       "<div>\n",
       "<style scoped>\n",
       "    .dataframe tbody tr th:only-of-type {\n",
       "        vertical-align: middle;\n",
       "    }\n",
       "\n",
       "    .dataframe tbody tr th {\n",
       "        vertical-align: top;\n",
       "    }\n",
       "\n",
       "    .dataframe thead th {\n",
       "        text-align: right;\n",
       "    }\n",
       "</style>\n",
       "<table border=\"1\" class=\"dataframe\">\n",
       "  <thead>\n",
       "    <tr style=\"text-align: right;\">\n",
       "      <th></th>\n",
       "      <th>Time</th>\n",
       "      <th>Headline</th>\n",
       "      <th>SP500 Close</th>\n",
       "      <th>Volume</th>\n",
       "      <th>TSLA Close</th>\n",
       "      <th>Tvolume</th>\n",
       "      <th>Subjectivity</th>\n",
       "      <th>Polarity</th>\n",
       "      <th>compound</th>\n",
       "      <th>neg</th>\n",
       "      <th>pos</th>\n",
       "      <th>neu</th>\n",
       "    </tr>\n",
       "  </thead>\n",
       "  <tbody>\n",
       "    <tr>\n",
       "      <th>0</th>\n",
       "      <td>2017-12-18</td>\n",
       "      <td>Brace yourself for the next Brexit faultline: ...</td>\n",
       "      <td>268.200012</td>\n",
       "      <td>83653600.0</td>\n",
       "      <td>22.591333</td>\n",
       "      <td>82143000.0</td>\n",
       "      <td>0.349438</td>\n",
       "      <td>-0.000624</td>\n",
       "      <td>-0.9425</td>\n",
       "      <td>0.122</td>\n",
       "      <td>0.075</td>\n",
       "      <td>0.804</td>\n",
       "    </tr>\n",
       "    <tr>\n",
       "      <th>1</th>\n",
       "      <td>2017-12-19</td>\n",
       "      <td>First pilots, now cabin crew – Ryanair to reco...</td>\n",
       "      <td>267.170013</td>\n",
       "      <td>82382900.0</td>\n",
       "      <td>22.073334</td>\n",
       "      <td>102375000.0</td>\n",
       "      <td>0.303711</td>\n",
       "      <td>-0.043869</td>\n",
       "      <td>-0.9760</td>\n",
       "      <td>0.127</td>\n",
       "      <td>0.027</td>\n",
       "      <td>0.846</td>\n",
       "    </tr>\n",
       "    <tr>\n",
       "      <th>2</th>\n",
       "      <td>2017-12-20</td>\n",
       "      <td>Nearly 45,000 UK retailers in financial distre...</td>\n",
       "      <td>267.029999</td>\n",
       "      <td>76751500.0</td>\n",
       "      <td>21.931999</td>\n",
       "      <td>89307000.0</td>\n",
       "      <td>0.405042</td>\n",
       "      <td>-0.020270</td>\n",
       "      <td>-0.8761</td>\n",
       "      <td>0.104</td>\n",
       "      <td>0.077</td>\n",
       "      <td>0.818</td>\n",
       "    </tr>\n",
       "    <tr>\n",
       "      <th>3</th>\n",
       "      <td>2017-12-21</td>\n",
       "      <td>Last-minute Christmas shopping guide: there is...</td>\n",
       "      <td>267.579987</td>\n",
       "      <td>67032300.0</td>\n",
       "      <td>22.110666</td>\n",
       "      <td>65778000.0</td>\n",
       "      <td>0.522302</td>\n",
       "      <td>-0.036371</td>\n",
       "      <td>0.4404</td>\n",
       "      <td>0.094</td>\n",
       "      <td>0.113</td>\n",
       "      <td>0.793</td>\n",
       "    </tr>\n",
       "    <tr>\n",
       "      <th>4</th>\n",
       "      <td>2017-12-22</td>\n",
       "      <td>Cramer: Never buy a stock all at once — you'll...</td>\n",
       "      <td>267.510010</td>\n",
       "      <td>78720900.0</td>\n",
       "      <td>21.680000</td>\n",
       "      <td>63237000.0</td>\n",
       "      <td>0.429320</td>\n",
       "      <td>0.038917</td>\n",
       "      <td>-0.2362</td>\n",
       "      <td>0.096</td>\n",
       "      <td>0.108</td>\n",
       "      <td>0.797</td>\n",
       "    </tr>\n",
       "  </tbody>\n",
       "</table>\n",
       "</div>"
      ],
      "text/plain": [
       "         Time                                           Headline  SP500 Close  \\\n",
       "0  2017-12-18  Brace yourself for the next Brexit faultline: ...   268.200012   \n",
       "1  2017-12-19  First pilots, now cabin crew – Ryanair to reco...   267.170013   \n",
       "2  2017-12-20  Nearly 45,000 UK retailers in financial distre...   267.029999   \n",
       "3  2017-12-21  Last-minute Christmas shopping guide: there is...   267.579987   \n",
       "4  2017-12-22  Cramer: Never buy a stock all at once — you'll...   267.510010   \n",
       "\n",
       "       Volume  TSLA Close      Tvolume  Subjectivity  Polarity  compound  \\\n",
       "0  83653600.0   22.591333   82143000.0      0.349438 -0.000624   -0.9425   \n",
       "1  82382900.0   22.073334  102375000.0      0.303711 -0.043869   -0.9760   \n",
       "2  76751500.0   21.931999   89307000.0      0.405042 -0.020270   -0.8761   \n",
       "3  67032300.0   22.110666   65778000.0      0.522302 -0.036371    0.4404   \n",
       "4  78720900.0   21.680000   63237000.0      0.429320  0.038917   -0.2362   \n",
       "\n",
       "     neg    pos    neu  \n",
       "0  0.122  0.075  0.804  \n",
       "1  0.127  0.027  0.846  \n",
       "2  0.104  0.077  0.818  \n",
       "3  0.094  0.113  0.793  \n",
       "4  0.096  0.108  0.797  "
      ]
     },
     "execution_count": 35,
     "metadata": {},
     "output_type": "execute_result"
    }
   ],
   "source": [
    "# Add Column with sentiment scores\n",
    "sentiment_df[\"compound\"]= compound\n",
    "sentiment_df[\"neg\"]= neg\n",
    "sentiment_df[\"pos\"]= pos\n",
    "sentiment_df[\"neu\"]= neu\n",
    "\n",
    "# Assuming you have a DataFrame named 'sentiment_df'\n",
    "sentiment_df.rename(columns={'Volume.1': 'Tvolume'}, inplace=True)\n",
    "\n",
    "#Display Dataframe\n",
    "sentiment_df.head()\n"
   ]
  },
  {
   "cell_type": "code",
   "execution_count": 36,
   "id": "2957f0d3-c865-4ee1-b697-8ff3a27bca15",
   "metadata": {
    "tags": []
   },
   "outputs": [],
   "source": [
    "# Calculate daily returns \n",
    "sentiment_df[\"daily returns\"]= sentiment_df[\"TSLA Close\"].pct_change()\n",
    "\n",
    "# Drop SP500 Columns \n",
    "sentiment_df.drop(columns=[\"SP500 Close\", \"Volume\"], inplace = True)\n",
    "\n",
    "# Set Time to be the index and convert to date time format\n",
    "sentiment_df= sentiment_df.set_index(\"Time\")\n",
    "sentiment_df.index= pd.to_datetime(sentiment_df.index)"
   ]
  },
  {
   "cell_type": "code",
   "execution_count": 10,
   "id": "ac816ae9-642f-485b-9c4e-760850a0d645",
   "metadata": {
    "tags": []
   },
   "outputs": [],
   "source": [
    "# Calculations for model with SP500 \n",
    "# Calculate daily returns \n",
    "# sentiment_df[\"daily returns\"]= sentiment_df[\"SP500 Close\"].pct_change()\n",
    "# sentiment_df.drop(columns=[\"TSLA Close\", \"Tvolume\"], inplace = True)\n",
    "# sentiment_df= sentiment_df.set_index(\"Time\")\n",
    "# sentiment_df.index= pd.to_datetime(sentiment_df.index)"
   ]
  },
  {
   "cell_type": "code",
   "execution_count": 11,
   "id": "5bebe7b9-a6d8-48fa-b4cd-ec724ad6f677",
   "metadata": {
    "tags": []
   },
   "outputs": [],
   "source": [
    "# create label column add 1 when daily returns is positive and 0 when it is negative\n",
    "# sentiment_df[\"label\"]= 0\n",
    "# sentiment_df.loc[(sentiment_df[\"daily returns\"]> 0), 'label'] = 1\n",
    "\n",
    "# # verify that label is int\n",
    "# sentiment_df[\"label\"].dtype"
   ]
  },
  {
   "cell_type": "code",
   "execution_count": 37,
   "id": "b42be31f-ca73-4d6d-9635-0df0dcb6aa04",
   "metadata": {
    "tags": []
   },
   "outputs": [],
   "source": [
    "# # calculate SMA short and SMA slow\n",
    "sentiment_df[\"sma_short\"]= sentiment_df.rolling(7)[\"TSLA Close\"].mean()\n",
    "sentiment_df[\"sma_long\"]= sentiment_df.rolling(60)[\"TSLA Close\"].mean()\n",
    "sentiment_df.dropna(inplace=True)"
   ]
  },
  {
   "cell_type": "code",
   "execution_count": 13,
   "id": "88eedb8d-f4ec-4670-b2c7-0542a24fb235",
   "metadata": {
    "tags": []
   },
   "outputs": [],
   "source": [
    "# calculate SMA short and SMA slow\n",
    "# sentiment_df[\"sma_short\"]= sentiment_df.rolling(7)[\"SP500 Close\"].mean()\n",
    "# sentiment_df[\"sma_long\"]= sentiment_df.rolling(30)[\"SP500 Close\"].mean()\n",
    "# sentiment_df.dropna(inplace=True)"
   ]
  },
  {
   "cell_type": "code",
   "execution_count": 38,
   "id": "ab9aaa99-069b-4433-8595-7cc33a98f285",
   "metadata": {
    "tags": []
   },
   "outputs": [
    {
     "data": {
      "text/plain": [
       "Index(['Headline', 'TSLA Close', 'Tvolume', 'Subjectivity', 'Polarity',\n",
       "       'compound', 'neg', 'pos', 'neu', 'daily returns', 'sma_short',\n",
       "       'sma_long'],\n",
       "      dtype='object')"
      ]
     },
     "execution_count": 38,
     "metadata": {},
     "output_type": "execute_result"
    }
   ],
   "source": [
    "# display dataframe\n",
    "sentiment_df.columns"
   ]
  },
  {
   "cell_type": "code",
   "execution_count": 39,
   "id": "af6c8c8f-536c-47d8-9fd0-9da4bfc5e87f",
   "metadata": {
    "tags": []
   },
   "outputs": [
    {
     "data": {
      "text/html": [
       "<div>\n",
       "<style scoped>\n",
       "    .dataframe tbody tr th:only-of-type {\n",
       "        vertical-align: middle;\n",
       "    }\n",
       "\n",
       "    .dataframe tbody tr th {\n",
       "        vertical-align: top;\n",
       "    }\n",
       "\n",
       "    .dataframe thead th {\n",
       "        text-align: right;\n",
       "    }\n",
       "</style>\n",
       "<table border=\"1\" class=\"dataframe\">\n",
       "  <thead>\n",
       "    <tr style=\"text-align: right;\">\n",
       "      <th></th>\n",
       "      <th>Tvolume</th>\n",
       "      <th>Subjectivity</th>\n",
       "      <th>Polarity</th>\n",
       "      <th>compound</th>\n",
       "      <th>neg</th>\n",
       "      <th>pos</th>\n",
       "      <th>neu</th>\n",
       "      <th>sma_short</th>\n",
       "      <th>sma_long</th>\n",
       "    </tr>\n",
       "    <tr>\n",
       "      <th>Time</th>\n",
       "      <th></th>\n",
       "      <th></th>\n",
       "      <th></th>\n",
       "      <th></th>\n",
       "      <th></th>\n",
       "      <th></th>\n",
       "      <th></th>\n",
       "      <th></th>\n",
       "      <th></th>\n",
       "    </tr>\n",
       "  </thead>\n",
       "  <tbody>\n",
       "    <tr>\n",
       "      <th>2020-07-13</th>\n",
       "      <td>350064000.0</td>\n",
       "      <td>0.368474</td>\n",
       "      <td>0.074615</td>\n",
       "      <td>-0.4037</td>\n",
       "      <td>0.100</td>\n",
       "      <td>0.103</td>\n",
       "      <td>0.797</td>\n",
       "      <td>89.471810</td>\n",
       "      <td>60.918122</td>\n",
       "    </tr>\n",
       "    <tr>\n",
       "      <th>2020-07-14</th>\n",
       "      <td>584781000.0</td>\n",
       "      <td>0.414809</td>\n",
       "      <td>0.140556</td>\n",
       "      <td>0.9773</td>\n",
       "      <td>0.100</td>\n",
       "      <td>0.123</td>\n",
       "      <td>0.777</td>\n",
       "      <td>93.066382</td>\n",
       "      <td>61.753511</td>\n",
       "    </tr>\n",
       "    <tr>\n",
       "      <th>2020-07-15</th>\n",
       "      <td>351271500.0</td>\n",
       "      <td>0.345320</td>\n",
       "      <td>0.057631</td>\n",
       "      <td>-0.9830</td>\n",
       "      <td>0.104</td>\n",
       "      <td>0.082</td>\n",
       "      <td>0.814</td>\n",
       "      <td>96.001050</td>\n",
       "      <td>62.601189</td>\n",
       "    </tr>\n",
       "    <tr>\n",
       "      <th>2020-07-16</th>\n",
       "      <td>245517000.0</td>\n",
       "      <td>0.387709</td>\n",
       "      <td>0.012013</td>\n",
       "      <td>0.5514</td>\n",
       "      <td>0.127</td>\n",
       "      <td>0.128</td>\n",
       "      <td>0.745</td>\n",
       "      <td>97.662287</td>\n",
       "      <td>63.489689</td>\n",
       "    </tr>\n",
       "    <tr>\n",
       "      <th>2020-07-17</th>\n",
       "      <td>214512000.0</td>\n",
       "      <td>0.393206</td>\n",
       "      <td>0.088800</td>\n",
       "      <td>-0.9979</td>\n",
       "      <td>0.141</td>\n",
       "      <td>0.088</td>\n",
       "      <td>0.771</td>\n",
       "      <td>98.717334</td>\n",
       "      <td>64.394044</td>\n",
       "    </tr>\n",
       "  </tbody>\n",
       "</table>\n",
       "</div>"
      ],
      "text/plain": [
       "                Tvolume  Subjectivity  Polarity  compound    neg    pos  \\\n",
       "Time                                                                      \n",
       "2020-07-13  350064000.0      0.368474  0.074615   -0.4037  0.100  0.103   \n",
       "2020-07-14  584781000.0      0.414809  0.140556    0.9773  0.100  0.123   \n",
       "2020-07-15  351271500.0      0.345320  0.057631   -0.9830  0.104  0.082   \n",
       "2020-07-16  245517000.0      0.387709  0.012013    0.5514  0.127  0.128   \n",
       "2020-07-17  214512000.0      0.393206  0.088800   -0.9979  0.141  0.088   \n",
       "\n",
       "              neu  sma_short   sma_long  \n",
       "Time                                     \n",
       "2020-07-13  0.797  89.471810  60.918122  \n",
       "2020-07-14  0.777  93.066382  61.753511  \n",
       "2020-07-15  0.814  96.001050  62.601189  \n",
       "2020-07-16  0.745  97.662287  63.489689  \n",
       "2020-07-17  0.771  98.717334  64.394044  "
      ]
     },
     "execution_count": 39,
     "metadata": {},
     "output_type": "execute_result"
    }
   ],
   "source": [
    "# create features variable with columns for X\n",
    "#TSLA Version\n",
    "features=['Tvolume', 'Subjectivity', 'Polarity',\n",
    "       'compound', 'neg', 'pos', 'neu', 'sma_short',\n",
    "       'sma_long']\n",
    "\n",
    "X = sentiment_df[features].shift().dropna().copy()\n",
    "X.tail()\n",
    "\n",
    "#SP500 Version\n",
    "# create features variable with columns for X\n",
    "# features=['Volume', 'Subjectivity', 'Polarity',\n",
    "#        'compound', 'neg', 'pos', 'neu', 'sma_short',\n",
    "#        'sma_long']\n",
    "\n",
    "# X = sentiment_df[features].shift().dropna().copy()\n",
    "# X.tail()"
   ]
  },
  {
   "cell_type": "code",
   "execution_count": 40,
   "id": "c5a2e5e1-f559-4a32-a3c5-2870e7990acc",
   "metadata": {
    "tags": []
   },
   "outputs": [],
   "source": [
    "# create labels for y value using daily returns\n",
    "y=(sentiment_df['daily returns']>0).astype(int)[1:]"
   ]
  },
  {
   "cell_type": "code",
   "execution_count": 41,
   "id": "6addb192-d4bc-493f-a36a-18094381b8ee",
   "metadata": {
    "tags": []
   },
   "outputs": [
    {
     "data": {
      "text/plain": [
       "587"
      ]
     },
     "metadata": {},
     "output_type": "display_data"
    },
    {
     "data": {
      "text/plain": [
       "587"
      ]
     },
     "metadata": {},
     "output_type": "display_data"
    }
   ],
   "source": [
    "# verify x and y are same length\n",
    "display(len(X))\n",
    "display(len(y))"
   ]
  },
  {
   "cell_type": "code",
   "execution_count": 75,
   "id": "341e07ff-7c57-4546-bf6d-94467bbc6761",
   "metadata": {
    "tags": []
   },
   "outputs": [
    {
     "name": "stdout",
     "output_type": "stream",
     "text": [
      "2018-03-20 00:00:00\n",
      "2018-06-20 00:00:00\n"
     ]
    },
    {
     "data": {
      "text/html": [
       "<div>\n",
       "<style scoped>\n",
       "    .dataframe tbody tr th:only-of-type {\n",
       "        vertical-align: middle;\n",
       "    }\n",
       "\n",
       "    .dataframe tbody tr th {\n",
       "        vertical-align: top;\n",
       "    }\n",
       "\n",
       "    .dataframe thead th {\n",
       "        text-align: right;\n",
       "    }\n",
       "</style>\n",
       "<table border=\"1\" class=\"dataframe\">\n",
       "  <thead>\n",
       "    <tr style=\"text-align: right;\">\n",
       "      <th></th>\n",
       "      <th>Tvolume</th>\n",
       "      <th>Subjectivity</th>\n",
       "      <th>Polarity</th>\n",
       "      <th>compound</th>\n",
       "      <th>neg</th>\n",
       "      <th>pos</th>\n",
       "      <th>neu</th>\n",
       "      <th>sma_short</th>\n",
       "      <th>sma_long</th>\n",
       "    </tr>\n",
       "    <tr>\n",
       "      <th>Time</th>\n",
       "      <th></th>\n",
       "      <th></th>\n",
       "      <th></th>\n",
       "      <th></th>\n",
       "      <th></th>\n",
       "      <th></th>\n",
       "      <th></th>\n",
       "      <th></th>\n",
       "      <th></th>\n",
       "    </tr>\n",
       "  </thead>\n",
       "  <tbody>\n",
       "    <tr>\n",
       "      <th>2018-03-20</th>\n",
       "      <td>112264500.0</td>\n",
       "      <td>0.396209</td>\n",
       "      <td>0.040144</td>\n",
       "      <td>-0.3551</td>\n",
       "      <td>0.118</td>\n",
       "      <td>0.111</td>\n",
       "      <td>0.771</td>\n",
       "      <td>21.920571</td>\n",
       "      <td>22.285689</td>\n",
       "    </tr>\n",
       "    <tr>\n",
       "      <th>2018-03-21</th>\n",
       "      <td>71464500.0</td>\n",
       "      <td>0.374032</td>\n",
       "      <td>0.028472</td>\n",
       "      <td>-0.9856</td>\n",
       "      <td>0.117</td>\n",
       "      <td>0.082</td>\n",
       "      <td>0.801</td>\n",
       "      <td>21.762286</td>\n",
       "      <td>22.254222</td>\n",
       "    </tr>\n",
       "    <tr>\n",
       "      <th>2018-03-22</th>\n",
       "      <td>89376000.0</td>\n",
       "      <td>0.377280</td>\n",
       "      <td>0.073502</td>\n",
       "      <td>-0.9679</td>\n",
       "      <td>0.109</td>\n",
       "      <td>0.091</td>\n",
       "      <td>0.800</td>\n",
       "      <td>21.486285</td>\n",
       "      <td>22.238033</td>\n",
       "    </tr>\n",
       "    <tr>\n",
       "      <th>2018-03-23</th>\n",
       "      <td>74097000.0</td>\n",
       "      <td>0.364351</td>\n",
       "      <td>0.060998</td>\n",
       "      <td>0.4632</td>\n",
       "      <td>0.129</td>\n",
       "      <td>0.124</td>\n",
       "      <td>0.747</td>\n",
       "      <td>21.174476</td>\n",
       "      <td>22.215944</td>\n",
       "    </tr>\n",
       "    <tr>\n",
       "      <th>2018-03-26</th>\n",
       "      <td>99823500.0</td>\n",
       "      <td>0.410239</td>\n",
       "      <td>0.051506</td>\n",
       "      <td>-0.9812</td>\n",
       "      <td>0.107</td>\n",
       "      <td>0.080</td>\n",
       "      <td>0.813</td>\n",
       "      <td>20.935523</td>\n",
       "      <td>22.182478</td>\n",
       "    </tr>\n",
       "  </tbody>\n",
       "</table>\n",
       "</div>"
      ],
      "text/plain": [
       "                Tvolume  Subjectivity  Polarity  compound    neg    pos  \\\n",
       "Time                                                                      \n",
       "2018-03-20  112264500.0      0.396209  0.040144   -0.3551  0.118  0.111   \n",
       "2018-03-21   71464500.0      0.374032  0.028472   -0.9856  0.117  0.082   \n",
       "2018-03-22   89376000.0      0.377280  0.073502   -0.9679  0.109  0.091   \n",
       "2018-03-23   74097000.0      0.364351  0.060998    0.4632  0.129  0.124   \n",
       "2018-03-26   99823500.0      0.410239  0.051506   -0.9812  0.107  0.080   \n",
       "\n",
       "              neu  sma_short   sma_long  \n",
       "Time                                     \n",
       "2018-03-20  0.771  21.920571  22.285689  \n",
       "2018-03-21  0.801  21.762286  22.254222  \n",
       "2018-03-22  0.800  21.486285  22.238033  \n",
       "2018-03-23  0.747  21.174476  22.215944  \n",
       "2018-03-26  0.813  20.935523  22.182478  "
      ]
     },
     "execution_count": 75,
     "metadata": {},
     "output_type": "execute_result"
    }
   ],
   "source": [
    "# Select the start of the training period\n",
    "training_begin = X.index.min()\n",
    "\n",
    "# Display the training begin date\n",
    "print(training_begin)\n",
    "\n",
    "# Select the ending period for the training data with an offset of 3 months\n",
    "training_end = X.index.min() + DateOffset(months=3)\n",
    "\n",
    "# Display the training end date\n",
    "print(training_end)\n",
    "\n",
    "# Generate the X_train and y_train DataFrames\n",
    "X_train = X.loc[training_begin:training_end]\n",
    "y_train = y.loc[training_begin:training_end]\n",
    "\n",
    "# Review the X_train DataFrame\n",
    "X_train.head()\n",
    "\n",
    "# Generate the X_test and y_test DataFrames\n",
    "X_test = X.loc[training_end+DateOffset(hours=1):]\n",
    "y_test = y.loc[training_end+DateOffset(hours=1):]\n",
    "\n",
    "# Review the X_test DataFrame\n",
    "X_train.head()"
   ]
  },
  {
   "cell_type": "code",
   "execution_count": 44,
   "id": "525166ae-24d3-4dbe-9d9b-09288e5c1ca1",
   "metadata": {
    "tags": []
   },
   "outputs": [],
   "source": [
    "## Scale the features DataFrames\n",
    "\n",
    "# Create a StandardScaler instance\n",
    "scaler = StandardScaler()\n",
    "\n",
    "# Apply the scaler model to fit the X-train data\n",
    "X_scaler = scaler.fit(X_train)\n",
    "\n",
    "# Transform the X_train and X_test DataFrames using the X_scaler\n",
    "X_train_scaled = X_scaler.transform(X_train)\n",
    "X_test_scaled = X_scaler.transform(X_test)"
   ]
  },
  {
   "cell_type": "code",
   "execution_count": 45,
   "id": "10884ce4-2f04-45b8-a39b-4714dba665e9",
   "metadata": {
    "tags": []
   },
   "outputs": [
    {
     "name": "stdout",
     "output_type": "stream",
     "text": [
      "              precision    recall  f1-score   support\n",
      "\n",
      "           0       0.57      0.13      0.21       254\n",
      "           1       0.52      0.91      0.66       268\n",
      "\n",
      "    accuracy                           0.53       522\n",
      "   macro avg       0.55      0.52      0.44       522\n",
      "weighted avg       0.55      0.53      0.44       522\n",
      "\n"
     ]
    }
   ],
   "source": [
    "## Use a classifier to predict future results\n",
    "\n",
    "# From SVM, instantiate SVC classifier model instance\n",
    "svm_model = svm.SVC()\n",
    " \n",
    "# Fit the model to the data using the training data\n",
    "svm_model = svm_model.fit(X_train_scaled, y_train)\n",
    " \n",
    "# Use the testing data to make the model predictions\n",
    "svm_pred = svm_model.predict(X_test_scaled)\n",
    "\n",
    "# Review the model's predicted values\n",
    "svm_pred[:10]\n",
    "\n",
    "# Use a classification report to evaluate the model using the predictions and testing data\n",
    "svm_testing_report = classification_report(y_test, svm_pred)\n",
    "\n",
    "# Print the classification report\n",
    "print(svm_testing_report)\n"
   ]
  },
  {
   "cell_type": "code",
   "execution_count": 57,
   "id": "bbdc776b-3bca-444c-9cba-d40b5e2faec9",
   "metadata": {
    "tags": []
   },
   "outputs": [
    {
     "data": {
      "text/html": [
       "<div>\n",
       "<style scoped>\n",
       "    .dataframe tbody tr th:only-of-type {\n",
       "        vertical-align: middle;\n",
       "    }\n",
       "\n",
       "    .dataframe tbody tr th {\n",
       "        vertical-align: top;\n",
       "    }\n",
       "\n",
       "    .dataframe thead th {\n",
       "        text-align: right;\n",
       "    }\n",
       "</style>\n",
       "<table border=\"1\" class=\"dataframe\">\n",
       "  <thead>\n",
       "    <tr style=\"text-align: right;\">\n",
       "      <th></th>\n",
       "      <th>Predicted</th>\n",
       "      <th>Actual Returns</th>\n",
       "      <th>Strategy Returns</th>\n",
       "    </tr>\n",
       "    <tr>\n",
       "      <th>Time</th>\n",
       "      <th></th>\n",
       "      <th></th>\n",
       "      <th></th>\n",
       "    </tr>\n",
       "  </thead>\n",
       "  <tbody>\n",
       "    <tr>\n",
       "      <th>2018-06-21</th>\n",
       "      <td>1</td>\n",
       "      <td>-0.040611</td>\n",
       "      <td>-0.040611</td>\n",
       "    </tr>\n",
       "    <tr>\n",
       "      <th>2018-06-22</th>\n",
       "      <td>1</td>\n",
       "      <td>-0.039941</td>\n",
       "      <td>-0.039941</td>\n",
       "    </tr>\n",
       "    <tr>\n",
       "      <th>2018-06-25</th>\n",
       "      <td>1</td>\n",
       "      <td>-0.001858</td>\n",
       "      <td>-0.001858</td>\n",
       "    </tr>\n",
       "    <tr>\n",
       "      <th>2018-06-26</th>\n",
       "      <td>1</td>\n",
       "      <td>0.026996</td>\n",
       "      <td>0.026996</td>\n",
       "    </tr>\n",
       "    <tr>\n",
       "      <th>2018-06-27</th>\n",
       "      <td>1</td>\n",
       "      <td>0.007310</td>\n",
       "      <td>0.007310</td>\n",
       "    </tr>\n",
       "  </tbody>\n",
       "</table>\n",
       "</div>"
      ],
      "text/plain": [
       "            Predicted  Actual Returns  Strategy Returns\n",
       "Time                                                   \n",
       "2018-06-21          1       -0.040611         -0.040611\n",
       "2018-06-22          1       -0.039941         -0.039941\n",
       "2018-06-25          1       -0.001858         -0.001858\n",
       "2018-06-26          1        0.026996          0.026996\n",
       "2018-06-27          1        0.007310          0.007310"
      ]
     },
     "metadata": {},
     "output_type": "display_data"
    },
    {
     "data": {
      "text/html": [
       "<div>\n",
       "<style scoped>\n",
       "    .dataframe tbody tr th:only-of-type {\n",
       "        vertical-align: middle;\n",
       "    }\n",
       "\n",
       "    .dataframe tbody tr th {\n",
       "        vertical-align: top;\n",
       "    }\n",
       "\n",
       "    .dataframe thead th {\n",
       "        text-align: right;\n",
       "    }\n",
       "</style>\n",
       "<table border=\"1\" class=\"dataframe\">\n",
       "  <thead>\n",
       "    <tr style=\"text-align: right;\">\n",
       "      <th></th>\n",
       "      <th>Predicted</th>\n",
       "      <th>Actual Returns</th>\n",
       "      <th>Strategy Returns</th>\n",
       "    </tr>\n",
       "    <tr>\n",
       "      <th>Time</th>\n",
       "      <th></th>\n",
       "      <th></th>\n",
       "      <th></th>\n",
       "    </tr>\n",
       "  </thead>\n",
       "  <tbody>\n",
       "    <tr>\n",
       "      <th>2020-07-13</th>\n",
       "      <td>1</td>\n",
       "      <td>-0.030810</td>\n",
       "      <td>-0.030810</td>\n",
       "    </tr>\n",
       "    <tr>\n",
       "      <th>2020-07-14</th>\n",
       "      <td>1</td>\n",
       "      <td>0.013186</td>\n",
       "      <td>0.013186</td>\n",
       "    </tr>\n",
       "    <tr>\n",
       "      <th>2020-07-15</th>\n",
       "      <td>1</td>\n",
       "      <td>0.019258</td>\n",
       "      <td>0.019258</td>\n",
       "    </tr>\n",
       "    <tr>\n",
       "      <th>2020-07-16</th>\n",
       "      <td>1</td>\n",
       "      <td>-0.029347</td>\n",
       "      <td>-0.029347</td>\n",
       "    </tr>\n",
       "    <tr>\n",
       "      <th>2020-07-17</th>\n",
       "      <td>1</td>\n",
       "      <td>0.000133</td>\n",
       "      <td>0.000133</td>\n",
       "    </tr>\n",
       "  </tbody>\n",
       "</table>\n",
       "</div>"
      ],
      "text/plain": [
       "            Predicted  Actual Returns  Strategy Returns\n",
       "Time                                                   \n",
       "2020-07-13          1       -0.030810         -0.030810\n",
       "2020-07-14          1        0.013186          0.013186\n",
       "2020-07-15          1        0.019258          0.019258\n",
       "2020-07-16          1       -0.029347         -0.029347\n",
       "2020-07-17          1        0.000133          0.000133"
      ]
     },
     "metadata": {},
     "output_type": "display_data"
    }
   ],
   "source": [
    "# Create a predictions DataFrame\n",
    "predictions_sentiment_df = pd.DataFrame(index=X_test.index)\n",
    "\n",
    "# Add the SVM model predictions to the DataFrame\n",
    "predictions_sentiment_df['Predicted'] = svm_pred\n",
    "\n",
    "# Add the actual returns to the DataFrame\n",
    "predictions_sentiment_df['Actual Returns'] = sentiment_df['daily returns']\n",
    "\n",
    "# Add the strategy returns to the DataFrame\n",
    "predictions_sentiment_df['Strategy Returns'] = predictions_sentiment_df['Actual Returns'] * predictions_sentiment_df['Predicted']\n",
    "\n",
    "# Review the DataFrame\n",
    "display(predictions_sentiment_df.head())\n",
    "display(predictions_sentiment_df.tail())\n"
   ]
  },
  {
   "cell_type": "code",
   "execution_count": 55,
   "id": "5e5bdfbd-620d-4f94-914e-de04912e0e65",
   "metadata": {},
   "outputs": [
    {
     "name": "stdout",
     "output_type": "stream",
     "text": [
      "Predictions value counts:\n",
      "1    464\n",
      "0     58\n",
      "Name: Predicted, dtype: int64\n",
      "Y test value counts:\n",
      "1    268\n",
      "0    254\n",
      "Name: daily returns, dtype: int64\n"
     ]
    }
   ],
   "source": [
    "# count predictions values and test values\n",
    "print(\"Predictions value counts:\")\n",
    "print(f\"{predictions_sentiment_df['Predicted'].value_counts()}\")\n",
    "print(\"Y test value counts:\")\n",
    "print(f\"{y_test.value_counts()}\")"
   ]
  },
  {
   "cell_type": "code",
   "execution_count": 68,
   "id": "48059532-202d-4058-a970-c2bfc7367d7e",
   "metadata": {
    "tags": []
   },
   "outputs": [
    {
     "data": {
      "image/png": "[encoded data removed]",
      "text/plain": [
       "<Figure size 640x480 with 1 Axes>"
      ]
     },
     "metadata": {},
     "output_type": "display_data"
    }
   ],
   "source": [
    "# plot cumulative returns\n",
    "plot_cum_returns= (1 + predictions_sentiment_df[[\"Actual Returns\", \"Strategy Returns\"]]).cumprod()\n",
    "plot_cum_returns.plot(title='SVM Model')\n",
    "\n",
    "# Save the plot as a png file\n",
    "plt.savefig('../Resources/SVC.png', format='png')\n",
    "\n",
    "# Save the plot as a JPG file\n",
    "# plt.savefig('SP500_SVM.jpg', format='jpg')\n"
   ]
  },
  {
   "cell_type": "code",
   "execution_count": 76,
   "id": "69a28c09-0c44-4cb0-ac61-db6a072c55fd",
   "metadata": {
    "tags": []
   },
   "outputs": [],
   "source": [
    "# instantiate LinearDiscriminantAnalysis\n",
    "model = LinearDiscriminantAnalysis()\n"
   ]
  },
  {
   "cell_type": "code",
   "execution_count": 77,
   "id": "45821c9d-c6e7-49cc-868c-ff9f3f9b49a5",
   "metadata": {
    "tags": []
   },
   "outputs": [
    {
     "name": "stdout",
     "output_type": "stream",
     "text": [
      "              precision    recall  f1-score   support\n",
      "\n",
      "           0       0.47      0.43      0.45       254\n",
      "           1       0.50      0.53      0.51       268\n",
      "\n",
      "    accuracy                           0.48       522\n",
      "   macro avg       0.48      0.48      0.48       522\n",
      "weighted avg       0.48      0.48      0.48       522\n",
      "\n"
     ]
    }
   ],
   "source": [
    "# Fit the model to the data using the training data\n",
    "linear_disc_model = model.fit(X_train_scaled, y_train)\n",
    " \n",
    "# Use the testing data to make the model predictions\n",
    "linear_disc_model = model.predict(X_test_scaled)\n",
    "\n",
    "# Review the model's predicted values\n",
    "linear_disc_model[:10]\n",
    "\n",
    "# Use a classification report to evaluate the model using the predictions and testing data\n",
    "linear_disc_testing_report = classification_report(y_test, linear_disc_model)\n",
    "\n",
    "# Print the classification report\n",
    "print(linear_disc_testing_report)\n"
   ]
  },
  {
   "cell_type": "code",
   "execution_count": 78,
   "id": "86f1ab33-654f-41e1-8697-da0846d5a851",
   "metadata": {
    "tags": []
   },
   "outputs": [
    {
     "data": {
      "text/html": [
       "<div>\n",
       "<style scoped>\n",
       "    .dataframe tbody tr th:only-of-type {\n",
       "        vertical-align: middle;\n",
       "    }\n",
       "\n",
       "    .dataframe tbody tr th {\n",
       "        vertical-align: top;\n",
       "    }\n",
       "\n",
       "    .dataframe thead th {\n",
       "        text-align: right;\n",
       "    }\n",
       "</style>\n",
       "<table border=\"1\" class=\"dataframe\">\n",
       "  <thead>\n",
       "    <tr style=\"text-align: right;\">\n",
       "      <th></th>\n",
       "      <th>Predicted</th>\n",
       "      <th>Actual Returns</th>\n",
       "      <th>Strategy Returns</th>\n",
       "    </tr>\n",
       "    <tr>\n",
       "      <th>Time</th>\n",
       "      <th></th>\n",
       "      <th></th>\n",
       "      <th></th>\n",
       "    </tr>\n",
       "  </thead>\n",
       "  <tbody>\n",
       "    <tr>\n",
       "      <th>2018-06-21</th>\n",
       "      <td>1</td>\n",
       "      <td>-0.040611</td>\n",
       "      <td>-0.040611</td>\n",
       "    </tr>\n",
       "    <tr>\n",
       "      <th>2018-06-22</th>\n",
       "      <td>1</td>\n",
       "      <td>-0.039941</td>\n",
       "      <td>-0.039941</td>\n",
       "    </tr>\n",
       "    <tr>\n",
       "      <th>2018-06-25</th>\n",
       "      <td>1</td>\n",
       "      <td>-0.001858</td>\n",
       "      <td>-0.001858</td>\n",
       "    </tr>\n",
       "    <tr>\n",
       "      <th>2018-06-26</th>\n",
       "      <td>1</td>\n",
       "      <td>0.026996</td>\n",
       "      <td>0.026996</td>\n",
       "    </tr>\n",
       "    <tr>\n",
       "      <th>2018-06-27</th>\n",
       "      <td>0</td>\n",
       "      <td>0.007310</td>\n",
       "      <td>0.000000</td>\n",
       "    </tr>\n",
       "  </tbody>\n",
       "</table>\n",
       "</div>"
      ],
      "text/plain": [
       "            Predicted  Actual Returns  Strategy Returns\n",
       "Time                                                   \n",
       "2018-06-21          1       -0.040611         -0.040611\n",
       "2018-06-22          1       -0.039941         -0.039941\n",
       "2018-06-25          1       -0.001858         -0.001858\n",
       "2018-06-26          1        0.026996          0.026996\n",
       "2018-06-27          0        0.007310          0.000000"
      ]
     },
     "metadata": {},
     "output_type": "display_data"
    },
    {
     "data": {
      "text/html": [
       "<div>\n",
       "<style scoped>\n",
       "    .dataframe tbody tr th:only-of-type {\n",
       "        vertical-align: middle;\n",
       "    }\n",
       "\n",
       "    .dataframe tbody tr th {\n",
       "        vertical-align: top;\n",
       "    }\n",
       "\n",
       "    .dataframe thead th {\n",
       "        text-align: right;\n",
       "    }\n",
       "</style>\n",
       "<table border=\"1\" class=\"dataframe\">\n",
       "  <thead>\n",
       "    <tr style=\"text-align: right;\">\n",
       "      <th></th>\n",
       "      <th>Predicted</th>\n",
       "      <th>Actual Returns</th>\n",
       "      <th>Strategy Returns</th>\n",
       "    </tr>\n",
       "    <tr>\n",
       "      <th>Time</th>\n",
       "      <th></th>\n",
       "      <th></th>\n",
       "      <th></th>\n",
       "    </tr>\n",
       "  </thead>\n",
       "  <tbody>\n",
       "    <tr>\n",
       "      <th>2020-07-13</th>\n",
       "      <td>0</td>\n",
       "      <td>-0.030810</td>\n",
       "      <td>-0.0</td>\n",
       "    </tr>\n",
       "    <tr>\n",
       "      <th>2020-07-14</th>\n",
       "      <td>0</td>\n",
       "      <td>0.013186</td>\n",
       "      <td>0.0</td>\n",
       "    </tr>\n",
       "    <tr>\n",
       "      <th>2020-07-15</th>\n",
       "      <td>0</td>\n",
       "      <td>0.019258</td>\n",
       "      <td>0.0</td>\n",
       "    </tr>\n",
       "    <tr>\n",
       "      <th>2020-07-16</th>\n",
       "      <td>0</td>\n",
       "      <td>-0.029347</td>\n",
       "      <td>-0.0</td>\n",
       "    </tr>\n",
       "    <tr>\n",
       "      <th>2020-07-17</th>\n",
       "      <td>0</td>\n",
       "      <td>0.000133</td>\n",
       "      <td>0.0</td>\n",
       "    </tr>\n",
       "  </tbody>\n",
       "</table>\n",
       "</div>"
      ],
      "text/plain": [
       "            Predicted  Actual Returns  Strategy Returns\n",
       "Time                                                   \n",
       "2020-07-13          0       -0.030810              -0.0\n",
       "2020-07-14          0        0.013186               0.0\n",
       "2020-07-15          0        0.019258               0.0\n",
       "2020-07-16          0       -0.029347              -0.0\n",
       "2020-07-17          0        0.000133               0.0"
      ]
     },
     "metadata": {},
     "output_type": "display_data"
    }
   ],
   "source": [
    "predictions_sentiment_df_2 = pd.DataFrame(index=X_test.index)\n",
    "\n",
    "# Add the SVM model predictions to the DataFrame\n",
    "predictions_sentiment_df_2['Predicted'] = linear_disc_model\n",
    "\n",
    "# Add the actual returns to the DataFrame\n",
    "predictions_sentiment_df_2['Actual Returns'] = sentiment_df['daily returns']\n",
    "\n",
    "# Add the strategy returns to the DataFrame\n",
    "predictions_sentiment_df_2['Strategy Returns'] = predictions_sentiment_df_2['Actual Returns'] * predictions_sentiment_df_2['Predicted']\n",
    "\n",
    "# Review the DataFrame\n",
    "display(predictions_sentiment_df_2.head())\n",
    "display(predictions_sentiment_df_2.tail())\n"
   ]
  },
  {
   "cell_type": "code",
   "execution_count": 79,
   "id": "9a78942e-853d-4f5e-8b85-32a17ad030fc",
   "metadata": {},
   "outputs": [
    {
     "name": "stdout",
     "output_type": "stream",
     "text": [
      "Predictions value counts:\n",
      "1    286\n",
      "0    236\n",
      "Name: Predicted, dtype: int64\n",
      "Y test value counts:\n",
      "1    268\n",
      "0    254\n",
      "Name: daily returns, dtype: int64\n"
     ]
    }
   ],
   "source": [
    "# count predictions values and test values\n",
    "print(\"Predictions value counts:\")\n",
    "print(f\"{predictions_sentiment_df_2['Predicted'].value_counts()}\")\n",
    "print(\"Y test value counts:\")\n",
    "print(f\"{y_test.value_counts()}\")"
   ]
  },
  {
   "cell_type": "code",
   "execution_count": 80,
   "id": "b085db41-f7e3-4de4-9963-c29eebcb0fa4",
   "metadata": {
    "tags": []
   },
   "outputs": [
    {
     "data": {
      "text/plain": [
       "<Axes: title={'center': 'Linear Discriminant Analysis Model'}, xlabel='Time'>"
      ]
     },
     "execution_count": 80,
     "metadata": {},
     "output_type": "execute_result"
    },
    {
     "data": {
      "image/png": "[encoded data removed]",
      "text/plain": [
       "<Figure size 640x480 with 1 Axes>"
      ]
     },
     "metadata": {},
     "output_type": "display_data"
    }
   ],
   "source": [
    "# plot cumulative returns\n",
    "plot_cum_returns= (1 + predictions_sentiment_df_2[[\"Actual Returns\", \"Strategy Returns\"]]).cumprod()\n",
    "plot_cum_returns.plot(title='Linear Discriminant Analysis Model')\n",
    "\n",
    "# Save the plot as a png file\n",
    "# plt.savefig('../Resources/SVC.png', format='png')\n",
    "\n",
    "# predictions_sentiment_df_2[[\"Actual Returns\",\"Strategy Returns\"]].plot()\n",
    "# # plt.savefig('SP500 LinearDiscriminantAnalysis.jpg', format='jpg')\n",
    "# plt.savefig('TSLA LinearDiscriminantAnalysis.jpg', format='jpg')\n"
   ]
  },
  {
   "cell_type": "code",
   "execution_count": null,
   "id": "7597d78f-fdc1-4bc3-940e-85ec2cefe6cf",
   "metadata": {},
   "outputs": [],
   "source": []
  }
 ],
 "metadata": {
  "kernelspec": {
   "display_name": "Python 3 (ipykernel)",
   "language": "python",
   "name": "python3"
  },
  "language_info": {
   "codemirror_mode": {
    "name": "ipython",
    "version": 3
   },
   "file_extension": ".py",
   "mimetype": "text/x-python",
   "name": "python",
   "nbconvert_exporter": "python",
   "pygments_lexer": "ipython3",
   "version": "3.10.11"
  },
  "widgets": {
   "application/vnd.jupyter.widget-state+json": {
    "state": {},
    "version_major": 2,
    "version_minor": 0
   }
  }
 },
 "nbformat": 4,
 "nbformat_minor": 5
}
