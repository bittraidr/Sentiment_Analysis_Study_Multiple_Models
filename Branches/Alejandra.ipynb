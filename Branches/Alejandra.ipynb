{
 "cells": [
  {
   "cell_type": "code",
   "execution_count": 1,
   "id": "342ee7b7-7f06-4104-9792-c97984e139fe",
   "metadata": {},
   "outputs": [],
   "source": [
    "#[Joe] 1. Acquire and process stock data\n",
    "#[Alejandra]x 2. Acquire and process sentiment analysis data\n",
    "#[Session] 3. Run baseline\n",
    "#[Joe]x 4. Run sentiment analysis with LinearDiscreminateAnalysis\n",
    "#[Edward] 5. Run sentiment analysis with alternate classifier\n",
    "#[Edward] 6. Combine results\n",
    "#[Session] 7. Put together PPT preso"
   ]
  },
  {
   "cell_type": "code",
   "execution_count": 2,
   "id": "52cee76c-678e-4d84-b510-040c69ec2b47",
   "metadata": {
    "tags": []
   },
   "outputs": [],
   "source": [
    "import pandas as pd\n",
    "import numpy as np\n",
    "from pathlib import Path\n",
    "from textblob import TextBlob\n",
    "import re\n",
    "from vaderSentiment.vaderSentiment import SentimentIntensityAnalyzer\n",
    "from sklearn import tree\n",
    "from sklearn.preprocessing import StandardScaler\n",
    "from sklearn.model_selection import train_test_split\n",
    "from sklearn.metrics import confusion_matrix, accuracy_score, classification_report\n",
    "import yfinance as yf\n",
    "import warnings\n",
    "from pandas.tseries.offsets import DateOffset\n",
    "from sklearn import svm\n",
    "from sklearn.discriminant_analysis import LinearDiscriminantAnalysis\n",
    "# Ignore all warnings within this code block\n",
    "warnings.filterwarnings(\"ignore\")"
   ]
  },
  {
   "cell_type": "code",
   "execution_count": 3,
   "id": "80b36877-f199-4e5f-925d-c96261dea63a",
   "metadata": {
    "tags": []
   },
   "outputs": [
    {
     "data": {
      "text/html": [
       "<div>\n",
       "<style scoped>\n",
       "    .dataframe tbody tr th:only-of-type {\n",
       "        vertical-align: middle;\n",
       "    }\n",
       "\n",
       "    .dataframe tbody tr th {\n",
       "        vertical-align: top;\n",
       "    }\n",
       "\n",
       "    .dataframe thead th {\n",
       "        text-align: right;\n",
       "    }\n",
       "</style>\n",
       "<table border=\"1\" class=\"dataframe\">\n",
       "  <thead>\n",
       "    <tr style=\"text-align: right;\">\n",
       "      <th></th>\n",
       "      <th>Time</th>\n",
       "      <th>Headline</th>\n",
       "      <th>SP500 Close</th>\n",
       "      <th>Volume</th>\n",
       "      <th>TSLA Close</th>\n",
       "      <th>Volume.1</th>\n",
       "    </tr>\n",
       "  </thead>\n",
       "  <tbody>\n",
       "    <tr>\n",
       "      <th>0</th>\n",
       "      <td>2017-12-18</td>\n",
       "      <td>Brace yourself for the next Brexit faultline: ...</td>\n",
       "      <td>268.200012</td>\n",
       "      <td>83653600.0</td>\n",
       "      <td>22.591333</td>\n",
       "      <td>82143000.0</td>\n",
       "    </tr>\n",
       "    <tr>\n",
       "      <th>1</th>\n",
       "      <td>2017-12-19</td>\n",
       "      <td>First pilots, now cabin crew – Ryanair to reco...</td>\n",
       "      <td>267.170013</td>\n",
       "      <td>82382900.0</td>\n",
       "      <td>22.073334</td>\n",
       "      <td>102375000.0</td>\n",
       "    </tr>\n",
       "    <tr>\n",
       "      <th>2</th>\n",
       "      <td>2017-12-20</td>\n",
       "      <td>Nearly 45,000 UK retailers in financial distre...</td>\n",
       "      <td>267.029999</td>\n",
       "      <td>76751500.0</td>\n",
       "      <td>21.931999</td>\n",
       "      <td>89307000.0</td>\n",
       "    </tr>\n",
       "    <tr>\n",
       "      <th>3</th>\n",
       "      <td>2017-12-21</td>\n",
       "      <td>Last-minute Christmas shopping guide: there is...</td>\n",
       "      <td>267.579987</td>\n",
       "      <td>67032300.0</td>\n",
       "      <td>22.110666</td>\n",
       "      <td>65778000.0</td>\n",
       "    </tr>\n",
       "    <tr>\n",
       "      <th>4</th>\n",
       "      <td>2017-12-22</td>\n",
       "      <td>Cramer: Never buy a stock all at once — you'll...</td>\n",
       "      <td>267.510010</td>\n",
       "      <td>78720900.0</td>\n",
       "      <td>21.680000</td>\n",
       "      <td>63237000.0</td>\n",
       "    </tr>\n",
       "  </tbody>\n",
       "</table>\n",
       "</div>"
      ],
      "text/plain": [
       "         Time                                           Headline  SP500 Close  \\\n",
       "0  2017-12-18  Brace yourself for the next Brexit faultline: ...   268.200012   \n",
       "1  2017-12-19  First pilots, now cabin crew – Ryanair to reco...   267.170013   \n",
       "2  2017-12-20  Nearly 45,000 UK retailers in financial distre...   267.029999   \n",
       "3  2017-12-21  Last-minute Christmas shopping guide: there is...   267.579987   \n",
       "4  2017-12-22  Cramer: Never buy a stock all at once — you'll...   267.510010   \n",
       "\n",
       "       Volume  TSLA Close     Volume.1  \n",
       "0  83653600.0   22.591333   82143000.0  \n",
       "1  82382900.0   22.073334  102375000.0  \n",
       "2  76751500.0   21.931999   89307000.0  \n",
       "3  67032300.0   22.110666   65778000.0  \n",
       "4  78720900.0   21.680000   63237000.0  "
      ]
     },
     "execution_count": 3,
     "metadata": {},
     "output_type": "execute_result"
    }
   ],
   "source": [
    "## Acquire and process sentiment data from Kaggle\n",
    "sentiment_df=pd.read_csv(Path(\"../Resources/combined_csv.csv\"))\n",
    "sentiment_df.head()"
   ]
  },
  {
   "cell_type": "code",
   "execution_count": 4,
   "id": "e4c464e3-989f-4f90-954f-68e0ac824546",
   "metadata": {
    "tags": []
   },
   "outputs": [],
   "source": [
    "# obtain polarity and subjectivity scores (potentially factor volume of information in the sentiment analysis)\n",
    "\n",
    "# create a function to calculate the subjectivity\n",
    "def calculate_subjectivity(headlines):\n",
    "    return TextBlob(headlines).sentiment.subjectivity\n",
    "\n",
    "# create a function to calculate the subjectivity\n",
    "def calculate_polarity(headlines):\n",
    "    return TextBlob(headlines).sentiment.polarity\n"
   ]
  },
  {
   "cell_type": "code",
   "execution_count": 5,
   "id": "5c9ebfa4-642a-4179-9cf4-c58c0cc54d2f",
   "metadata": {
    "tags": []
   },
   "outputs": [],
   "source": [
    "# create two new columns \"Subjectivity\" and \"Polarity\"\n",
    "sentiment_df[\"Subjectivity\"] = sentiment_df[\"Headline\"].apply(calculate_subjectivity)\n",
    "sentiment_df[\"Polarity\"] = sentiment_df[\"Headline\"].apply(calculate_polarity)"
   ]
  },
  {
   "cell_type": "code",
   "execution_count": 6,
   "id": "da7b4a60-8946-4cf9-ada1-48fc29c96d2d",
   "metadata": {
    "tags": []
   },
   "outputs": [],
   "source": [
    "# create function to get the sentiment scores \n",
    "def get_scores(headlines):\n",
    "    get_score= SentimentIntensityAnalyzer()\n",
    "    sentiment=get_score.polarity_scores(headlines)\n",
    "    return sentiment"
   ]
  },
  {
   "cell_type": "code",
   "execution_count": 7,
   "id": "cfc3dcf9-5041-44e9-b079-3342c31e8d1a",
   "metadata": {
    "tags": []
   },
   "outputs": [],
   "source": [
    "# get daily sentiment scores\n",
    "compound = []\n",
    "neg = []\n",
    "pos = []\n",
    "neu = []\n",
    "score = 0\n",
    "\n",
    "for x in range(0, len(sentiment_df[\"Headline\"])):\n",
    "    score = get_scores(sentiment_df[\"Headline\"][x])\n",
    "    compound.append(score[\"compound\"])\n",
    "    neg.append(score[\"neg\"])\n",
    "    neu.append(score[\"neu\"])\n",
    "    pos.append(score[\"pos\"])\n",
    "    "
   ]
  },
  {
   "cell_type": "code",
   "execution_count": 8,
   "id": "6efb12a1-1086-4034-b5e7-65b38a352fce",
   "metadata": {
    "tags": []
   },
   "outputs": [
    {
     "data": {
      "text/html": [
       "<div>\n",
       "<style scoped>\n",
       "    .dataframe tbody tr th:only-of-type {\n",
       "        vertical-align: middle;\n",
       "    }\n",
       "\n",
       "    .dataframe tbody tr th {\n",
       "        vertical-align: top;\n",
       "    }\n",
       "\n",
       "    .dataframe thead th {\n",
       "        text-align: right;\n",
       "    }\n",
       "</style>\n",
       "<table border=\"1\" class=\"dataframe\">\n",
       "  <thead>\n",
       "    <tr style=\"text-align: right;\">\n",
       "      <th></th>\n",
       "      <th>Time</th>\n",
       "      <th>Headline</th>\n",
       "      <th>SP500 Close</th>\n",
       "      <th>Volume</th>\n",
       "      <th>TSLA Close</th>\n",
       "      <th>Volume.1</th>\n",
       "      <th>Subjectivity</th>\n",
       "      <th>Polarity</th>\n",
       "      <th>compound</th>\n",
       "      <th>neg</th>\n",
       "      <th>pos</th>\n",
       "      <th>neu</th>\n",
       "    </tr>\n",
       "  </thead>\n",
       "  <tbody>\n",
       "    <tr>\n",
       "      <th>0</th>\n",
       "      <td>2017-12-18</td>\n",
       "      <td>Brace yourself for the next Brexit faultline: ...</td>\n",
       "      <td>268.200012</td>\n",
       "      <td>83653600.0</td>\n",
       "      <td>22.591333</td>\n",
       "      <td>82143000.0</td>\n",
       "      <td>0.349438</td>\n",
       "      <td>-0.000624</td>\n",
       "      <td>-0.9425</td>\n",
       "      <td>0.122</td>\n",
       "      <td>0.075</td>\n",
       "      <td>0.804</td>\n",
       "    </tr>\n",
       "    <tr>\n",
       "      <th>1</th>\n",
       "      <td>2017-12-19</td>\n",
       "      <td>First pilots, now cabin crew – Ryanair to reco...</td>\n",
       "      <td>267.170013</td>\n",
       "      <td>82382900.0</td>\n",
       "      <td>22.073334</td>\n",
       "      <td>102375000.0</td>\n",
       "      <td>0.303711</td>\n",
       "      <td>-0.043869</td>\n",
       "      <td>-0.9760</td>\n",
       "      <td>0.127</td>\n",
       "      <td>0.027</td>\n",
       "      <td>0.846</td>\n",
       "    </tr>\n",
       "    <tr>\n",
       "      <th>2</th>\n",
       "      <td>2017-12-20</td>\n",
       "      <td>Nearly 45,000 UK retailers in financial distre...</td>\n",
       "      <td>267.029999</td>\n",
       "      <td>76751500.0</td>\n",
       "      <td>21.931999</td>\n",
       "      <td>89307000.0</td>\n",
       "      <td>0.405042</td>\n",
       "      <td>-0.020270</td>\n",
       "      <td>-0.8761</td>\n",
       "      <td>0.104</td>\n",
       "      <td>0.077</td>\n",
       "      <td>0.818</td>\n",
       "    </tr>\n",
       "    <tr>\n",
       "      <th>3</th>\n",
       "      <td>2017-12-21</td>\n",
       "      <td>Last-minute Christmas shopping guide: there is...</td>\n",
       "      <td>267.579987</td>\n",
       "      <td>67032300.0</td>\n",
       "      <td>22.110666</td>\n",
       "      <td>65778000.0</td>\n",
       "      <td>0.522302</td>\n",
       "      <td>-0.036371</td>\n",
       "      <td>0.4404</td>\n",
       "      <td>0.094</td>\n",
       "      <td>0.113</td>\n",
       "      <td>0.793</td>\n",
       "    </tr>\n",
       "    <tr>\n",
       "      <th>4</th>\n",
       "      <td>2017-12-22</td>\n",
       "      <td>Cramer: Never buy a stock all at once — you'll...</td>\n",
       "      <td>267.510010</td>\n",
       "      <td>78720900.0</td>\n",
       "      <td>21.680000</td>\n",
       "      <td>63237000.0</td>\n",
       "      <td>0.429320</td>\n",
       "      <td>0.038917</td>\n",
       "      <td>-0.2362</td>\n",
       "      <td>0.096</td>\n",
       "      <td>0.108</td>\n",
       "      <td>0.797</td>\n",
       "    </tr>\n",
       "    <tr>\n",
       "      <th>...</th>\n",
       "      <td>...</td>\n",
       "      <td>...</td>\n",
       "      <td>...</td>\n",
       "      <td>...</td>\n",
       "      <td>...</td>\n",
       "      <td>...</td>\n",
       "      <td>...</td>\n",
       "      <td>...</td>\n",
       "      <td>...</td>\n",
       "      <td>...</td>\n",
       "      <td>...</td>\n",
       "      <td>...</td>\n",
       "    </tr>\n",
       "    <tr>\n",
       "      <th>642</th>\n",
       "      <td>2020-07-13</td>\n",
       "      <td>Luckin Coffee ousts chairman Lu, names Guo as ...</td>\n",
       "      <td>314.839996</td>\n",
       "      <td>102997500.0</td>\n",
       "      <td>99.804001</td>\n",
       "      <td>584781000.0</td>\n",
       "      <td>0.414809</td>\n",
       "      <td>0.140556</td>\n",
       "      <td>0.9773</td>\n",
       "      <td>0.100</td>\n",
       "      <td>0.123</td>\n",
       "      <td>0.777</td>\n",
       "    </tr>\n",
       "    <tr>\n",
       "      <th>643</th>\n",
       "      <td>2020-07-14</td>\n",
       "      <td>Google hit with 600,000 euro Belgian privacy f...</td>\n",
       "      <td>318.920013</td>\n",
       "      <td>93657000.0</td>\n",
       "      <td>101.120003</td>\n",
       "      <td>351271500.0</td>\n",
       "      <td>0.345320</td>\n",
       "      <td>0.057631</td>\n",
       "      <td>-0.9830</td>\n",
       "      <td>0.104</td>\n",
       "      <td>0.082</td>\n",
       "      <td>0.814</td>\n",
       "    </tr>\n",
       "    <tr>\n",
       "      <th>644</th>\n",
       "      <td>2020-07-15</td>\n",
       "      <td>Oil climbs 2% on U.S. stock draw but gains cap...</td>\n",
       "      <td>321.850006</td>\n",
       "      <td>87196500.0</td>\n",
       "      <td>103.067329</td>\n",
       "      <td>245517000.0</td>\n",
       "      <td>0.387709</td>\n",
       "      <td>0.012013</td>\n",
       "      <td>0.5514</td>\n",
       "      <td>0.127</td>\n",
       "      <td>0.128</td>\n",
       "      <td>0.745</td>\n",
       "    </tr>\n",
       "    <tr>\n",
       "      <th>645</th>\n",
       "      <td>2020-07-16</td>\n",
       "      <td>Morgan Stanley posts record profit on trading ...</td>\n",
       "      <td>320.790009</td>\n",
       "      <td>54622500.0</td>\n",
       "      <td>100.042664</td>\n",
       "      <td>214512000.0</td>\n",
       "      <td>0.393206</td>\n",
       "      <td>0.088800</td>\n",
       "      <td>-0.9979</td>\n",
       "      <td>0.141</td>\n",
       "      <td>0.088</td>\n",
       "      <td>0.771</td>\n",
       "    </tr>\n",
       "    <tr>\n",
       "      <th>646</th>\n",
       "      <td>2020-07-17</td>\n",
       "      <td>U.S. economy faces significant risks, long roa...</td>\n",
       "      <td>321.720001</td>\n",
       "      <td>62774900.0</td>\n",
       "      <td>100.056000</td>\n",
       "      <td>139950000.0</td>\n",
       "      <td>0.368399</td>\n",
       "      <td>0.026276</td>\n",
       "      <td>-0.9882</td>\n",
       "      <td>0.148</td>\n",
       "      <td>0.115</td>\n",
       "      <td>0.737</td>\n",
       "    </tr>\n",
       "  </tbody>\n",
       "</table>\n",
       "<p>647 rows × 12 columns</p>\n",
       "</div>"
      ],
      "text/plain": [
       "           Time                                           Headline  \\\n",
       "0    2017-12-18  Brace yourself for the next Brexit faultline: ...   \n",
       "1    2017-12-19  First pilots, now cabin crew – Ryanair to reco...   \n",
       "2    2017-12-20  Nearly 45,000 UK retailers in financial distre...   \n",
       "3    2017-12-21  Last-minute Christmas shopping guide: there is...   \n",
       "4    2017-12-22  Cramer: Never buy a stock all at once — you'll...   \n",
       "..          ...                                                ...   \n",
       "642  2020-07-13  Luckin Coffee ousts chairman Lu, names Guo as ...   \n",
       "643  2020-07-14  Google hit with 600,000 euro Belgian privacy f...   \n",
       "644  2020-07-15  Oil climbs 2% on U.S. stock draw but gains cap...   \n",
       "645  2020-07-16  Morgan Stanley posts record profit on trading ...   \n",
       "646  2020-07-17  U.S. economy faces significant risks, long roa...   \n",
       "\n",
       "     SP500 Close       Volume  TSLA Close     Volume.1  Subjectivity  \\\n",
       "0     268.200012   83653600.0   22.591333   82143000.0      0.349438   \n",
       "1     267.170013   82382900.0   22.073334  102375000.0      0.303711   \n",
       "2     267.029999   76751500.0   21.931999   89307000.0      0.405042   \n",
       "3     267.579987   67032300.0   22.110666   65778000.0      0.522302   \n",
       "4     267.510010   78720900.0   21.680000   63237000.0      0.429320   \n",
       "..           ...          ...         ...          ...           ...   \n",
       "642   314.839996  102997500.0   99.804001  584781000.0      0.414809   \n",
       "643   318.920013   93657000.0  101.120003  351271500.0      0.345320   \n",
       "644   321.850006   87196500.0  103.067329  245517000.0      0.387709   \n",
       "645   320.790009   54622500.0  100.042664  214512000.0      0.393206   \n",
       "646   321.720001   62774900.0  100.056000  139950000.0      0.368399   \n",
       "\n",
       "     Polarity  compound    neg    pos    neu  \n",
       "0   -0.000624   -0.9425  0.122  0.075  0.804  \n",
       "1   -0.043869   -0.9760  0.127  0.027  0.846  \n",
       "2   -0.020270   -0.8761  0.104  0.077  0.818  \n",
       "3   -0.036371    0.4404  0.094  0.113  0.793  \n",
       "4    0.038917   -0.2362  0.096  0.108  0.797  \n",
       "..        ...       ...    ...    ...    ...  \n",
       "642  0.140556    0.9773  0.100  0.123  0.777  \n",
       "643  0.057631   -0.9830  0.104  0.082  0.814  \n",
       "644  0.012013    0.5514  0.127  0.128  0.745  \n",
       "645  0.088800   -0.9979  0.141  0.088  0.771  \n",
       "646  0.026276   -0.9882  0.148  0.115  0.737  \n",
       "\n",
       "[647 rows x 12 columns]"
      ]
     },
     "execution_count": 8,
     "metadata": {},
     "output_type": "execute_result"
    }
   ],
   "source": [
    "# Add Column with sentiment scores\n",
    "sentiment_df[\"compound\"]= compound\n",
    "sentiment_df[\"neg\"]= neg\n",
    "sentiment_df[\"pos\"]= pos\n",
    "sentiment_df[\"neu\"]= neu\n",
    "\n",
    "#Display Dataframe\n",
    "sentiment_df"
   ]
  },
  {
   "cell_type": "code",
   "execution_count": 9,
   "id": "2957f0d3-c865-4ee1-b697-8ff3a27bca15",
   "metadata": {
    "tags": []
   },
   "outputs": [],
   "source": [
    "# # Calculate daily returns \n",
    "# sentiment_df[\"daily returns\"]= sentiment_df[\"TSLA Close\"].pct_change()\n",
    "# sentiment_df.drop(columns=[\"SP500 Close\", \"Volume\"], inplace = True)\n",
    "# sentiment_df= sentiment_df.set_index(\"Time\")\n",
    "# sentiment_df.index= pd.to_datetime(sentiment_df.index)"
   ]
  },
  {
   "cell_type": "code",
   "execution_count": 11,
   "id": "ac816ae9-642f-485b-9c4e-760850a0d645",
   "metadata": {
    "tags": []
   },
   "outputs": [
    {
     "ename": "KeyError",
     "evalue": "\"['TSLA Close', 'Volume.1'] not found in axis\"",
     "output_type": "error",
     "traceback": [
      "\u001b[1;31m---------------------------------------------------------------------------\u001b[0m",
      "\u001b[1;31mKeyError\u001b[0m                                  Traceback (most recent call last)",
      "Cell \u001b[1;32mIn[11], line 3\u001b[0m\n\u001b[0;32m      1\u001b[0m \u001b[38;5;66;03m# Calculate daily returns \u001b[39;00m\n\u001b[0;32m      2\u001b[0m sentiment_df[\u001b[38;5;124m\"\u001b[39m\u001b[38;5;124mdaily returns\u001b[39m\u001b[38;5;124m\"\u001b[39m]\u001b[38;5;241m=\u001b[39m sentiment_df[\u001b[38;5;124m\"\u001b[39m\u001b[38;5;124mSP500 Close\u001b[39m\u001b[38;5;124m\"\u001b[39m]\u001b[38;5;241m.\u001b[39mpct_change()\n\u001b[1;32m----> 3\u001b[0m \u001b[43msentiment_df\u001b[49m\u001b[38;5;241;43m.\u001b[39;49m\u001b[43mdrop\u001b[49m\u001b[43m(\u001b[49m\u001b[43mcolumns\u001b[49m\u001b[38;5;241;43m=\u001b[39;49m\u001b[43m[\u001b[49m\u001b[38;5;124;43m\"\u001b[39;49m\u001b[38;5;124;43mTSLA Close\u001b[39;49m\u001b[38;5;124;43m\"\u001b[39;49m\u001b[43m,\u001b[49m\u001b[43m \u001b[49m\u001b[38;5;124;43m\"\u001b[39;49m\u001b[38;5;124;43mVolume.1\u001b[39;49m\u001b[38;5;124;43m\"\u001b[39;49m\u001b[43m]\u001b[49m\u001b[43m,\u001b[49m\u001b[43m \u001b[49m\u001b[43minplace\u001b[49m\u001b[43m \u001b[49m\u001b[38;5;241;43m=\u001b[39;49m\u001b[43m \u001b[49m\u001b[38;5;28;43;01mTrue\u001b[39;49;00m\u001b[43m)\u001b[49m\n\u001b[0;32m      4\u001b[0m sentiment_df\u001b[38;5;241m=\u001b[39m sentiment_df\u001b[38;5;241m.\u001b[39mset_index(\u001b[38;5;124m\"\u001b[39m\u001b[38;5;124mTime\u001b[39m\u001b[38;5;124m\"\u001b[39m)\n\u001b[0;32m      5\u001b[0m sentiment_df\u001b[38;5;241m.\u001b[39mindex\u001b[38;5;241m=\u001b[39m pd\u001b[38;5;241m.\u001b[39mto_datetime(sentiment_df\u001b[38;5;241m.\u001b[39mindex)\n",
      "File \u001b[1;32m~\\anaconda3\\envs\\newdev\\lib\\site-packages\\pandas\\core\\frame.py:5258\u001b[0m, in \u001b[0;36mDataFrame.drop\u001b[1;34m(self, labels, axis, index, columns, level, inplace, errors)\u001b[0m\n\u001b[0;32m   5110\u001b[0m \u001b[38;5;28;01mdef\u001b[39;00m \u001b[38;5;21mdrop\u001b[39m(\n\u001b[0;32m   5111\u001b[0m     \u001b[38;5;28mself\u001b[39m,\n\u001b[0;32m   5112\u001b[0m     labels: IndexLabel \u001b[38;5;241m=\u001b[39m \u001b[38;5;28;01mNone\u001b[39;00m,\n\u001b[1;32m   (...)\u001b[0m\n\u001b[0;32m   5119\u001b[0m     errors: IgnoreRaise \u001b[38;5;241m=\u001b[39m \u001b[38;5;124m\"\u001b[39m\u001b[38;5;124mraise\u001b[39m\u001b[38;5;124m\"\u001b[39m,\n\u001b[0;32m   5120\u001b[0m ) \u001b[38;5;241m-\u001b[39m\u001b[38;5;241m>\u001b[39m DataFrame \u001b[38;5;241m|\u001b[39m \u001b[38;5;28;01mNone\u001b[39;00m:\n\u001b[0;32m   5121\u001b[0m \u001b[38;5;250m    \u001b[39m\u001b[38;5;124;03m\"\"\"\u001b[39;00m\n\u001b[0;32m   5122\u001b[0m \u001b[38;5;124;03m    Drop specified labels from rows or columns.\u001b[39;00m\n\u001b[0;32m   5123\u001b[0m \n\u001b[1;32m   (...)\u001b[0m\n\u001b[0;32m   5256\u001b[0m \u001b[38;5;124;03m            weight  1.0     0.8\u001b[39;00m\n\u001b[0;32m   5257\u001b[0m \u001b[38;5;124;03m    \"\"\"\u001b[39;00m\n\u001b[1;32m-> 5258\u001b[0m     \u001b[38;5;28;01mreturn\u001b[39;00m \u001b[38;5;28;43msuper\u001b[39;49m\u001b[43m(\u001b[49m\u001b[43m)\u001b[49m\u001b[38;5;241;43m.\u001b[39;49m\u001b[43mdrop\u001b[49m\u001b[43m(\u001b[49m\n\u001b[0;32m   5259\u001b[0m \u001b[43m        \u001b[49m\u001b[43mlabels\u001b[49m\u001b[38;5;241;43m=\u001b[39;49m\u001b[43mlabels\u001b[49m\u001b[43m,\u001b[49m\n\u001b[0;32m   5260\u001b[0m \u001b[43m        \u001b[49m\u001b[43maxis\u001b[49m\u001b[38;5;241;43m=\u001b[39;49m\u001b[43maxis\u001b[49m\u001b[43m,\u001b[49m\n\u001b[0;32m   5261\u001b[0m \u001b[43m        \u001b[49m\u001b[43mindex\u001b[49m\u001b[38;5;241;43m=\u001b[39;49m\u001b[43mindex\u001b[49m\u001b[43m,\u001b[49m\n\u001b[0;32m   5262\u001b[0m \u001b[43m        \u001b[49m\u001b[43mcolumns\u001b[49m\u001b[38;5;241;43m=\u001b[39;49m\u001b[43mcolumns\u001b[49m\u001b[43m,\u001b[49m\n\u001b[0;32m   5263\u001b[0m \u001b[43m        \u001b[49m\u001b[43mlevel\u001b[49m\u001b[38;5;241;43m=\u001b[39;49m\u001b[43mlevel\u001b[49m\u001b[43m,\u001b[49m\n\u001b[0;32m   5264\u001b[0m \u001b[43m        \u001b[49m\u001b[43minplace\u001b[49m\u001b[38;5;241;43m=\u001b[39;49m\u001b[43minplace\u001b[49m\u001b[43m,\u001b[49m\n\u001b[0;32m   5265\u001b[0m \u001b[43m        \u001b[49m\u001b[43merrors\u001b[49m\u001b[38;5;241;43m=\u001b[39;49m\u001b[43merrors\u001b[49m\u001b[43m,\u001b[49m\n\u001b[0;32m   5266\u001b[0m \u001b[43m    \u001b[49m\u001b[43m)\u001b[49m\n",
      "File \u001b[1;32m~\\anaconda3\\envs\\newdev\\lib\\site-packages\\pandas\\core\\generic.py:4549\u001b[0m, in \u001b[0;36mNDFrame.drop\u001b[1;34m(self, labels, axis, index, columns, level, inplace, errors)\u001b[0m\n\u001b[0;32m   4547\u001b[0m \u001b[38;5;28;01mfor\u001b[39;00m axis, labels \u001b[38;5;129;01min\u001b[39;00m axes\u001b[38;5;241m.\u001b[39mitems():\n\u001b[0;32m   4548\u001b[0m     \u001b[38;5;28;01mif\u001b[39;00m labels \u001b[38;5;129;01mis\u001b[39;00m \u001b[38;5;129;01mnot\u001b[39;00m \u001b[38;5;28;01mNone\u001b[39;00m:\n\u001b[1;32m-> 4549\u001b[0m         obj \u001b[38;5;241m=\u001b[39m \u001b[43mobj\u001b[49m\u001b[38;5;241;43m.\u001b[39;49m\u001b[43m_drop_axis\u001b[49m\u001b[43m(\u001b[49m\u001b[43mlabels\u001b[49m\u001b[43m,\u001b[49m\u001b[43m \u001b[49m\u001b[43maxis\u001b[49m\u001b[43m,\u001b[49m\u001b[43m \u001b[49m\u001b[43mlevel\u001b[49m\u001b[38;5;241;43m=\u001b[39;49m\u001b[43mlevel\u001b[49m\u001b[43m,\u001b[49m\u001b[43m \u001b[49m\u001b[43merrors\u001b[49m\u001b[38;5;241;43m=\u001b[39;49m\u001b[43merrors\u001b[49m\u001b[43m)\u001b[49m\n\u001b[0;32m   4551\u001b[0m \u001b[38;5;28;01mif\u001b[39;00m inplace:\n\u001b[0;32m   4552\u001b[0m     \u001b[38;5;28mself\u001b[39m\u001b[38;5;241m.\u001b[39m_update_inplace(obj)\n",
      "File \u001b[1;32m~\\anaconda3\\envs\\newdev\\lib\\site-packages\\pandas\\core\\generic.py:4591\u001b[0m, in \u001b[0;36mNDFrame._drop_axis\u001b[1;34m(self, labels, axis, level, errors, only_slice)\u001b[0m\n\u001b[0;32m   4589\u001b[0m         new_axis \u001b[38;5;241m=\u001b[39m axis\u001b[38;5;241m.\u001b[39mdrop(labels, level\u001b[38;5;241m=\u001b[39mlevel, errors\u001b[38;5;241m=\u001b[39merrors)\n\u001b[0;32m   4590\u001b[0m     \u001b[38;5;28;01melse\u001b[39;00m:\n\u001b[1;32m-> 4591\u001b[0m         new_axis \u001b[38;5;241m=\u001b[39m \u001b[43maxis\u001b[49m\u001b[38;5;241;43m.\u001b[39;49m\u001b[43mdrop\u001b[49m\u001b[43m(\u001b[49m\u001b[43mlabels\u001b[49m\u001b[43m,\u001b[49m\u001b[43m \u001b[49m\u001b[43merrors\u001b[49m\u001b[38;5;241;43m=\u001b[39;49m\u001b[43merrors\u001b[49m\u001b[43m)\u001b[49m\n\u001b[0;32m   4592\u001b[0m     indexer \u001b[38;5;241m=\u001b[39m axis\u001b[38;5;241m.\u001b[39mget_indexer(new_axis)\n\u001b[0;32m   4594\u001b[0m \u001b[38;5;66;03m# Case for non-unique axis\u001b[39;00m\n\u001b[0;32m   4595\u001b[0m \u001b[38;5;28;01melse\u001b[39;00m:\n",
      "File \u001b[1;32m~\\anaconda3\\envs\\newdev\\lib\\site-packages\\pandas\\core\\indexes\\base.py:6699\u001b[0m, in \u001b[0;36mIndex.drop\u001b[1;34m(self, labels, errors)\u001b[0m\n\u001b[0;32m   6697\u001b[0m \u001b[38;5;28;01mif\u001b[39;00m mask\u001b[38;5;241m.\u001b[39many():\n\u001b[0;32m   6698\u001b[0m     \u001b[38;5;28;01mif\u001b[39;00m errors \u001b[38;5;241m!=\u001b[39m \u001b[38;5;124m\"\u001b[39m\u001b[38;5;124mignore\u001b[39m\u001b[38;5;124m\"\u001b[39m:\n\u001b[1;32m-> 6699\u001b[0m         \u001b[38;5;28;01mraise\u001b[39;00m \u001b[38;5;167;01mKeyError\u001b[39;00m(\u001b[38;5;124mf\u001b[39m\u001b[38;5;124m\"\u001b[39m\u001b[38;5;132;01m{\u001b[39;00m\u001b[38;5;28mlist\u001b[39m(labels[mask])\u001b[38;5;132;01m}\u001b[39;00m\u001b[38;5;124m not found in axis\u001b[39m\u001b[38;5;124m\"\u001b[39m)\n\u001b[0;32m   6700\u001b[0m     indexer \u001b[38;5;241m=\u001b[39m indexer[\u001b[38;5;241m~\u001b[39mmask]\n\u001b[0;32m   6701\u001b[0m \u001b[38;5;28;01mreturn\u001b[39;00m \u001b[38;5;28mself\u001b[39m\u001b[38;5;241m.\u001b[39mdelete(indexer)\n",
      "\u001b[1;31mKeyError\u001b[0m: \"['TSLA Close', 'Volume.1'] not found in axis\""
     ]
    }
   ],
   "source": [
    "# Calculate daily returns \n",
    "sentiment_df[\"daily returns\"]= sentiment_df[\"SP500 Close\"].pct_change()\n",
    "sentiment_df.drop(columns=[\"TSLA Close\", \"Volume.1\"], inplace = True)\n",
    "sentiment_df= sentiment_df.set_index(\"Time\")\n",
    "sentiment_df.index= pd.to_datetime(sentiment_df.index)"
   ]
  },
  {
   "cell_type": "code",
   "execution_count": null,
   "id": "5bebe7b9-a6d8-48fa-b4cd-ec724ad6f677",
   "metadata": {
    "tags": []
   },
   "outputs": [],
   "source": [
    "# create label column add 1 when daily returns is positive and 0 when it is negative\n",
    "sentiment_df[\"label\"]= 0\n",
    "sentiment_df.loc[(sentiment_df[\"daily returns\"]> 0), 'label'] = 1\n",
    "\n",
    "# verify that label is int\n",
    "sentiment_df[\"label\"].dtype"
   ]
  },
  {
   "cell_type": "code",
   "execution_count": 11,
   "id": "b42be31f-ca73-4d6d-9635-0df0dcb6aa04",
   "metadata": {
    "tags": []
   },
   "outputs": [],
   "source": [
    "# # calculate SMA short and SMA slow\n",
    "# sentiment_df[\"sma_short\"]= sentiment_df.rolling(7)[\"TSLA Close\"].mean()\n",
    "# sentiment_df[\"sma_long\"]= sentiment_df.rolling(30)[\"TSLA Close\"].mean()\n",
    "# sentiment_df.dropna(inplace=True)"
   ]
  },
  {
   "cell_type": "code",
   "execution_count": 12,
   "id": "88eedb8d-f4ec-4670-b2c7-0542a24fb235",
   "metadata": {
    "tags": []
   },
   "outputs": [],
   "source": [
    "# calculate SMA short and SMA slow\n",
    "sentiment_df[\"sma_short\"]= sentiment_df.rolling(7)[\"SP500 Close\"].mean()\n",
    "sentiment_df[\"sma_long\"]= sentiment_df.rolling(30)[\"SP500 Close\"].mean()\n",
    "sentiment_df.dropna(inplace=True)"
   ]
  },
  {
   "cell_type": "code",
   "execution_count": 13,
   "id": "ab9aaa99-069b-4433-8595-7cc33a98f285",
   "metadata": {
    "tags": []
   },
   "outputs": [
    {
     "data": {
      "text/plain": [
       "Index(['Headline', 'TSLA Close', 'Volume.1', 'Subjectivity', 'Polarity',\n",
       "       'compound', 'neg', 'pos', 'neu', 'daily returns', 'label', 'sma_short',\n",
       "       'sma_long'],\n",
       "      dtype='object')"
      ]
     },
     "execution_count": 13,
     "metadata": {},
     "output_type": "execute_result"
    }
   ],
   "source": [
    "# display dataframe\n",
    "sentiment_df.columns"
   ]
  },
  {
   "cell_type": "code",
   "execution_count": 18,
   "id": "af6c8c8f-536c-47d8-9fd0-9da4bfc5e87f",
   "metadata": {
    "tags": []
   },
   "outputs": [
    {
     "ename": "KeyError",
     "evalue": "\"['Volume.1', 'compound', 'neg', 'pos', 'neu'] not in index\"",
     "output_type": "error",
     "traceback": [
      "\u001b[1;31m---------------------------------------------------------------------------\u001b[0m",
      "\u001b[1;31mKeyError\u001b[0m                                  Traceback (most recent call last)",
      "Cell \u001b[1;32mIn[18], line 7\u001b[0m\n\u001b[0;32m      1\u001b[0m \u001b[38;5;66;03m# create features variable with columns for X\u001b[39;00m\n\u001b[0;32m      2\u001b[0m \u001b[38;5;66;03m#TSLA Version\u001b[39;00m\n\u001b[0;32m      3\u001b[0m features\u001b[38;5;241m=\u001b[39m[\u001b[38;5;124m'\u001b[39m\u001b[38;5;124mVolume.1\u001b[39m\u001b[38;5;124m'\u001b[39m, \u001b[38;5;124m'\u001b[39m\u001b[38;5;124mSubjectivity\u001b[39m\u001b[38;5;124m'\u001b[39m, \u001b[38;5;124m'\u001b[39m\u001b[38;5;124mPolarity\u001b[39m\u001b[38;5;124m'\u001b[39m,\n\u001b[0;32m      4\u001b[0m        \u001b[38;5;124m'\u001b[39m\u001b[38;5;124mcompound\u001b[39m\u001b[38;5;124m'\u001b[39m, \u001b[38;5;124m'\u001b[39m\u001b[38;5;124mneg\u001b[39m\u001b[38;5;124m'\u001b[39m, \u001b[38;5;124m'\u001b[39m\u001b[38;5;124mpos\u001b[39m\u001b[38;5;124m'\u001b[39m, \u001b[38;5;124m'\u001b[39m\u001b[38;5;124mneu\u001b[39m\u001b[38;5;124m'\u001b[39m, \u001b[38;5;124m'\u001b[39m\u001b[38;5;124msma_short\u001b[39m\u001b[38;5;124m'\u001b[39m,\n\u001b[0;32m      5\u001b[0m        \u001b[38;5;124m'\u001b[39m\u001b[38;5;124msma_long\u001b[39m\u001b[38;5;124m'\u001b[39m]\n\u001b[1;32m----> 7\u001b[0m X \u001b[38;5;241m=\u001b[39m \u001b[43msentiment_df\u001b[49m\u001b[43m[\u001b[49m\u001b[43mfeatures\u001b[49m\u001b[43m]\u001b[49m\u001b[38;5;241m.\u001b[39mshift()\u001b[38;5;241m.\u001b[39mdropna()\u001b[38;5;241m.\u001b[39mcopy()\n\u001b[0;32m      8\u001b[0m X\u001b[38;5;241m.\u001b[39mtail()\n\u001b[0;32m     10\u001b[0m \u001b[38;5;66;03m#SP500 Version\u001b[39;00m\n\u001b[0;32m     11\u001b[0m \u001b[38;5;66;03m# create features variable with columns for X\u001b[39;00m\n",
      "File \u001b[1;32m~\\anaconda3\\envs\\newdev\\lib\\site-packages\\pandas\\core\\frame.py:3767\u001b[0m, in \u001b[0;36mDataFrame.__getitem__\u001b[1;34m(self, key)\u001b[0m\n\u001b[0;32m   3765\u001b[0m     \u001b[38;5;28;01mif\u001b[39;00m is_iterator(key):\n\u001b[0;32m   3766\u001b[0m         key \u001b[38;5;241m=\u001b[39m \u001b[38;5;28mlist\u001b[39m(key)\n\u001b[1;32m-> 3767\u001b[0m     indexer \u001b[38;5;241m=\u001b[39m \u001b[38;5;28;43mself\u001b[39;49m\u001b[38;5;241;43m.\u001b[39;49m\u001b[43mcolumns\u001b[49m\u001b[38;5;241;43m.\u001b[39;49m\u001b[43m_get_indexer_strict\u001b[49m\u001b[43m(\u001b[49m\u001b[43mkey\u001b[49m\u001b[43m,\u001b[49m\u001b[43m \u001b[49m\u001b[38;5;124;43m\"\u001b[39;49m\u001b[38;5;124;43mcolumns\u001b[39;49m\u001b[38;5;124;43m\"\u001b[39;49m\u001b[43m)\u001b[49m[\u001b[38;5;241m1\u001b[39m]\n\u001b[0;32m   3769\u001b[0m \u001b[38;5;66;03m# take() does not accept boolean indexers\u001b[39;00m\n\u001b[0;32m   3770\u001b[0m \u001b[38;5;28;01mif\u001b[39;00m \u001b[38;5;28mgetattr\u001b[39m(indexer, \u001b[38;5;124m\"\u001b[39m\u001b[38;5;124mdtype\u001b[39m\u001b[38;5;124m\"\u001b[39m, \u001b[38;5;28;01mNone\u001b[39;00m) \u001b[38;5;241m==\u001b[39m \u001b[38;5;28mbool\u001b[39m:\n",
      "File \u001b[1;32m~\\anaconda3\\envs\\newdev\\lib\\site-packages\\pandas\\core\\indexes\\base.py:5877\u001b[0m, in \u001b[0;36mIndex._get_indexer_strict\u001b[1;34m(self, key, axis_name)\u001b[0m\n\u001b[0;32m   5874\u001b[0m \u001b[38;5;28;01melse\u001b[39;00m:\n\u001b[0;32m   5875\u001b[0m     keyarr, indexer, new_indexer \u001b[38;5;241m=\u001b[39m \u001b[38;5;28mself\u001b[39m\u001b[38;5;241m.\u001b[39m_reindex_non_unique(keyarr)\n\u001b[1;32m-> 5877\u001b[0m \u001b[38;5;28;43mself\u001b[39;49m\u001b[38;5;241;43m.\u001b[39;49m\u001b[43m_raise_if_missing\u001b[49m\u001b[43m(\u001b[49m\u001b[43mkeyarr\u001b[49m\u001b[43m,\u001b[49m\u001b[43m \u001b[49m\u001b[43mindexer\u001b[49m\u001b[43m,\u001b[49m\u001b[43m \u001b[49m\u001b[43maxis_name\u001b[49m\u001b[43m)\u001b[49m\n\u001b[0;32m   5879\u001b[0m keyarr \u001b[38;5;241m=\u001b[39m \u001b[38;5;28mself\u001b[39m\u001b[38;5;241m.\u001b[39mtake(indexer)\n\u001b[0;32m   5880\u001b[0m \u001b[38;5;28;01mif\u001b[39;00m \u001b[38;5;28misinstance\u001b[39m(key, Index):\n\u001b[0;32m   5881\u001b[0m     \u001b[38;5;66;03m# GH 42790 - Preserve name from an Index\u001b[39;00m\n",
      "File \u001b[1;32m~\\anaconda3\\envs\\newdev\\lib\\site-packages\\pandas\\core\\indexes\\base.py:5941\u001b[0m, in \u001b[0;36mIndex._raise_if_missing\u001b[1;34m(self, key, indexer, axis_name)\u001b[0m\n\u001b[0;32m   5938\u001b[0m     \u001b[38;5;28;01mraise\u001b[39;00m \u001b[38;5;167;01mKeyError\u001b[39;00m(\u001b[38;5;124mf\u001b[39m\u001b[38;5;124m\"\u001b[39m\u001b[38;5;124mNone of [\u001b[39m\u001b[38;5;132;01m{\u001b[39;00mkey\u001b[38;5;132;01m}\u001b[39;00m\u001b[38;5;124m] are in the [\u001b[39m\u001b[38;5;132;01m{\u001b[39;00maxis_name\u001b[38;5;132;01m}\u001b[39;00m\u001b[38;5;124m]\u001b[39m\u001b[38;5;124m\"\u001b[39m)\n\u001b[0;32m   5940\u001b[0m not_found \u001b[38;5;241m=\u001b[39m \u001b[38;5;28mlist\u001b[39m(ensure_index(key)[missing_mask\u001b[38;5;241m.\u001b[39mnonzero()[\u001b[38;5;241m0\u001b[39m]]\u001b[38;5;241m.\u001b[39munique())\n\u001b[1;32m-> 5941\u001b[0m \u001b[38;5;28;01mraise\u001b[39;00m \u001b[38;5;167;01mKeyError\u001b[39;00m(\u001b[38;5;124mf\u001b[39m\u001b[38;5;124m\"\u001b[39m\u001b[38;5;132;01m{\u001b[39;00mnot_found\u001b[38;5;132;01m}\u001b[39;00m\u001b[38;5;124m not in index\u001b[39m\u001b[38;5;124m\"\u001b[39m)\n",
      "\u001b[1;31mKeyError\u001b[0m: \"['Volume.1', 'compound', 'neg', 'pos', 'neu'] not in index\""
     ]
    }
   ],
   "source": [
    "# create features variable with columns for X\n",
    "#TSLA Version\n",
    "features=['Volume.1', 'Subjectivity', 'Polarity',\n",
    "       'compound', 'neg', 'pos', 'neu', 'sma_short',\n",
    "       'sma_long']\n",
    "\n",
    "X = sentiment_df[features].shift().dropna().copy()\n",
    "X.tail()\n",
    "\n",
    "#SP500 Version\n",
    "# create features variable with columns for X\n",
    "features=['Volume', 'Subjectivity', 'Polarity',\n",
    "       'compound', 'neg', 'pos', 'neu', 'sma_short',\n",
    "       'sma_long']\n",
    "\n",
    "X = sentiment_df[features].shift().dropna().copy()\n",
    "X.tail()"
   ]
  },
  {
   "cell_type": "code",
   "execution_count": 17,
   "id": "c5a2e5e1-f559-4a32-a3c5-2870e7990acc",
   "metadata": {
    "tags": []
   },
   "outputs": [],
   "source": [
    "y=(sentiment_df['daily returns']>0).astype(int)[1:]"
   ]
  },
  {
   "cell_type": "code",
   "execution_count": 17,
   "id": "6addb192-d4bc-493f-a36a-18094381b8ee",
   "metadata": {
    "tags": []
   },
   "outputs": [
    {
     "ename": "NameError",
     "evalue": "name 'X' is not defined",
     "output_type": "error",
     "traceback": [
      "\u001b[1;31m---------------------------------------------------------------------------\u001b[0m",
      "\u001b[1;31mNameError\u001b[0m                                 Traceback (most recent call last)",
      "Cell \u001b[1;32mIn[17], line 3\u001b[0m\n\u001b[0;32m      1\u001b[0m \u001b[38;5;66;03m# verify x and y are same length\u001b[39;00m\n\u001b[1;32m----> 3\u001b[0m display(\u001b[38;5;28mlen\u001b[39m(\u001b[43mX\u001b[49m))\n\u001b[0;32m      4\u001b[0m display(\u001b[38;5;28mlen\u001b[39m(y))\n",
      "\u001b[1;31mNameError\u001b[0m: name 'X' is not defined"
     ]
    }
   ],
   "source": [
    "# verify x and y are same length\n",
    "\n",
    "display(len(X))\n",
    "display(len(y))"
   ]
  },
  {
   "cell_type": "code",
   "execution_count": 59,
   "id": "341e07ff-7c57-4546-bf6d-94467bbc6761",
   "metadata": {
    "tags": []
   },
   "outputs": [
    {
     "name": "stdout",
     "output_type": "stream",
     "text": [
      "2018-02-02 00:00:00\n",
      "2018-05-02 00:00:00\n"
     ]
    },
    {
     "data": {
      "text/html": [
       "<div>\n",
       "<style scoped>\n",
       "    .dataframe tbody tr th:only-of-type {\n",
       "        vertical-align: middle;\n",
       "    }\n",
       "\n",
       "    .dataframe tbody tr th {\n",
       "        vertical-align: top;\n",
       "    }\n",
       "\n",
       "    .dataframe thead th {\n",
       "        text-align: right;\n",
       "    }\n",
       "</style>\n",
       "<table border=\"1\" class=\"dataframe\">\n",
       "  <thead>\n",
       "    <tr style=\"text-align: right;\">\n",
       "      <th></th>\n",
       "      <th>Volume.1</th>\n",
       "      <th>Subjectivity</th>\n",
       "      <th>Polarity</th>\n",
       "      <th>compound</th>\n",
       "      <th>neg</th>\n",
       "      <th>pos</th>\n",
       "      <th>neu</th>\n",
       "      <th>sma_short</th>\n",
       "      <th>sma_long</th>\n",
       "    </tr>\n",
       "    <tr>\n",
       "      <th>Time</th>\n",
       "      <th></th>\n",
       "      <th></th>\n",
       "      <th></th>\n",
       "      <th></th>\n",
       "      <th></th>\n",
       "      <th></th>\n",
       "      <th></th>\n",
       "      <th></th>\n",
       "      <th></th>\n",
       "    </tr>\n",
       "  </thead>\n",
       "  <tbody>\n",
       "    <tr>\n",
       "      <th>2018-02-02</th>\n",
       "      <td>62965500.0</td>\n",
       "      <td>0.374069</td>\n",
       "      <td>0.058918</td>\n",
       "      <td>-0.9927</td>\n",
       "      <td>0.186</td>\n",
       "      <td>0.114</td>\n",
       "      <td>0.700</td>\n",
       "      <td>23.098000</td>\n",
       "      <td>22.354667</td>\n",
       "    </tr>\n",
       "    <tr>\n",
       "      <th>2018-02-05</th>\n",
       "      <td>55572000.0</td>\n",
       "      <td>0.400000</td>\n",
       "      <td>-0.073333</td>\n",
       "      <td>-0.1901</td>\n",
       "      <td>0.058</td>\n",
       "      <td>0.075</td>\n",
       "      <td>0.867</td>\n",
       "      <td>23.077619</td>\n",
       "      <td>22.365511</td>\n",
       "    </tr>\n",
       "    <tr>\n",
       "      <th>2018-02-06</th>\n",
       "      <td>66961500.0</td>\n",
       "      <td>0.468833</td>\n",
       "      <td>0.014328</td>\n",
       "      <td>-0.8130</td>\n",
       "      <td>0.114</td>\n",
       "      <td>0.075</td>\n",
       "      <td>0.811</td>\n",
       "      <td>23.034667</td>\n",
       "      <td>22.370022</td>\n",
       "    </tr>\n",
       "    <tr>\n",
       "      <th>2018-02-07</th>\n",
       "      <td>76326000.0</td>\n",
       "      <td>0.371886</td>\n",
       "      <td>0.014133</td>\n",
       "      <td>-0.9798</td>\n",
       "      <td>0.127</td>\n",
       "      <td>0.080</td>\n",
       "      <td>0.793</td>\n",
       "      <td>22.950096</td>\n",
       "      <td>22.381111</td>\n",
       "    </tr>\n",
       "    <tr>\n",
       "      <th>2018-02-08</th>\n",
       "      <td>104538000.0</td>\n",
       "      <td>0.423801</td>\n",
       "      <td>-0.000789</td>\n",
       "      <td>-0.8934</td>\n",
       "      <td>0.095</td>\n",
       "      <td>0.052</td>\n",
       "      <td>0.853</td>\n",
       "      <td>22.906953</td>\n",
       "      <td>22.410756</td>\n",
       "    </tr>\n",
       "  </tbody>\n",
       "</table>\n",
       "</div>"
      ],
      "text/plain": [
       "               Volume.1  Subjectivity  Polarity  compound    neg    pos  \\\n",
       "Time                                                                      \n",
       "2018-02-02   62965500.0      0.374069  0.058918   -0.9927  0.186  0.114   \n",
       "2018-02-05   55572000.0      0.400000 -0.073333   -0.1901  0.058  0.075   \n",
       "2018-02-06   66961500.0      0.468833  0.014328   -0.8130  0.114  0.075   \n",
       "2018-02-07   76326000.0      0.371886  0.014133   -0.9798  0.127  0.080   \n",
       "2018-02-08  104538000.0      0.423801 -0.000789   -0.8934  0.095  0.052   \n",
       "\n",
       "              neu  sma_short   sma_long  \n",
       "Time                                     \n",
       "2018-02-02  0.700  23.098000  22.354667  \n",
       "2018-02-05  0.867  23.077619  22.365511  \n",
       "2018-02-06  0.811  23.034667  22.370022  \n",
       "2018-02-07  0.793  22.950096  22.381111  \n",
       "2018-02-08  0.853  22.906953  22.410756  "
      ]
     },
     "execution_count": 59,
     "metadata": {},
     "output_type": "execute_result"
    }
   ],
   "source": [
    "# Select the start of the training period\n",
    "training_begin = X.index.min()\n",
    "\n",
    "# Display the training begin date\n",
    "print(training_begin)\n",
    "\n",
    "# Select the ending period for the training data with an offset of 3 months\n",
    "training_end = X.index.min() + DateOffset(months=3)\n",
    "\n",
    "# Display the training end date\n",
    "print(training_end)\n",
    "\n",
    "# Generate the X_train and y_train DataFrames\n",
    "X_train = X.loc[training_begin:training_end]\n",
    "y_train = y.loc[training_begin:training_end]\n",
    "\n",
    "# Review the X_train DataFrame\n",
    "X_train.head()\n",
    "\n",
    "# Generate the X_test and y_test DataFrames\n",
    "X_test = X.loc[training_end+DateOffset(hours=1):]\n",
    "y_test = y.loc[training_end+DateOffset(hours=1):]\n",
    "\n",
    "# Review the X_test DataFrame\n",
    "X_train.head()"
   ]
  },
  {
   "cell_type": "code",
   "execution_count": 60,
   "id": "525166ae-24d3-4dbe-9d9b-09288e5c1ca1",
   "metadata": {
    "tags": []
   },
   "outputs": [],
   "source": [
    "## Scale the features DataFrames\n",
    "\n",
    "# Create a StandardScaler instance\n",
    "scaler = StandardScaler()\n",
    "\n",
    "# Apply the scaler model to fit the X-train data\n",
    "X_scaler = scaler.fit(X_train)\n",
    "\n",
    "# Transform the X_train and X_test DataFrames using the X_scaler\n",
    "X_train_scaled = X_scaler.transform(X_train)\n",
    "X_test_scaled = X_scaler.transform(X_test)"
   ]
  },
  {
   "cell_type": "code",
   "execution_count": 61,
   "id": "10884ce4-2f04-45b8-a39b-4714dba665e9",
   "metadata": {
    "tags": []
   },
   "outputs": [
    {
     "name": "stdout",
     "output_type": "stream",
     "text": [
      "              precision    recall  f1-score   support\n",
      "\n",
      "           0       0.50      0.28      0.36       268\n",
      "           1       0.52      0.74      0.61       288\n",
      "\n",
      "    accuracy                           0.52       556\n",
      "   macro avg       0.51      0.51      0.48       556\n",
      "weighted avg       0.51      0.52      0.49       556\n",
      "\n"
     ]
    }
   ],
   "source": [
    "## Use a classifier to predict future results\n",
    "\n",
    "# From SVM, instantiate SVC classifier model instance\n",
    "svm_model = svm.SVC()\n",
    " \n",
    "# Fit the model to the data using the training data\n",
    "svm_model = svm_model.fit(X_train_scaled, y_train)\n",
    " \n",
    "# Use the testing data to make the model predictions\n",
    "svm_pred = svm_model.predict(X_test_scaled)\n",
    "\n",
    "# Review the model's predicted values\n",
    "svm_pred[:10]\n",
    "\n",
    "# Use a classification report to evaluate the model using the predictions and testing data\n",
    "svm_testing_report = classification_report(y_test, svm_pred)\n",
    "\n",
    "# Print the classification report\n",
    "print(svm_testing_report)\n"
   ]
  },
  {
   "cell_type": "code",
   "execution_count": 51,
   "id": "673b16eb-3227-43b0-8104-01038400dd1c",
   "metadata": {
    "tags": []
   },
   "outputs": [
    {
     "data": {
      "text/plain": [
       "<Axes: xlabel='Time'>"
      ]
     },
     "execution_count": 51,
     "metadata": {},
     "output_type": "execute_result"
    },
    {
     "data": {
      "image/png": "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",
      "text/plain": [
       "<Figure size 640x480 with 1 Axes>"
      ]
     },
     "metadata": {},
     "output_type": "display_data"
    }
   ],
   "source": [
    "sentiment_df[\"TSLA Close\"].plot()"
   ]
  },
  {
   "cell_type": "code",
   "execution_count": 52,
   "id": "acefdfd9-d44b-43ca-aa85-88769ffb2918",
   "metadata": {
    "tags": []
   },
   "outputs": [
    {
     "data": {
      "text/plain": [
       "daily returns\n",
       "1    288\n",
       "0    268\n",
       "Name: count, dtype: int64"
      ]
     },
     "execution_count": 52,
     "metadata": {},
     "output_type": "execute_result"
    }
   ],
   "source": [
    "y_test.value_counts()"
   ]
  },
  {
   "cell_type": "code",
   "execution_count": 62,
   "id": "bbdc776b-3bca-444c-9cba-d40b5e2faec9",
   "metadata": {
    "tags": []
   },
   "outputs": [
    {
     "data": {
      "text/html": [
       "<div>\n",
       "<style scoped>\n",
       "    .dataframe tbody tr th:only-of-type {\n",
       "        vertical-align: middle;\n",
       "    }\n",
       "\n",
       "    .dataframe tbody tr th {\n",
       "        vertical-align: top;\n",
       "    }\n",
       "\n",
       "    .dataframe thead th {\n",
       "        text-align: right;\n",
       "    }\n",
       "</style>\n",
       "<table border=\"1\" class=\"dataframe\">\n",
       "  <thead>\n",
       "    <tr style=\"text-align: right;\">\n",
       "      <th></th>\n",
       "      <th>Predicted</th>\n",
       "      <th>Actual Returns</th>\n",
       "      <th>Strategy Returns</th>\n",
       "    </tr>\n",
       "    <tr>\n",
       "      <th>Time</th>\n",
       "      <th></th>\n",
       "      <th></th>\n",
       "      <th></th>\n",
       "    </tr>\n",
       "  </thead>\n",
       "  <tbody>\n",
       "    <tr>\n",
       "      <th>2018-05-03</th>\n",
       "      <td>1</td>\n",
       "      <td>-14.521676</td>\n",
       "      <td>-14.521676</td>\n",
       "    </tr>\n",
       "    <tr>\n",
       "      <th>2018-05-04</th>\n",
       "      <td>1</td>\n",
       "      <td>-1.611136</td>\n",
       "      <td>-1.611136</td>\n",
       "    </tr>\n",
       "    <tr>\n",
       "      <th>2018-05-07</th>\n",
       "      <td>1</td>\n",
       "      <td>-0.129101</td>\n",
       "      <td>-0.129101</td>\n",
       "    </tr>\n",
       "    <tr>\n",
       "      <th>2018-05-08</th>\n",
       "      <td>1</td>\n",
       "      <td>-1.089527</td>\n",
       "      <td>-1.089527</td>\n",
       "    </tr>\n",
       "    <tr>\n",
       "      <th>2018-05-09</th>\n",
       "      <td>0</td>\n",
       "      <td>-7.115971</td>\n",
       "      <td>-0.000000</td>\n",
       "    </tr>\n",
       "    <tr>\n",
       "      <th>...</th>\n",
       "      <td>...</td>\n",
       "      <td>...</td>\n",
       "      <td>...</td>\n",
       "    </tr>\n",
       "    <tr>\n",
       "      <th>2020-07-13</th>\n",
       "      <td>1</td>\n",
       "      <td>-1.285677</td>\n",
       "      <td>-1.285677</td>\n",
       "    </tr>\n",
       "    <tr>\n",
       "      <th>2020-07-14</th>\n",
       "      <td>1</td>\n",
       "      <td>-1.427979</td>\n",
       "      <td>-1.427979</td>\n",
       "    </tr>\n",
       "    <tr>\n",
       "      <th>2020-07-15</th>\n",
       "      <td>1</td>\n",
       "      <td>0.460472</td>\n",
       "      <td>0.460472</td>\n",
       "    </tr>\n",
       "    <tr>\n",
       "      <th>2020-07-16</th>\n",
       "      <td>1</td>\n",
       "      <td>-2.523894</td>\n",
       "      <td>-2.523894</td>\n",
       "    </tr>\n",
       "    <tr>\n",
       "      <th>2020-07-17</th>\n",
       "      <td>1</td>\n",
       "      <td>-1.004542</td>\n",
       "      <td>-1.004542</td>\n",
       "    </tr>\n",
       "  </tbody>\n",
       "</table>\n",
       "<p>556 rows × 3 columns</p>\n",
       "</div>"
      ],
      "text/plain": [
       "            Predicted  Actual Returns  Strategy Returns\n",
       "Time                                                   \n",
       "2018-05-03          1      -14.521676        -14.521676\n",
       "2018-05-04          1       -1.611136         -1.611136\n",
       "2018-05-07          1       -0.129101         -0.129101\n",
       "2018-05-08          1       -1.089527         -1.089527\n",
       "2018-05-09          0       -7.115971         -0.000000\n",
       "...               ...             ...               ...\n",
       "2020-07-13          1       -1.285677         -1.285677\n",
       "2020-07-14          1       -1.427979         -1.427979\n",
       "2020-07-15          1        0.460472          0.460472\n",
       "2020-07-16          1       -2.523894         -2.523894\n",
       "2020-07-17          1       -1.004542         -1.004542\n",
       "\n",
       "[556 rows x 3 columns]"
      ]
     },
     "execution_count": 62,
     "metadata": {},
     "output_type": "execute_result"
    }
   ],
   "source": [
    "# Create a predictions DataFrame\n",
    "predictions_sentiment_df = pd.DataFrame(index=X_test.index)\n",
    "\n",
    "# Add the SVM model predictions to the DataFrame\n",
    "predictions_sentiment_df['Predicted'] = svm_pred\n",
    "\n",
    "# Add the actual returns to the DataFrame\n",
    "predictions_sentiment_df['Actual Returns'] = sentiment_df['daily returns'].pct_change()\n",
    "\n",
    "# Add the strategy returns to the DataFrame\n",
    "predictions_sentiment_df['Strategy Returns'] = predictions_sentiment_df['Actual Returns'] * predictions_sentiment_df['Predicted']\n",
    "\n",
    "# Review the DataFrame\n",
    "# display(predictions_sentiment_df.head())\n",
    "# display(predictions_sentiment_df.tail())\n",
    "predictions_sentiment_df"
   ]
  },
  {
   "cell_type": "code",
   "execution_count": 87,
   "id": "48059532-202d-4058-a970-c2bfc7367d7e",
   "metadata": {
    "tags": []
   },
   "outputs": [
    {
     "data": {
      "text/plain": [
       "<Axes: title={'center': 'SVM Model'}, xlabel='Time'>"
      ]
     },
     "execution_count": 87,
     "metadata": {},
     "output_type": "execute_result"
    },
    {
     "data": {
      "image/png": "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",
      "text/plain": [
       "<Figure size 640x480 with 1 Axes>"
      ]
     },
     "metadata": {},
     "output_type": "display_data"
    }
   ],
   "source": [
    "predictions_sentiment_df.plot(title='SVM Model')"
   ]
  },
  {
   "cell_type": "code",
   "execution_count": 64,
   "id": "69a28c09-0c44-4cb0-ac61-db6a072c55fd",
   "metadata": {
    "tags": []
   },
   "outputs": [
    {
     "data": {
      "text/html": [
       "<style>#sk-container-id-2 {color: black;}#sk-container-id-2 pre{padding: 0;}#sk-container-id-2 div.sk-toggleable {background-color: white;}#sk-container-id-2 label.sk-toggleable__label {cursor: pointer;display: block;width: 100%;margin-bottom: 0;padding: 0.3em;box-sizing: border-box;text-align: center;}#sk-container-id-2 label.sk-toggleable__label-arrow:before {content: \"▸\";float: left;margin-right: 0.25em;color: #696969;}#sk-container-id-2 label.sk-toggleable__label-arrow:hover:before {color: black;}#sk-container-id-2 div.sk-estimator:hover label.sk-toggleable__label-arrow:before {color: black;}#sk-container-id-2 div.sk-toggleable__content {max-height: 0;max-width: 0;overflow: hidden;text-align: left;background-color: #f0f8ff;}#sk-container-id-2 div.sk-toggleable__content pre {margin: 0.2em;color: black;border-radius: 0.25em;background-color: #f0f8ff;}#sk-container-id-2 input.sk-toggleable__control:checked~div.sk-toggleable__content {max-height: 200px;max-width: 100%;overflow: auto;}#sk-container-id-2 input.sk-toggleable__control:checked~label.sk-toggleable__label-arrow:before {content: \"▾\";}#sk-container-id-2 div.sk-estimator input.sk-toggleable__control:checked~label.sk-toggleable__label {background-color: #d4ebff;}#sk-container-id-2 div.sk-label input.sk-toggleable__control:checked~label.sk-toggleable__label {background-color: #d4ebff;}#sk-container-id-2 input.sk-hidden--visually {border: 0;clip: rect(1px 1px 1px 1px);clip: rect(1px, 1px, 1px, 1px);height: 1px;margin: -1px;overflow: hidden;padding: 0;position: absolute;width: 1px;}#sk-container-id-2 div.sk-estimator {font-family: monospace;background-color: #f0f8ff;border: 1px dotted black;border-radius: 0.25em;box-sizing: border-box;margin-bottom: 0.5em;}#sk-container-id-2 div.sk-estimator:hover {background-color: #d4ebff;}#sk-container-id-2 div.sk-parallel-item::after {content: \"\";width: 100%;border-bottom: 1px solid gray;flex-grow: 1;}#sk-container-id-2 div.sk-label:hover label.sk-toggleable__label {background-color: #d4ebff;}#sk-container-id-2 div.sk-serial::before {content: \"\";position: absolute;border-left: 1px solid gray;box-sizing: border-box;top: 0;bottom: 0;left: 50%;z-index: 0;}#sk-container-id-2 div.sk-serial {display: flex;flex-direction: column;align-items: center;background-color: white;padding-right: 0.2em;padding-left: 0.2em;position: relative;}#sk-container-id-2 div.sk-item {position: relative;z-index: 1;}#sk-container-id-2 div.sk-parallel {display: flex;align-items: stretch;justify-content: center;background-color: white;position: relative;}#sk-container-id-2 div.sk-item::before, #sk-container-id-2 div.sk-parallel-item::before {content: \"\";position: absolute;border-left: 1px solid gray;box-sizing: border-box;top: 0;bottom: 0;left: 50%;z-index: -1;}#sk-container-id-2 div.sk-parallel-item {display: flex;flex-direction: column;z-index: 1;position: relative;background-color: white;}#sk-container-id-2 div.sk-parallel-item:first-child::after {align-self: flex-end;width: 50%;}#sk-container-id-2 div.sk-parallel-item:last-child::after {align-self: flex-start;width: 50%;}#sk-container-id-2 div.sk-parallel-item:only-child::after {width: 0;}#sk-container-id-2 div.sk-dashed-wrapped {border: 1px dashed gray;margin: 0 0.4em 0.5em 0.4em;box-sizing: border-box;padding-bottom: 0.4em;background-color: white;}#sk-container-id-2 div.sk-label label {font-family: monospace;font-weight: bold;display: inline-block;line-height: 1.2em;}#sk-container-id-2 div.sk-label-container {text-align: center;}#sk-container-id-2 div.sk-container {/* jupyter's `normalize.less` sets `[hidden] { display: none; }` but bootstrap.min.css set `[hidden] { display: none !important; }` so we also need the `!important` here to be able to override the default hidden behavior on the sphinx rendered scikit-learn.org. See: https://github.com/scikit-learn/scikit-learn/issues/21755 */display: inline-block !important;position: relative;}#sk-container-id-2 div.sk-text-repr-fallback {display: none;}</style><div id=\"sk-container-id-2\" class=\"sk-top-container\"><div class=\"sk-text-repr-fallback\"><pre>LinearDiscriminantAnalysis()</pre><b>In a Jupyter environment, please rerun this cell to show the HTML representation or trust the notebook. <br />On GitHub, the HTML representation is unable to render, please try loading this page with nbviewer.org.</b></div><div class=\"sk-container\" hidden><div class=\"sk-item\"><div class=\"sk-estimator sk-toggleable\"><input class=\"sk-toggleable__control sk-hidden--visually\" id=\"sk-estimator-id-2\" type=\"checkbox\" checked><label for=\"sk-estimator-id-2\" class=\"sk-toggleable__label sk-toggleable__label-arrow\">LinearDiscriminantAnalysis</label><div class=\"sk-toggleable__content\"><pre>LinearDiscriminantAnalysis()</pre></div></div></div></div></div>"
      ],
      "text/plain": [
       "LinearDiscriminantAnalysis()"
      ]
     },
     "execution_count": 64,
     "metadata": {},
     "output_type": "execute_result"
    }
   ],
   "source": [
    "model = LinearDiscriminantAnalysis()\n",
    "\n",
    "model.fit(X_train_scaled, y_train)"
   ]
  },
  {
   "cell_type": "code",
   "execution_count": 97,
   "id": "45821c9d-c6e7-49cc-868c-ff9f3f9b49a5",
   "metadata": {
    "tags": []
   },
   "outputs": [
    {
     "name": "stdout",
     "output_type": "stream",
     "text": [
      "              precision    recall  f1-score   support\n",
      "\n",
      "           0       0.48      0.50      0.49       268\n",
      "           1       0.51      0.49      0.50       288\n",
      "\n",
      "    accuracy                           0.49       556\n",
      "   macro avg       0.49      0.49      0.49       556\n",
      "weighted avg       0.50      0.49      0.49       556\n",
      "\n"
     ]
    }
   ],
   "source": [
    "# Fit the model to the data using the training data\n",
    "linear_disc_model = model.fit(X_train_scaled, y_train)\n",
    " \n",
    "# Use the testing data to make the model predictions\n",
    "linear_disc_model = model.predict(X_test_scaled)\n",
    "\n",
    "# Review the model's predicted values\n",
    "linear_disc_model[:10]\n",
    "\n",
    "# Use a classification report to evaluate the model using the predictions and testing data\n",
    "linear_disc_testing_report = classification_report(y_test, linear_disc_model)\n",
    "\n",
    "# Print the classification report\n",
    "print(linear_disc_testing_report)\n"
   ]
  },
  {
   "cell_type": "code",
   "execution_count": 100,
   "id": "86f1ab33-654f-41e1-8697-da0846d5a851",
   "metadata": {
    "tags": []
   },
   "outputs": [
    {
     "data": {
      "text/html": [
       "<div>\n",
       "<style scoped>\n",
       "    .dataframe tbody tr th:only-of-type {\n",
       "        vertical-align: middle;\n",
       "    }\n",
       "\n",
       "    .dataframe tbody tr th {\n",
       "        vertical-align: top;\n",
       "    }\n",
       "\n",
       "    .dataframe thead th {\n",
       "        text-align: right;\n",
       "    }\n",
       "</style>\n",
       "<table border=\"1\" class=\"dataframe\">\n",
       "  <thead>\n",
       "    <tr style=\"text-align: right;\">\n",
       "      <th></th>\n",
       "      <th>Predicted</th>\n",
       "      <th>Actual Returns</th>\n",
       "      <th>Strategy Returns</th>\n",
       "    </tr>\n",
       "    <tr>\n",
       "      <th>Time</th>\n",
       "      <th></th>\n",
       "      <th></th>\n",
       "      <th></th>\n",
       "    </tr>\n",
       "  </thead>\n",
       "  <tbody>\n",
       "    <tr>\n",
       "      <th>2018-05-03</th>\n",
       "      <td>0</td>\n",
       "      <td>-14.521676</td>\n",
       "      <td>-0.000000</td>\n",
       "    </tr>\n",
       "    <tr>\n",
       "      <th>2018-05-04</th>\n",
       "      <td>1</td>\n",
       "      <td>-1.611136</td>\n",
       "      <td>-1.611136</td>\n",
       "    </tr>\n",
       "    <tr>\n",
       "      <th>2018-05-07</th>\n",
       "      <td>1</td>\n",
       "      <td>-0.129101</td>\n",
       "      <td>-0.129101</td>\n",
       "    </tr>\n",
       "    <tr>\n",
       "      <th>2018-05-08</th>\n",
       "      <td>1</td>\n",
       "      <td>-1.089527</td>\n",
       "      <td>-1.089527</td>\n",
       "    </tr>\n",
       "    <tr>\n",
       "      <th>2018-05-09</th>\n",
       "      <td>1</td>\n",
       "      <td>-7.115971</td>\n",
       "      <td>-7.115971</td>\n",
       "    </tr>\n",
       "    <tr>\n",
       "      <th>...</th>\n",
       "      <td>...</td>\n",
       "      <td>...</td>\n",
       "      <td>...</td>\n",
       "    </tr>\n",
       "    <tr>\n",
       "      <th>2020-07-13</th>\n",
       "      <td>0</td>\n",
       "      <td>-1.285677</td>\n",
       "      <td>-0.000000</td>\n",
       "    </tr>\n",
       "    <tr>\n",
       "      <th>2020-07-14</th>\n",
       "      <td>0</td>\n",
       "      <td>-1.427979</td>\n",
       "      <td>-0.000000</td>\n",
       "    </tr>\n",
       "    <tr>\n",
       "      <th>2020-07-15</th>\n",
       "      <td>0</td>\n",
       "      <td>0.460472</td>\n",
       "      <td>0.000000</td>\n",
       "    </tr>\n",
       "    <tr>\n",
       "      <th>2020-07-16</th>\n",
       "      <td>0</td>\n",
       "      <td>-2.523894</td>\n",
       "      <td>-0.000000</td>\n",
       "    </tr>\n",
       "    <tr>\n",
       "      <th>2020-07-17</th>\n",
       "      <td>0</td>\n",
       "      <td>-1.004542</td>\n",
       "      <td>-0.000000</td>\n",
       "    </tr>\n",
       "  </tbody>\n",
       "</table>\n",
       "<p>556 rows × 3 columns</p>\n",
       "</div>"
      ],
      "text/plain": [
       "            Predicted  Actual Returns  Strategy Returns\n",
       "Time                                                   \n",
       "2018-05-03          0      -14.521676         -0.000000\n",
       "2018-05-04          1       -1.611136         -1.611136\n",
       "2018-05-07          1       -0.129101         -0.129101\n",
       "2018-05-08          1       -1.089527         -1.089527\n",
       "2018-05-09          1       -7.115971         -7.115971\n",
       "...               ...             ...               ...\n",
       "2020-07-13          0       -1.285677         -0.000000\n",
       "2020-07-14          0       -1.427979         -0.000000\n",
       "2020-07-15          0        0.460472          0.000000\n",
       "2020-07-16          0       -2.523894         -0.000000\n",
       "2020-07-17          0       -1.004542         -0.000000\n",
       "\n",
       "[556 rows x 3 columns]"
      ]
     },
     "execution_count": 100,
     "metadata": {},
     "output_type": "execute_result"
    }
   ],
   "source": [
    "predictions_sentiment_df_2 = pd.DataFrame(index=X_test.index)\n",
    "\n",
    "# Add the SVM model predictions to the DataFrame\n",
    "predictions_sentiment_df_2['Predicted'] = linear_disc_model\n",
    "\n",
    "# Add the actual returns to the DataFrame\n",
    "predictions_sentiment_df_2['Actual Returns'] = sentiment_df['daily returns'].pct_change()\n",
    "\n",
    "# Add the strategy returns to the DataFrame\n",
    "predictions_sentiment_df_2['Strategy Returns'] = predictions_sentiment_df_2['Actual Returns'] * predictions_sentiment_df_2['Predicted']\n",
    "\n",
    "# Review the DataFrame\n",
    "# display(predictions_sentiment_df.head())\n",
    "# display(predictions_sentiment_df.tail())\n",
    "predictions_sentiment_df_2"
   ]
  },
  {
   "cell_type": "code",
   "execution_count": 114,
   "id": "b085db41-f7e3-4de4-9963-c29eebcb0fa4",
   "metadata": {
    "tags": []
   },
   "outputs": [
    {
     "data": {
      "text/plain": [
       "<Axes: xlabel='Time'>"
      ]
     },
     "execution_count": 114,
     "metadata": {},
     "output_type": "execute_result"
    },
    {
     "data": {
      "image/png": "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",
      "text/plain": [
       "<Figure size 640x480 with 1 Axes>"
      ]
     },
     "metadata": {},
     "output_type": "display_data"
    }
   ],
   "source": [
    "## Plot cummulative returns for the baseline model\n",
    "\n",
    "# Plot the actual returns versus the strategy returns\n",
    "# linear_disc_plot = (1 + predictions_sentiment_df_2[[\"Actual Returns\", \"Strategy Returns\"]]).cumprod().plot()\n",
    "# # Set the limits for the y-axis to zoom in\n",
    "# linear_disc_plot.set_ylim(-50000, 50000)\n",
    "\n",
    "predictions_sentiment_df_2.plot()\n",
    "\n",
    "# Save the baseline plot to a file\n"
   ]
  },
  {
   "cell_type": "code",
   "execution_count": null,
   "id": "497e1edc-8546-44ea-be88-219d2a00ef7f",
   "metadata": {},
   "outputs": [],
   "source": []
  },
  {
   "cell_type": "code",
   "execution_count": null,
   "id": "3e5074e2-4213-4663-94eb-5f39784651c4",
   "metadata": {},
   "outputs": [],
   "source": []
  }
 ],
 "metadata": {
  "kernelspec": {
   "display_name": "Python 3 (ipykernel)",
   "language": "python",
   "name": "python3"
  },
  "language_info": {
   "codemirror_mode": {
    "name": "ipython",
    "version": 3
   },
   "file_extension": ".py",
   "mimetype": "text/x-python",
   "name": "python",
   "nbconvert_exporter": "python",
   "pygments_lexer": "ipython3",
<<<<<<< HEAD
   "version": "3.9.17"
=======
   "version": "3.11.3"
>>>>>>> 88f14dc1af54dc0c10e7dd5c3f44386b3c54082d
  },
  "widgets": {
   "application/vnd.jupyter.widget-state+json": {
    "state": {},
    "version_major": 2,
    "version_minor": 0
   }
  }
 },
 "nbformat": 4,
 "nbformat_minor": 5
}
