{
 "cells": [
  {
   "cell_type": "code",
   "execution_count": 39,
   "id": "52cee76c-678e-4d84-b510-040c69ec2b47",
   "metadata": {
    "tags": []
   },
   "outputs": [],
   "source": [
    "import pandas as pd\n",
    "import numpy as np\n",
    "from pathlib import Path\n",
    "from textblob import TextBlob\n",
    "import re\n",
    "from vaderSentiment.vaderSentiment import SentimentIntensityAnalyzer\n",
    "from sklearn import tree\n",
    "from sklearn.preprocessing import StandardScaler\n",
    "from sklearn.model_selection import train_test_split\n",
    "from sklearn.metrics import confusion_matrix, accuracy_score, classification_report\n",
    "import yfinance as yf\n",
    "import warnings\n",
    "from pandas.tseries.offsets import DateOffset\n",
    "from sklearn import svm\n",
    "from sklearn.discriminant_analysis import LinearDiscriminantAnalysis\n",
    "# Ignore all warnings within this code block\n",
    "warnings.filterwarnings(\"ignore\")"
   ]
  },
  {
   "cell_type": "code",
   "execution_count": 40,
   "id": "80b36877-f199-4e5f-925d-c96261dea63a",
   "metadata": {
    "tags": []
   },
   "outputs": [
    {
     "data": {
      "text/html": [
       "<div>\n",
       "<style scoped>\n",
       "    .dataframe tbody tr th:only-of-type {\n",
       "        vertical-align: middle;\n",
       "    }\n",
       "\n",
       "    .dataframe tbody tr th {\n",
       "        vertical-align: top;\n",
       "    }\n",
       "\n",
       "    .dataframe thead th {\n",
       "        text-align: right;\n",
       "    }\n",
       "</style>\n",
       "<table border=\"1\" class=\"dataframe\">\n",
       "  <thead>\n",
       "    <tr style=\"text-align: right;\">\n",
       "      <th></th>\n",
       "      <th>Time</th>\n",
       "      <th>Headline</th>\n",
       "      <th>SP500 Close</th>\n",
       "      <th>Volume</th>\n",
       "      <th>TSLA Close</th>\n",
       "      <th>Volume.1</th>\n",
       "    </tr>\n",
       "  </thead>\n",
       "  <tbody>\n",
       "    <tr>\n",
       "      <th>0</th>\n",
       "      <td>2017-12-18</td>\n",
       "      <td>Brace yourself for the next Brexit faultline: ...</td>\n",
       "      <td>268.200012</td>\n",
       "      <td>83653600.0</td>\n",
       "      <td>22.591333</td>\n",
       "      <td>82143000.0</td>\n",
       "    </tr>\n",
       "    <tr>\n",
       "      <th>1</th>\n",
       "      <td>2017-12-19</td>\n",
       "      <td>First pilots, now cabin crew – Ryanair to reco...</td>\n",
       "      <td>267.170013</td>\n",
       "      <td>82382900.0</td>\n",
       "      <td>22.073334</td>\n",
       "      <td>102375000.0</td>\n",
       "    </tr>\n",
       "    <tr>\n",
       "      <th>2</th>\n",
       "      <td>2017-12-20</td>\n",
       "      <td>Nearly 45,000 UK retailers in financial distre...</td>\n",
       "      <td>267.029999</td>\n",
       "      <td>76751500.0</td>\n",
       "      <td>21.931999</td>\n",
       "      <td>89307000.0</td>\n",
       "    </tr>\n",
       "    <tr>\n",
       "      <th>3</th>\n",
       "      <td>2017-12-21</td>\n",
       "      <td>Last-minute Christmas shopping guide: there is...</td>\n",
       "      <td>267.579987</td>\n",
       "      <td>67032300.0</td>\n",
       "      <td>22.110666</td>\n",
       "      <td>65778000.0</td>\n",
       "    </tr>\n",
       "    <tr>\n",
       "      <th>4</th>\n",
       "      <td>2017-12-22</td>\n",
       "      <td>Cramer: Never buy a stock all at once — you'll...</td>\n",
       "      <td>267.510010</td>\n",
       "      <td>78720900.0</td>\n",
       "      <td>21.680000</td>\n",
       "      <td>63237000.0</td>\n",
       "    </tr>\n",
       "  </tbody>\n",
       "</table>\n",
       "</div>"
      ],
      "text/plain": [
       "         Time                                           Headline  SP500 Close  \\\n",
       "0  2017-12-18  Brace yourself for the next Brexit faultline: ...   268.200012   \n",
       "1  2017-12-19  First pilots, now cabin crew – Ryanair to reco...   267.170013   \n",
       "2  2017-12-20  Nearly 45,000 UK retailers in financial distre...   267.029999   \n",
       "3  2017-12-21  Last-minute Christmas shopping guide: there is...   267.579987   \n",
       "4  2017-12-22  Cramer: Never buy a stock all at once — you'll...   267.510010   \n",
       "\n",
       "       Volume  TSLA Close     Volume.1  \n",
       "0  83653600.0   22.591333   82143000.0  \n",
       "1  82382900.0   22.073334  102375000.0  \n",
       "2  76751500.0   21.931999   89307000.0  \n",
       "3  67032300.0   22.110666   65778000.0  \n",
       "4  78720900.0   21.680000   63237000.0  "
      ]
     },
     "execution_count": 40,
     "metadata": {},
     "output_type": "execute_result"
    }
   ],
   "source": [
    "## Acquire and process sentiment data from Kaggle\n",
    "sentiment_df=pd.read_csv(Path(\"combined_csv.csv\"))\n",
    "sentiment_df.head()"
   ]
  },
  {
   "cell_type": "code",
   "execution_count": 41,
   "id": "e4c464e3-989f-4f90-954f-68e0ac824546",
   "metadata": {
    "tags": []
   },
   "outputs": [],
   "source": [
    "# obtain polarity and subjectivity scores (potentially factor volume of information in the sentiment analysis)\n",
    "\n",
    "# create a function to calculate the subjectivity\n",
    "def calculate_subjectivity(headlines):\n",
    "    return TextBlob(headlines).sentiment.subjectivity\n",
    "\n",
    "# create a function to calculate the subjectivity\n",
    "def calculate_polarity(headlines):\n",
    "    return TextBlob(headlines).sentiment.polarity\n"
   ]
  },
  {
   "cell_type": "code",
   "execution_count": 42,
   "id": "5c9ebfa4-642a-4179-9cf4-c58c0cc54d2f",
   "metadata": {
    "tags": []
   },
   "outputs": [],
   "source": [
    "# create two new columns \"Subjectivity\" and \"Polarity\"\n",
    "sentiment_df[\"Subjectivity\"] = sentiment_df[\"Headline\"].apply(calculate_subjectivity)\n",
    "sentiment_df[\"Polarity\"] = sentiment_df[\"Headline\"].apply(calculate_polarity)"
   ]
  },
  {
   "cell_type": "code",
   "execution_count": 43,
   "id": "da7b4a60-8946-4cf9-ada1-48fc29c96d2d",
   "metadata": {
    "tags": []
   },
   "outputs": [],
   "source": [
    "# create function to get the sentiment scores \n",
    "def get_scores(headlines):\n",
    "    get_score= SentimentIntensityAnalyzer()\n",
    "    sentiment=get_score.polarity_scores(headlines)\n",
    "    return sentiment"
   ]
  },
  {
   "cell_type": "code",
   "execution_count": 44,
   "id": "cfc3dcf9-5041-44e9-b079-3342c31e8d1a",
   "metadata": {
    "tags": []
   },
   "outputs": [],
   "source": [
    "# get daily sentiment scores\n",
    "compound = []\n",
    "neg = []\n",
    "pos = []\n",
    "neu = []\n",
    "score = 0\n",
    "\n",
    "for x in range(0, len(sentiment_df[\"Headline\"])):\n",
    "    score = get_scores(sentiment_df[\"Headline\"][x])\n",
    "    compound.append(score[\"compound\"])\n",
    "    neg.append(score[\"neg\"])\n",
    "    neu.append(score[\"neu\"])\n",
    "    pos.append(score[\"pos\"])\n",
    "    "
   ]
  },
  {
   "cell_type": "code",
   "execution_count": 45,
   "id": "6efb12a1-1086-4034-b5e7-65b38a352fce",
   "metadata": {
    "tags": []
   },
   "outputs": [
    {
     "data": {
      "text/html": [
       "<div>\n",
       "<style scoped>\n",
       "    .dataframe tbody tr th:only-of-type {\n",
       "        vertical-align: middle;\n",
       "    }\n",
       "\n",
       "    .dataframe tbody tr th {\n",
       "        vertical-align: top;\n",
       "    }\n",
       "\n",
       "    .dataframe thead th {\n",
       "        text-align: right;\n",
       "    }\n",
       "</style>\n",
       "<table border=\"1\" class=\"dataframe\">\n",
       "  <thead>\n",
       "    <tr style=\"text-align: right;\">\n",
       "      <th></th>\n",
       "      <th>Time</th>\n",
       "      <th>Headline</th>\n",
       "      <th>SP500 Close</th>\n",
       "      <th>Volume</th>\n",
       "      <th>TSLA Close</th>\n",
       "      <th>Volume.1</th>\n",
       "      <th>Subjectivity</th>\n",
       "      <th>Polarity</th>\n",
       "      <th>compound</th>\n",
       "      <th>neg</th>\n",
       "      <th>pos</th>\n",
       "      <th>neu</th>\n",
       "    </tr>\n",
       "  </thead>\n",
       "  <tbody>\n",
       "    <tr>\n",
       "      <th>0</th>\n",
       "      <td>2017-12-18</td>\n",
       "      <td>Brace yourself for the next Brexit faultline: ...</td>\n",
       "      <td>268.200012</td>\n",
       "      <td>83653600.0</td>\n",
       "      <td>22.591333</td>\n",
       "      <td>82143000.0</td>\n",
       "      <td>0.349438</td>\n",
       "      <td>-0.000624</td>\n",
       "      <td>-0.9425</td>\n",
       "      <td>0.122</td>\n",
       "      <td>0.075</td>\n",
       "      <td>0.804</td>\n",
       "    </tr>\n",
       "    <tr>\n",
       "      <th>1</th>\n",
       "      <td>2017-12-19</td>\n",
       "      <td>First pilots, now cabin crew – Ryanair to reco...</td>\n",
       "      <td>267.170013</td>\n",
       "      <td>82382900.0</td>\n",
       "      <td>22.073334</td>\n",
       "      <td>102375000.0</td>\n",
       "      <td>0.303711</td>\n",
       "      <td>-0.043869</td>\n",
       "      <td>-0.9760</td>\n",
       "      <td>0.127</td>\n",
       "      <td>0.027</td>\n",
       "      <td>0.846</td>\n",
       "    </tr>\n",
       "    <tr>\n",
       "      <th>2</th>\n",
       "      <td>2017-12-20</td>\n",
       "      <td>Nearly 45,000 UK retailers in financial distre...</td>\n",
       "      <td>267.029999</td>\n",
       "      <td>76751500.0</td>\n",
       "      <td>21.931999</td>\n",
       "      <td>89307000.0</td>\n",
       "      <td>0.405042</td>\n",
       "      <td>-0.020270</td>\n",
       "      <td>-0.8761</td>\n",
       "      <td>0.104</td>\n",
       "      <td>0.077</td>\n",
       "      <td>0.818</td>\n",
       "    </tr>\n",
       "    <tr>\n",
       "      <th>3</th>\n",
       "      <td>2017-12-21</td>\n",
       "      <td>Last-minute Christmas shopping guide: there is...</td>\n",
       "      <td>267.579987</td>\n",
       "      <td>67032300.0</td>\n",
       "      <td>22.110666</td>\n",
       "      <td>65778000.0</td>\n",
       "      <td>0.522302</td>\n",
       "      <td>-0.036371</td>\n",
       "      <td>0.4404</td>\n",
       "      <td>0.094</td>\n",
       "      <td>0.113</td>\n",
       "      <td>0.793</td>\n",
       "    </tr>\n",
       "    <tr>\n",
       "      <th>4</th>\n",
       "      <td>2017-12-22</td>\n",
       "      <td>Cramer: Never buy a stock all at once — you'll...</td>\n",
       "      <td>267.510010</td>\n",
       "      <td>78720900.0</td>\n",
       "      <td>21.680000</td>\n",
       "      <td>63237000.0</td>\n",
       "      <td>0.429320</td>\n",
       "      <td>0.038917</td>\n",
       "      <td>-0.2362</td>\n",
       "      <td>0.096</td>\n",
       "      <td>0.108</td>\n",
       "      <td>0.797</td>\n",
       "    </tr>\n",
       "    <tr>\n",
       "      <th>...</th>\n",
       "      <td>...</td>\n",
       "      <td>...</td>\n",
       "      <td>...</td>\n",
       "      <td>...</td>\n",
       "      <td>...</td>\n",
       "      <td>...</td>\n",
       "      <td>...</td>\n",
       "      <td>...</td>\n",
       "      <td>...</td>\n",
       "      <td>...</td>\n",
       "      <td>...</td>\n",
       "      <td>...</td>\n",
       "    </tr>\n",
       "    <tr>\n",
       "      <th>642</th>\n",
       "      <td>2020-07-13</td>\n",
       "      <td>Luckin Coffee ousts chairman Lu, names Guo as ...</td>\n",
       "      <td>314.839996</td>\n",
       "      <td>102997500.0</td>\n",
       "      <td>99.804001</td>\n",
       "      <td>584781000.0</td>\n",
       "      <td>0.414809</td>\n",
       "      <td>0.140556</td>\n",
       "      <td>0.9773</td>\n",
       "      <td>0.100</td>\n",
       "      <td>0.123</td>\n",
       "      <td>0.777</td>\n",
       "    </tr>\n",
       "    <tr>\n",
       "      <th>643</th>\n",
       "      <td>2020-07-14</td>\n",
       "      <td>Google hit with 600,000 euro Belgian privacy f...</td>\n",
       "      <td>318.920013</td>\n",
       "      <td>93657000.0</td>\n",
       "      <td>101.120003</td>\n",
       "      <td>351271500.0</td>\n",
       "      <td>0.345320</td>\n",
       "      <td>0.057631</td>\n",
       "      <td>-0.9830</td>\n",
       "      <td>0.104</td>\n",
       "      <td>0.082</td>\n",
       "      <td>0.814</td>\n",
       "    </tr>\n",
       "    <tr>\n",
       "      <th>644</th>\n",
       "      <td>2020-07-15</td>\n",
       "      <td>Oil climbs 2% on U.S. stock draw but gains cap...</td>\n",
       "      <td>321.850006</td>\n",
       "      <td>87196500.0</td>\n",
       "      <td>103.067329</td>\n",
       "      <td>245517000.0</td>\n",
       "      <td>0.387709</td>\n",
       "      <td>0.012013</td>\n",
       "      <td>0.5514</td>\n",
       "      <td>0.127</td>\n",
       "      <td>0.128</td>\n",
       "      <td>0.745</td>\n",
       "    </tr>\n",
       "    <tr>\n",
       "      <th>645</th>\n",
       "      <td>2020-07-16</td>\n",
       "      <td>Morgan Stanley posts record profit on trading ...</td>\n",
       "      <td>320.790009</td>\n",
       "      <td>54622500.0</td>\n",
       "      <td>100.042664</td>\n",
       "      <td>214512000.0</td>\n",
       "      <td>0.393206</td>\n",
       "      <td>0.088800</td>\n",
       "      <td>-0.9979</td>\n",
       "      <td>0.141</td>\n",
       "      <td>0.088</td>\n",
       "      <td>0.771</td>\n",
       "    </tr>\n",
       "    <tr>\n",
       "      <th>646</th>\n",
       "      <td>2020-07-17</td>\n",
       "      <td>U.S. economy faces significant risks, long roa...</td>\n",
       "      <td>321.720001</td>\n",
       "      <td>62774900.0</td>\n",
       "      <td>100.056000</td>\n",
       "      <td>139950000.0</td>\n",
       "      <td>0.368399</td>\n",
       "      <td>0.026276</td>\n",
       "      <td>-0.9882</td>\n",
       "      <td>0.148</td>\n",
       "      <td>0.115</td>\n",
       "      <td>0.737</td>\n",
       "    </tr>\n",
       "  </tbody>\n",
       "</table>\n",
       "<p>647 rows × 12 columns</p>\n",
       "</div>"
      ],
      "text/plain": [
       "           Time                                           Headline  \\\n",
       "0    2017-12-18  Brace yourself for the next Brexit faultline: ...   \n",
       "1    2017-12-19  First pilots, now cabin crew – Ryanair to reco...   \n",
       "2    2017-12-20  Nearly 45,000 UK retailers in financial distre...   \n",
       "3    2017-12-21  Last-minute Christmas shopping guide: there is...   \n",
       "4    2017-12-22  Cramer: Never buy a stock all at once — you'll...   \n",
       "..          ...                                                ...   \n",
       "642  2020-07-13  Luckin Coffee ousts chairman Lu, names Guo as ...   \n",
       "643  2020-07-14  Google hit with 600,000 euro Belgian privacy f...   \n",
       "644  2020-07-15  Oil climbs 2% on U.S. stock draw but gains cap...   \n",
       "645  2020-07-16  Morgan Stanley posts record profit on trading ...   \n",
       "646  2020-07-17  U.S. economy faces significant risks, long roa...   \n",
       "\n",
       "     SP500 Close       Volume  TSLA Close     Volume.1  Subjectivity  \\\n",
       "0     268.200012   83653600.0   22.591333   82143000.0      0.349438   \n",
       "1     267.170013   82382900.0   22.073334  102375000.0      0.303711   \n",
       "2     267.029999   76751500.0   21.931999   89307000.0      0.405042   \n",
       "3     267.579987   67032300.0   22.110666   65778000.0      0.522302   \n",
       "4     267.510010   78720900.0   21.680000   63237000.0      0.429320   \n",
       "..           ...          ...         ...          ...           ...   \n",
       "642   314.839996  102997500.0   99.804001  584781000.0      0.414809   \n",
       "643   318.920013   93657000.0  101.120003  351271500.0      0.345320   \n",
       "644   321.850006   87196500.0  103.067329  245517000.0      0.387709   \n",
       "645   320.790009   54622500.0  100.042664  214512000.0      0.393206   \n",
       "646   321.720001   62774900.0  100.056000  139950000.0      0.368399   \n",
       "\n",
       "     Polarity  compound    neg    pos    neu  \n",
       "0   -0.000624   -0.9425  0.122  0.075  0.804  \n",
       "1   -0.043869   -0.9760  0.127  0.027  0.846  \n",
       "2   -0.020270   -0.8761  0.104  0.077  0.818  \n",
       "3   -0.036371    0.4404  0.094  0.113  0.793  \n",
       "4    0.038917   -0.2362  0.096  0.108  0.797  \n",
       "..        ...       ...    ...    ...    ...  \n",
       "642  0.140556    0.9773  0.100  0.123  0.777  \n",
       "643  0.057631   -0.9830  0.104  0.082  0.814  \n",
       "644  0.012013    0.5514  0.127  0.128  0.745  \n",
       "645  0.088800   -0.9979  0.141  0.088  0.771  \n",
       "646  0.026276   -0.9882  0.148  0.115  0.737  \n",
       "\n",
       "[647 rows x 12 columns]"
      ]
     },
     "execution_count": 45,
     "metadata": {},
     "output_type": "execute_result"
    }
   ],
   "source": [
    "# Add Column with sentiment scores\n",
    "sentiment_df[\"compound\"]= compound\n",
    "sentiment_df[\"neg\"]= neg\n",
    "sentiment_df[\"pos\"]= pos\n",
    "sentiment_df[\"neu\"]= neu\n",
    "\n",
    "#Display Dataframe\n",
    "sentiment_df"
   ]
  },
  {
   "cell_type": "code",
   "execution_count": 46,
   "id": "2957f0d3-c865-4ee1-b697-8ff3a27bca15",
   "metadata": {
    "tags": []
   },
   "outputs": [],
   "source": [
    "# # Calculate daily returns \n",
    "# sentiment_df[\"daily returns\"]= sentiment_df[\"TSLA Close\"].pct_change()\n",
    "# sentiment_df.drop(columns=[\"SP500 Close\", \"Volume\"], inplace = True)\n",
    "# sentiment_df= sentiment_df.set_index(\"Time\")\n",
    "# sentiment_df.index= pd.to_datetime(sentiment_df.index)"
   ]
  },
  {
   "cell_type": "code",
   "execution_count": 47,
   "id": "ac816ae9-642f-485b-9c4e-760850a0d645",
   "metadata": {
    "tags": []
   },
   "outputs": [],
   "source": [
    "# # Calculate daily returns \n",
    "sentiment_df[\"daily returns\"]= sentiment_df[\"SP500 Close\"].pct_change()\n",
    "sentiment_df.drop(columns=[\"TSLA Close\", \"Volume.1\"], inplace = True)\n",
    "sentiment_df= sentiment_df.set_index(\"Time\")\n",
    "sentiment_df.index= pd.to_datetime(sentiment_df.index)"
   ]
  },
  {
   "cell_type": "code",
   "execution_count": 48,
   "id": "5bebe7b9-a6d8-48fa-b4cd-ec724ad6f677",
   "metadata": {
    "tags": []
   },
   "outputs": [
    {
     "data": {
      "text/plain": [
       "dtype('int64')"
      ]
     },
     "execution_count": 48,
     "metadata": {},
     "output_type": "execute_result"
    }
   ],
   "source": [
    "# create label column add 1 when daily returns is positive and 0 when it is negative\n",
    "sentiment_df[\"label\"]= 0\n",
    "sentiment_df.loc[(sentiment_df[\"daily returns\"]> 0), 'label'] = 1\n",
    "\n",
    "# verify that label is int\n",
    "sentiment_df[\"label\"].dtype"
   ]
  },
  {
   "cell_type": "code",
   "execution_count": 49,
   "id": "b42be31f-ca73-4d6d-9635-0df0dcb6aa04",
   "metadata": {
    "tags": []
   },
   "outputs": [],
   "source": [
    "# # # calculate SMA short and SMA slow\n",
    "# sentiment_df[\"sma_short\"]= sentiment_df.rolling(7)[\"TSLA Close\"].mean()\n",
    "# sentiment_df[\"sma_long\"]= sentiment_df.rolling(30)[\"TSLA Close\"].mean()\n",
    "# sentiment_df.dropna(inplace=True)"
   ]
  },
  {
   "cell_type": "code",
   "execution_count": 50,
   "id": "88eedb8d-f4ec-4670-b2c7-0542a24fb235",
   "metadata": {
    "tags": []
   },
   "outputs": [],
   "source": [
    "# calculate SMA short and SMA slow\n",
    "sentiment_df[\"sma_short\"]= sentiment_df.rolling(21)[\"SP500 Close\"].mean()\n",
    "sentiment_df[\"sma_long\"]= sentiment_df.rolling(90)[\"SP500 Close\"].mean()\n",
    "sentiment_df.dropna(inplace=True)"
   ]
  },
  {
   "cell_type": "code",
   "execution_count": 51,
   "id": "ab9aaa99-069b-4433-8595-7cc33a98f285",
   "metadata": {
    "tags": []
   },
   "outputs": [
    {
     "data": {
      "text/plain": [
       "Index(['Headline', 'SP500 Close', 'Volume', 'Subjectivity', 'Polarity',\n",
       "       'compound', 'neg', 'pos', 'neu', 'daily returns', 'label', 'sma_short',\n",
       "       'sma_long'],\n",
       "      dtype='object')"
      ]
     },
     "execution_count": 51,
     "metadata": {},
     "output_type": "execute_result"
    }
   ],
   "source": [
    "# display dataframe\n",
    "sentiment_df.columns"
   ]
  },
  {
   "cell_type": "code",
   "execution_count": 52,
   "id": "af6c8c8f-536c-47d8-9fd0-9da4bfc5e87f",
   "metadata": {
    "tags": []
   },
   "outputs": [
    {
     "data": {
      "text/html": [
       "<div>\n",
       "<style scoped>\n",
       "    .dataframe tbody tr th:only-of-type {\n",
       "        vertical-align: middle;\n",
       "    }\n",
       "\n",
       "    .dataframe tbody tr th {\n",
       "        vertical-align: top;\n",
       "    }\n",
       "\n",
       "    .dataframe thead th {\n",
       "        text-align: right;\n",
       "    }\n",
       "</style>\n",
       "<table border=\"1\" class=\"dataframe\">\n",
       "  <thead>\n",
       "    <tr style=\"text-align: right;\">\n",
       "      <th></th>\n",
       "      <th>Volume</th>\n",
       "      <th>Subjectivity</th>\n",
       "      <th>Polarity</th>\n",
       "      <th>compound</th>\n",
       "      <th>neg</th>\n",
       "      <th>pos</th>\n",
       "      <th>neu</th>\n",
       "      <th>sma_short</th>\n",
       "      <th>sma_long</th>\n",
       "    </tr>\n",
       "    <tr>\n",
       "      <th>Time</th>\n",
       "      <th></th>\n",
       "      <th></th>\n",
       "      <th></th>\n",
       "      <th></th>\n",
       "      <th></th>\n",
       "      <th></th>\n",
       "      <th></th>\n",
       "      <th></th>\n",
       "      <th></th>\n",
       "    </tr>\n",
       "  </thead>\n",
       "  <tbody>\n",
       "    <tr>\n",
       "      <th>2020-07-13</th>\n",
       "      <td>57550400.0</td>\n",
       "      <td>0.368474</td>\n",
       "      <td>0.074615</td>\n",
       "      <td>-0.4037</td>\n",
       "      <td>0.100</td>\n",
       "      <td>0.103</td>\n",
       "      <td>0.797</td>\n",
       "      <td>309.791424</td>\n",
       "      <td>287.309555</td>\n",
       "    </tr>\n",
       "    <tr>\n",
       "      <th>2020-07-14</th>\n",
       "      <td>102997500.0</td>\n",
       "      <td>0.414809</td>\n",
       "      <td>0.140556</td>\n",
       "      <td>0.9773</td>\n",
       "      <td>0.100</td>\n",
       "      <td>0.123</td>\n",
       "      <td>0.777</td>\n",
       "      <td>310.469044</td>\n",
       "      <td>287.331555</td>\n",
       "    </tr>\n",
       "    <tr>\n",
       "      <th>2020-07-15</th>\n",
       "      <td>93657000.0</td>\n",
       "      <td>0.345320</td>\n",
       "      <td>0.057631</td>\n",
       "      <td>-0.9830</td>\n",
       "      <td>0.104</td>\n",
       "      <td>0.082</td>\n",
       "      <td>0.814</td>\n",
       "      <td>311.169521</td>\n",
       "      <td>287.514444</td>\n",
       "    </tr>\n",
       "    <tr>\n",
       "      <th>2020-07-16</th>\n",
       "      <td>87196500.0</td>\n",
       "      <td>0.387709</td>\n",
       "      <td>0.012013</td>\n",
       "      <td>0.5514</td>\n",
       "      <td>0.127</td>\n",
       "      <td>0.128</td>\n",
       "      <td>0.745</td>\n",
       "      <td>311.874284</td>\n",
       "      <td>287.785444</td>\n",
       "    </tr>\n",
       "    <tr>\n",
       "      <th>2020-07-17</th>\n",
       "      <td>54622500.0</td>\n",
       "      <td>0.393206</td>\n",
       "      <td>0.088800</td>\n",
       "      <td>-0.9979</td>\n",
       "      <td>0.141</td>\n",
       "      <td>0.088</td>\n",
       "      <td>0.771</td>\n",
       "      <td>312.247142</td>\n",
       "      <td>288.302777</td>\n",
       "    </tr>\n",
       "  </tbody>\n",
       "</table>\n",
       "</div>"
      ],
      "text/plain": [
       "                 Volume  Subjectivity  Polarity  compound    neg    pos  \\\n",
       "Time                                                                      \n",
       "2020-07-13   57550400.0      0.368474  0.074615   -0.4037  0.100  0.103   \n",
       "2020-07-14  102997500.0      0.414809  0.140556    0.9773  0.100  0.123   \n",
       "2020-07-15   93657000.0      0.345320  0.057631   -0.9830  0.104  0.082   \n",
       "2020-07-16   87196500.0      0.387709  0.012013    0.5514  0.127  0.128   \n",
       "2020-07-17   54622500.0      0.393206  0.088800   -0.9979  0.141  0.088   \n",
       "\n",
       "              neu   sma_short    sma_long  \n",
       "Time                                       \n",
       "2020-07-13  0.797  309.791424  287.309555  \n",
       "2020-07-14  0.777  310.469044  287.331555  \n",
       "2020-07-15  0.814  311.169521  287.514444  \n",
       "2020-07-16  0.745  311.874284  287.785444  \n",
       "2020-07-17  0.771  312.247142  288.302777  "
      ]
     },
     "execution_count": 52,
     "metadata": {},
     "output_type": "execute_result"
    }
   ],
   "source": [
    "# create features variable with columns for X\n",
    "# TSLA Version\n",
    "# features=['Volume.1', 'Subjectivity', 'Polarity',\n",
    "#        'compound', 'neg', 'pos', 'neu', 'sma_short',\n",
    "#        'sma_long']\n",
    "\n",
    "# X = sentiment_df[features].shift().dropna().copy()\n",
    "# X.tail()\n",
    "\n",
    "#SP500 Version\n",
    "# create features variable with columns for X\n",
    "features=['Volume', 'Subjectivity', 'Polarity',\n",
    "       'compound', 'neg', 'pos', 'neu', 'sma_short',\n",
    "       'sma_long']\n",
    "\n",
    "X = sentiment_df[features].shift().dropna().copy()\n",
    "X.tail()"
   ]
  },
  {
   "cell_type": "code",
   "execution_count": 53,
   "id": "c5a2e5e1-f559-4a32-a3c5-2870e7990acc",
   "metadata": {
    "tags": []
   },
   "outputs": [],
   "source": [
    "y=(sentiment_df['daily returns']>0).astype(int)[1:]"
   ]
  },
  {
   "cell_type": "code",
   "execution_count": 54,
   "id": "6addb192-d4bc-493f-a36a-18094381b8ee",
   "metadata": {
    "tags": []
   },
   "outputs": [
    {
     "data": {
      "text/plain": [
       "557"
      ]
     },
     "metadata": {},
     "output_type": "display_data"
    },
    {
     "data": {
      "text/plain": [
       "557"
      ]
     },
     "metadata": {},
     "output_type": "display_data"
    }
   ],
   "source": [
    "# verify x and y are same length\n",
    "\n",
    "display(len(X))\n",
    "display(len(y))"
   ]
  },
  {
   "cell_type": "code",
   "execution_count": 55,
   "id": "341e07ff-7c57-4546-bf6d-94467bbc6761",
   "metadata": {
    "tags": []
   },
   "outputs": [
    {
     "name": "stdout",
     "output_type": "stream",
     "text": [
      "2018-05-02 00:00:00\n",
      "2020-05-02 00:00:00\n"
     ]
    },
    {
     "data": {
      "text/html": [
       "<div>\n",
       "<style scoped>\n",
       "    .dataframe tbody tr th:only-of-type {\n",
       "        vertical-align: middle;\n",
       "    }\n",
       "\n",
       "    .dataframe tbody tr th {\n",
       "        vertical-align: top;\n",
       "    }\n",
       "\n",
       "    .dataframe thead th {\n",
       "        text-align: right;\n",
       "    }\n",
       "</style>\n",
       "<table border=\"1\" class=\"dataframe\">\n",
       "  <thead>\n",
       "    <tr style=\"text-align: right;\">\n",
       "      <th></th>\n",
       "      <th>Volume</th>\n",
       "      <th>Subjectivity</th>\n",
       "      <th>Polarity</th>\n",
       "      <th>compound</th>\n",
       "      <th>neg</th>\n",
       "      <th>pos</th>\n",
       "      <th>neu</th>\n",
       "      <th>sma_short</th>\n",
       "      <th>sma_long</th>\n",
       "    </tr>\n",
       "    <tr>\n",
       "      <th>Time</th>\n",
       "      <th></th>\n",
       "      <th></th>\n",
       "      <th></th>\n",
       "      <th></th>\n",
       "      <th></th>\n",
       "      <th></th>\n",
       "      <th></th>\n",
       "      <th></th>\n",
       "      <th></th>\n",
       "    </tr>\n",
       "  </thead>\n",
       "  <tbody>\n",
       "    <tr>\n",
       "      <th>2018-05-02</th>\n",
       "      <td>148406800.0</td>\n",
       "      <td>0.457881</td>\n",
       "      <td>0.075017</td>\n",
       "      <td>0.6777</td>\n",
       "      <td>0.090</td>\n",
       "      <td>0.100</td>\n",
       "      <td>0.811</td>\n",
       "      <td>265.220478</td>\n",
       "      <td>270.549888</td>\n",
       "    </tr>\n",
       "    <tr>\n",
       "      <th>2018-05-03</th>\n",
       "      <td>172737800.0</td>\n",
       "      <td>0.422284</td>\n",
       "      <td>0.032336</td>\n",
       "      <td>0.9495</td>\n",
       "      <td>0.091</td>\n",
       "      <td>0.115</td>\n",
       "      <td>0.794</td>\n",
       "      <td>265.336193</td>\n",
       "      <td>270.494333</td>\n",
       "    </tr>\n",
       "    <tr>\n",
       "      <th>2018-05-04</th>\n",
       "      <td>272623000.0</td>\n",
       "      <td>0.368336</td>\n",
       "      <td>-0.015569</td>\n",
       "      <td>-0.9915</td>\n",
       "      <td>0.140</td>\n",
       "      <td>0.092</td>\n",
       "      <td>0.768</td>\n",
       "      <td>265.291431</td>\n",
       "      <td>270.443777</td>\n",
       "    </tr>\n",
       "    <tr>\n",
       "      <th>2018-05-07</th>\n",
       "      <td>182444200.0</td>\n",
       "      <td>0.383794</td>\n",
       "      <td>0.053681</td>\n",
       "      <td>-0.7620</td>\n",
       "      <td>0.144</td>\n",
       "      <td>0.133</td>\n",
       "      <td>0.724</td>\n",
       "      <td>265.309525</td>\n",
       "      <td>270.432555</td>\n",
       "    </tr>\n",
       "    <tr>\n",
       "      <th>2018-05-08</th>\n",
       "      <td>110609800.0</td>\n",
       "      <td>0.343329</td>\n",
       "      <td>0.035778</td>\n",
       "      <td>-0.9936</td>\n",
       "      <td>0.145</td>\n",
       "      <td>0.079</td>\n",
       "      <td>0.776</td>\n",
       "      <td>265.652383</td>\n",
       "      <td>270.425222</td>\n",
       "    </tr>\n",
       "  </tbody>\n",
       "</table>\n",
       "</div>"
      ],
      "text/plain": [
       "                 Volume  Subjectivity  Polarity  compound    neg    pos  \\\n",
       "Time                                                                      \n",
       "2018-05-02  148406800.0      0.457881  0.075017    0.6777  0.090  0.100   \n",
       "2018-05-03  172737800.0      0.422284  0.032336    0.9495  0.091  0.115   \n",
       "2018-05-04  272623000.0      0.368336 -0.015569   -0.9915  0.140  0.092   \n",
       "2018-05-07  182444200.0      0.383794  0.053681   -0.7620  0.144  0.133   \n",
       "2018-05-08  110609800.0      0.343329  0.035778   -0.9936  0.145  0.079   \n",
       "\n",
       "              neu   sma_short    sma_long  \n",
       "Time                                       \n",
       "2018-05-02  0.811  265.220478  270.549888  \n",
       "2018-05-03  0.794  265.336193  270.494333  \n",
       "2018-05-04  0.768  265.291431  270.443777  \n",
       "2018-05-07  0.724  265.309525  270.432555  \n",
       "2018-05-08  0.776  265.652383  270.425222  "
      ]
     },
     "execution_count": 55,
     "metadata": {},
     "output_type": "execute_result"
    }
   ],
   "source": [
    "# Select the start of the training period\n",
    "training_begin = X.index.min()\n",
    "\n",
    "# Display the training begin date\n",
    "print(training_begin)\n",
    "\n",
    "# Select the ending period for the training data with an offset of 3 months\n",
    "training_end = X.index.min() + DateOffset(months=24)\n",
    "\n",
    "# Display the training end date\n",
    "print(training_end)\n",
    "\n",
    "# Generate the X_train and y_train DataFrames\n",
    "X_train = X.loc[training_begin:training_end]\n",
    "y_train = y.loc[training_begin:training_end]\n",
    "\n",
    "# Review the X_train DataFrame\n",
    "X_train.head()\n",
    "\n",
    "# Generate the X_test and y_test DataFrames\n",
    "X_test = X.loc[training_end+DateOffset(hours=1):]\n",
    "y_test = y.loc[training_end+DateOffset(hours=1):]\n",
    "\n",
    "X_train['Volume'] = X_train['Volume'] * 2\n",
    "# X_train['Volume.1'] = X_train['Volume.1'] * 2\n",
    "\n",
    "# Review the X_test DataFrame\n",
    "X_train.head()"
   ]
  },
  {
   "cell_type": "code",
   "execution_count": 56,
   "id": "525166ae-24d3-4dbe-9d9b-09288e5c1ca1",
   "metadata": {
    "tags": []
   },
   "outputs": [],
   "source": [
    "## Scale the features DataFrames\n",
    "\n",
    "# Create a StandardScaler instance\n",
    "scaler = StandardScaler()\n",
    "\n",
    "# Apply the scaler model to fit the X-train data\n",
    "X_scaler = scaler.fit(X_train)\n",
    "\n",
    "# Transform the X_train and X_test DataFrames using the X_scaler\n",
    "X_train_scaled = X_scaler.transform(X_train)\n",
    "X_test_scaled = X_scaler.transform(X_test)"
   ]
  },
  {
   "cell_type": "code",
   "execution_count": 57,
   "id": "a0c23f33-6387-46f5-b33a-74f0889eeca3",
   "metadata": {
    "tags": []
   },
   "outputs": [
    {
     "name": "stdout",
     "output_type": "stream",
     "text": [
      "              precision    recall  f1-score   support\n",
      "\n",
      "           0       0.33      0.11      0.17        18\n",
      "           1       0.66      0.89      0.76        35\n",
      "\n",
      "    accuracy                           0.62        53\n",
      "   macro avg       0.50      0.50      0.46        53\n",
      "weighted avg       0.55      0.62      0.56        53\n",
      "\n"
     ]
    }
   ],
   "source": [
    "# Import Gaussian Naive Bayes classifier\n",
    "from sklearn.naive_bayes import GaussianNB\n",
    "\n",
    "# Instantiate Gaussian Naive Bayes model\n",
    "nb_model = GaussianNB()\n",
    "\n",
    "# Fit the model to the data using the training data\n",
    "nb_model = nb_model.fit(X_train_scaled, y_train)\n",
    "\n",
    "# Use the testing data to make the model predictions\n",
    "nb_pred = nb_model.predict(X_test_scaled)\n",
    "\n",
    "# Review the model's predicted values\n",
    "nb_pred[:10]\n",
    "\n",
    "# Use a classification report to evaluate the model using the predictions and testing data\n",
    "nb_testing_report = classification_report(y_test, nb_pred)\n",
    "\n",
    "# Print the classification report\n",
    "print(nb_testing_report)\n"
   ]
  },
  {
   "cell_type": "code",
   "execution_count": 61,
   "id": "bbdc776b-3bca-444c-9cba-d40b5e2faec9",
   "metadata": {
    "tags": []
   },
   "outputs": [
    {
     "data": {
      "text/html": [
       "<div>\n",
       "<style scoped>\n",
       "    .dataframe tbody tr th:only-of-type {\n",
       "        vertical-align: middle;\n",
       "    }\n",
       "\n",
       "    .dataframe tbody tr th {\n",
       "        vertical-align: top;\n",
       "    }\n",
       "\n",
       "    .dataframe thead th {\n",
       "        text-align: right;\n",
       "    }\n",
       "</style>\n",
       "<table border=\"1\" class=\"dataframe\">\n",
       "  <thead>\n",
       "    <tr style=\"text-align: right;\">\n",
       "      <th></th>\n",
       "      <th>Predicted</th>\n",
       "      <th>Actual Returns</th>\n",
       "      <th>Strategy Returns</th>\n",
       "    </tr>\n",
       "    <tr>\n",
       "      <th>Time</th>\n",
       "      <th></th>\n",
       "      <th></th>\n",
       "      <th></th>\n",
       "    </tr>\n",
       "  </thead>\n",
       "  <tbody>\n",
       "    <tr>\n",
       "      <th>2020-05-04</th>\n",
       "      <td>1</td>\n",
       "      <td>0.002758</td>\n",
       "      <td>0.002758</td>\n",
       "    </tr>\n",
       "    <tr>\n",
       "      <th>2020-05-05</th>\n",
       "      <td>1</td>\n",
       "      <td>0.009239</td>\n",
       "      <td>0.009239</td>\n",
       "    </tr>\n",
       "    <tr>\n",
       "      <th>2020-05-06</th>\n",
       "      <td>1</td>\n",
       "      <td>-0.006779</td>\n",
       "      <td>-0.006779</td>\n",
       "    </tr>\n",
       "    <tr>\n",
       "      <th>2020-05-07</th>\n",
       "      <td>1</td>\n",
       "      <td>0.012067</td>\n",
       "      <td>0.012067</td>\n",
       "    </tr>\n",
       "    <tr>\n",
       "      <th>2020-05-08</th>\n",
       "      <td>1</td>\n",
       "      <td>0.016546</td>\n",
       "      <td>0.016546</td>\n",
       "    </tr>\n",
       "  </tbody>\n",
       "</table>\n",
       "</div>"
      ],
      "text/plain": [
       "            Predicted  Actual Returns  Strategy Returns\n",
       "Time                                                   \n",
       "2020-05-04          1        0.002758          0.002758\n",
       "2020-05-05          1        0.009239          0.009239\n",
       "2020-05-06          1       -0.006779         -0.006779\n",
       "2020-05-07          1        0.012067          0.012067\n",
       "2020-05-08          1        0.016546          0.016546"
      ]
     },
     "execution_count": 61,
     "metadata": {},
     "output_type": "execute_result"
    }
   ],
   "source": [
    "# Create a predictions DataFrame\n",
    "predictions_sentiment_df = pd.DataFrame(index=X_test.index)\n",
    "\n",
    "# Add the Naive Bayes model predictions to the DataFrame\n",
    "predictions_sentiment_df['Predicted'] = nb_pred\n",
    "\n",
    "# Add the actual returns to the DataFrame\n",
    "predictions_sentiment_df['Actual Returns'] = sentiment_df['daily returns']\n",
    "\n",
    "# Add the strategy returns to the DataFrame\n",
    "predictions_sentiment_df['Strategy Returns'] = predictions_sentiment_df['Actual Returns'] * predictions_sentiment_df['Predicted']\n",
    "\n",
    "# Review the DataFrame\n",
    "predictions_sentiment_df.head()"
   ]
  },
  {
   "cell_type": "code",
   "execution_count": 59,
   "id": "48059532-202d-4058-a970-c2bfc7367d7e",
   "metadata": {
    "tags": []
   },
   "outputs": [
    {
     "data": {
      "text/plain": [
       "<Axes: title={'center': 'Naive Bayes Model'}, xlabel='Time'>"
      ]
     },
     "execution_count": 59,
     "metadata": {},
     "output_type": "execute_result"
    },
    {
     "data": {
      "image/png": "[encoded data removed]",
      "text/plain": [
       "<Figure size 640x480 with 1 Axes>"
      ]
     },
     "metadata": {},
     "output_type": "display_data"
    }
   ],
   "source": [
    "predictions_sentiment_df.plot(title='Naive Bayes Model')"
   ]
  },
  {
   "cell_type": "code",
   "execution_count": 60,
   "id": "dca1be0c-2132-45e3-8265-2811cdcb0788",
   "metadata": {
    "tags": []
   },
   "outputs": [
    {
     "data": {
      "image/png": "[encoded data removed]",
      "text/plain": [
       "<Figure size 640x480 with 1 Axes>"
      ]
     },
     "metadata": {},
     "output_type": "display_data"
    }
   ],
   "source": [
    "# Calculate cumulative actual returns\n",
    "predictions_sentiment_df['Cumulative Actual Returns'] = predictions_sentiment_df['Actual Returns'].cumsum()\n",
    "\n",
    "# Calculate cumulative strategy returns\n",
    "predictions_sentiment_df['Cumulative Strategy Returns'] = predictions_sentiment_df['Strategy Returns'].cumsum()\n",
    "\n",
    "# Plot the cumulative returns\n",
    "# predictions_sentiment_df[['Cumulative Actual Returns', 'Cumulative Strategy Returns']].plot(title='Cumulative Returns')\n",
    "linear_disc_plot = (1 + predictions_sentiment_df[[\"Cumulative Actual Returns\", \"Cumulative Strategy Returns\"]]).cumprod().plot()"
   ]
  }
 ],
 "metadata": {
  "kernelspec": {
   "display_name": "Python 3 (ipykernel)",
   "language": "python",
   "name": "python3"
  },
  "language_info": {
   "codemirror_mode": {
    "name": "ipython",
    "version": 3
   },
   "file_extension": ".py",
   "mimetype": "text/x-python",
   "name": "python",
   "nbconvert_exporter": "python",
   "pygments_lexer": "ipython3",
   "version": "3.9.17"
  },
  "widgets": {
   "application/vnd.jupyter.widget-state+json": {
    "state": {},
    "version_major": 2,
    "version_minor": 0
   }
  }
 },
 "nbformat": 4,
 "nbformat_minor": 5
}
